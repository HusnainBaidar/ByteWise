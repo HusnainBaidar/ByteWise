{
 "cells": [
  {
   "cell_type": "markdown",
   "id": "354eeedb",
   "metadata": {},
   "source": [
    "# Name : Husnain Baidar\n",
    "# Email : baidarhusnain@gmail.com"
   ]
  },
  {
   "cell_type": "markdown",
   "id": "391f38da",
   "metadata": {},
   "source": [
    "## First program"
   ]
  },
  {
   "cell_type": "code",
   "execution_count": 1,
   "id": "d5196fc5",
   "metadata": {
    "ExecuteTime": {
     "end_time": "2022-09-05T16:39:21.778400Z",
     "start_time": "2022-09-05T16:39:21.752473Z"
    }
   },
   "outputs": [
    {
     "name": "stdout",
     "output_type": "stream",
     "text": [
      "Hello World!\n"
     ]
    }
   ],
   "source": [
    "print ('Hello World!')"
   ]
  },
  {
   "cell_type": "markdown",
   "id": "904df88a",
   "metadata": {},
   "source": [
    "## Input"
   ]
  },
  {
   "cell_type": "code",
   "execution_count": 2,
   "id": "02328131",
   "metadata": {
    "ExecuteTime": {
     "end_time": "2022-09-05T16:42:49.223023Z",
     "start_time": "2022-09-05T16:42:45.407080Z"
    }
   },
   "outputs": [
    {
     "name": "stdout",
     "output_type": "stream",
     "text": [
      "Enter your age : 22\n",
      "22\n"
     ]
    }
   ],
   "source": [
    "age = input(\"Enter your age : \")\n",
    "print(age)"
   ]
  },
  {
   "cell_type": "markdown",
   "id": "f4b4b5ef",
   "metadata": {},
   "source": [
    "## Type Conversions"
   ]
  },
  {
   "cell_type": "code",
   "execution_count": 3,
   "id": "c6344bb6",
   "metadata": {
    "ExecuteTime": {
     "end_time": "2022-09-05T16:44:43.163558Z",
     "start_time": "2022-09-05T16:44:36.535861Z"
    }
   },
   "outputs": [
    {
     "name": "stdout",
     "output_type": "stream",
     "text": [
      "Enter your Date of Birth : 1999\n",
      "Age : 23\n"
     ]
    }
   ],
   "source": [
    "birth_year = int(input(\"Enter your Date of Birth : \"))\n",
    "age = 2022-birth_year\n",
    "print(\"Age : \"+str(age))"
   ]
  },
  {
   "cell_type": "code",
   "execution_count": 6,
   "id": "89a48e17",
   "metadata": {
    "ExecuteTime": {
     "end_time": "2022-09-05T16:55:54.765510Z",
     "start_time": "2022-09-05T16:55:50.249087Z"
    }
   },
   "outputs": [
    {
     "name": "stdout",
     "output_type": "stream",
     "text": [
      "Enter first input : 10\n",
      "Enter second input : 69\n",
      "Sum :  1069\n"
     ]
    }
   ],
   "source": [
    "first = input(\"Enter first input : \")\n",
    "second = input(\"Enter second input : \")\n",
    "sum = first + second\n",
    "print(\"Sum : \",sum)"
   ]
  },
  {
   "cell_type": "code",
   "execution_count": 7,
   "id": "53a0578c",
   "metadata": {
    "ExecuteTime": {
     "end_time": "2022-09-05T16:56:01.250675Z",
     "start_time": "2022-09-05T16:55:56.622299Z"
    }
   },
   "outputs": [
    {
     "name": "stdout",
     "output_type": "stream",
     "text": [
      "Enter first input : 10\n",
      "Enter second input : 69\n",
      "Sum :  79\n"
     ]
    }
   ],
   "source": [
    "first = input(\"Enter first input : \")\n",
    "second = input(\"Enter second input : \")\n",
    "sum = int(first) + int(second)\n",
    "print(\"Sum : \",sum)"
   ]
  },
  {
   "cell_type": "code",
   "execution_count": 8,
   "id": "1a542afc",
   "metadata": {
    "ExecuteTime": {
     "end_time": "2022-09-05T16:56:40.228988Z",
     "start_time": "2022-09-05T16:56:15.167775Z"
    }
   },
   "outputs": [
    {
     "name": "stdout",
     "output_type": "stream",
     "text": [
      "Enter first input : 10.1\n",
      "Enter second input : 69.69\n",
      "Sum :  79.78999999999999\n"
     ]
    }
   ],
   "source": [
    "first = input(\"Enter first input : \")\n",
    "second = input(\"Enter second input : \")\n",
    "sum = float(first) + float(second)\n",
    "print(\"Sum : \",sum)"
   ]
  },
  {
   "cell_type": "markdown",
   "id": "1cf62bf7",
   "metadata": {},
   "source": [
    "## String"
   ]
  },
  {
   "cell_type": "code",
   "execution_count": 11,
   "id": "eaba429d",
   "metadata": {
    "ExecuteTime": {
     "end_time": "2022-09-05T17:22:43.361965Z",
     "start_time": "2022-09-05T17:22:43.340967Z"
    }
   },
   "outputs": [
    {
     "name": "stdout",
     "output_type": "stream",
     "text": [
      "PYTHON IS A HIGH-LEVEL, GENERAL-PURPOSE PROGRAMMING LANGUAGE.\n",
      "python is a high-level, general-purpose programming language.\n",
      "7\n",
      "Python is a high-level, programming programming language.\n",
      "True\n"
     ]
    }
   ],
   "source": [
    "course='Python is a high-level, general-purpose programming language.'\n",
    "print(course.upper())\n",
    "print(course.lower())\n",
    "print(course.find('is'))\n",
    "print(course.replace('general-purpose','programming'))\n",
    "print('Python' in course)"
   ]
  },
  {
   "cell_type": "markdown",
   "id": "c44ddaa9",
   "metadata": {},
   "source": [
    "## Mathematic Operators"
   ]
  },
  {
   "cell_type": "code",
   "execution_count": 14,
   "id": "c6213533",
   "metadata": {
    "ExecuteTime": {
     "end_time": "2022-09-05T17:32:14.340359Z",
     "start_time": "2022-09-05T17:32:14.318898Z"
    }
   },
   "outputs": [
    {
     "name": "stdout",
     "output_type": "stream",
     "text": [
      "Addition :  46\n",
      "Division :  23.0\n",
      "Modulus :  1.0\n",
      "Multiplication :  88\n",
      "Exponent :  1936\n",
      "Subtraction :  42\n",
      "Floor Division :  22\n"
     ]
    }
   ],
   "source": [
    "a = 44\n",
    "b = 2\n",
    "c = a+b\n",
    "d = c/b\n",
    "f = d%b\n",
    "e = a*b\n",
    "g = a**b\n",
    "h = a-b\n",
    "i = a//b\n",
    "\n",
    "print(\"Addition : \",c)\n",
    "print(\"Division : \",d)\n",
    "print(\"Modulus : \",f)\n",
    "print(\"Multiplication : \",e)\n",
    "print(\"Exponent : \",g)\n",
    "print(\"Subtraction : \",h)\n",
    "print(\"Floor Division : \",i)"
   ]
  },
  {
   "cell_type": "markdown",
   "id": "e4e70788",
   "metadata": {},
   "source": [
    "## Logical Operators"
   ]
  },
  {
   "cell_type": "code",
   "execution_count": 19,
   "id": "90ebe732",
   "metadata": {
    "ExecuteTime": {
     "end_time": "2022-09-05T17:35:28.451902Z",
     "start_time": "2022-09-05T17:35:28.442901Z"
    }
   },
   "outputs": [
    {
     "name": "stdout",
     "output_type": "stream",
     "text": [
      "True\n",
      "True\n",
      "True\n",
      "True\n",
      "False\n"
     ]
    }
   ],
   "source": [
    "x = 4 > 2\n",
    "y =22 <= 22\n",
    "price=669\n",
    "\n",
    "print(x)\n",
    "print(y)\n",
    "print(price >600 and price <700)\n",
    "print(price >425 or price <660)\n",
    "print(not price >60)"
   ]
  },
  {
   "cell_type": "markdown",
   "id": "73974cc3",
   "metadata": {},
   "source": [
    "## If Else Statement"
   ]
  },
  {
   "cell_type": "code",
   "execution_count": 28,
   "id": "ca0cde33",
   "metadata": {
    "ExecuteTime": {
     "end_time": "2022-09-05T17:47:01.520500Z",
     "start_time": "2022-09-05T17:46:59.066258Z"
    }
   },
   "outputs": [
    {
     "name": "stdout",
     "output_type": "stream",
     "text": [
      "Enter today's temperature : 22\n",
      "It's a nice day\n",
      "\n",
      "!!Program Executed!!\n"
     ]
    }
   ],
   "source": [
    "temperature = float(input(\"Enter today's temperature : \"))\n",
    "if temperature > 30:\n",
    "    print (\"It's a hot day\")\n",
    "    print (\"Drink plenty of water\")\n",
    "elif temperature > 20:\n",
    "    print (\"It's a nice day\")\n",
    "elif temperature > 10:\n",
    "    print (\"It's a bit cold\")\n",
    "print (\"\\n!!Program Executed!!\")"
   ]
  },
  {
   "cell_type": "code",
   "execution_count": 25,
   "id": "e6340c23",
   "metadata": {
    "ExecuteTime": {
     "end_time": "2022-09-05T17:41:29.338458Z",
     "start_time": "2022-09-05T17:41:22.047097Z"
    }
   },
   "outputs": [
    {
     "name": "stdout",
     "output_type": "stream",
     "text": [
      "Please Enter Your Weight : 170\n",
      "KG or LBS: k\n",
      "Your weight in Lbs:377.77777777777777\n"
     ]
    }
   ],
   "source": [
    "Weight=int(input('Please Enter Your Weight : '))\n",
    "\n",
    "unit=input(\"KG or LBS: \")\n",
    "\n",
    "if unit.upper() =='KG' or unit.upper() =='K':\n",
    "    con=Weight/0.45\n",
    "    print(\"Your weight in Lbs:\"+ str(con))\n",
    "elif unit.upper() =='LBS' or unit.upper() =='L':\n",
    "    con=Weight *0.45\n",
    "    print(\"Your weight in Kg:\"+ str(con))\n",
    "else:\n",
    "    print('!! Error Unit is wrong !!')"
   ]
  },
  {
   "cell_type": "markdown",
   "id": "8ad4a4fd",
   "metadata": {},
   "source": [
    "## While Loop"
   ]
  },
  {
   "cell_type": "code",
   "execution_count": 32,
   "id": "e0b8fee4",
   "metadata": {
    "ExecuteTime": {
     "end_time": "2022-09-05T17:50:07.961206Z",
     "start_time": "2022-09-05T17:50:07.942204Z"
    }
   },
   "outputs": [
    {
     "name": "stdout",
     "output_type": "stream",
     "text": [
      "*\n",
      "**\n",
      "***\n",
      "****\n",
      "*****\n",
      "******\n",
      "*******\n",
      "********\n",
      "*********\n",
      "**********\n"
     ]
    }
   ],
   "source": [
    "i = 1\n",
    "while i <= 10:\n",
    "    print (i * \"*\")\n",
    "    i=i+1"
   ]
  },
  {
   "cell_type": "markdown",
   "id": "77767044",
   "metadata": {},
   "source": [
    "## List"
   ]
  },
  {
   "cell_type": "code",
   "execution_count": 42,
   "id": "89fdde34",
   "metadata": {
    "ExecuteTime": {
     "end_time": "2022-09-05T18:01:21.748680Z",
     "start_time": "2022-09-05T18:01:21.708779Z"
    }
   },
   "outputs": [
    {
     "name": "stdout",
     "output_type": "stream",
     "text": [
      "list1 :  ['physics', 'chemistry', 1997, 2000]\n",
      "list2 :  [1, 2, 3, 4, 5, 6, 7]\n",
      "\n",
      "list1 :  2000\n",
      "list2 :  [2, 3, 4]\n",
      "\n",
      "list1 :  ['physics', 'chemistry', 2001, 2000]\n",
      "\n",
      "list1 before del :  ['physics', 'chemistry', 2001, 2000]\n",
      "list1 after del:  ['physics', 'chemistry', 2000]\n",
      "\n",
      "list1 :  ['physics', 'chemistry', 2000, 2500]\n"
     ]
    },
    {
     "data": {
      "text/plain": [
       "1"
      ]
     },
     "execution_count": 42,
     "metadata": {},
     "output_type": "execute_result"
    }
   ],
   "source": [
    "## Creating lists\n",
    "list1 = ['physics', 'chemistry', 1997, 2000]\n",
    "list2 = [1, 2, 3, 4, 5, 6, 7 ]\n",
    "\n",
    "## Printing lists\n",
    "print(\"list1 : \",list1)\n",
    "print(\"list2 : \",list2)\n",
    "\n",
    "## Accessing Values in Lists\n",
    "print(\"\\nlist1 : \", list1[3])\n",
    "print(\"list2 : \", list2[1:4])\n",
    "\n",
    "## Updating Lists\n",
    "list1[2] = 2001\n",
    "print(\"\\nlist1 : \",list1)\n",
    "\n",
    "## Delete List Elements\n",
    "print(\"\\nlist1 before del : \",list1)\n",
    "del list1[2]\n",
    "print(\"list1 after del: \",list1)\n",
    "\n",
    "## Append \n",
    "list1.append(2500)\n",
    "print(\"\\nlist1 : \",list1)\n",
    "\n",
    "## count\n",
    "list1.count('physics')"
   ]
  },
  {
   "cell_type": "code",
   "execution_count": 46,
   "id": "fc25c92b",
   "metadata": {
    "ExecuteTime": {
     "end_time": "2022-09-05T18:04:44.664975Z",
     "start_time": "2022-09-05T18:04:44.649076Z"
    }
   },
   "outputs": [
    {
     "name": "stdout",
     "output_type": "stream",
     "text": [
      "[78.5, 89, 69, 173, 90, 89]\n",
      "<class 'list'>\n",
      "6\n",
      "[100, 78.5, 89, 69, 173, 90, 89]\n",
      "[]\n"
     ]
    }
   ],
   "source": [
    "marks=[78.5,89,69,173,90]\n",
    "\n",
    "marks.append(89)\n",
    "print(marks)\n",
    "print(type(marks))\n",
    "print(len(marks))\n",
    "\n",
    "marks.insert(0,100)\n",
    "print(marks)\n",
    "marks.clear()\n",
    "\n",
    "print(marks)"
   ]
  },
  {
   "cell_type": "markdown",
   "id": "b79f28b0",
   "metadata": {},
   "source": [
    "## For Loop"
   ]
  },
  {
   "cell_type": "code",
   "execution_count": 45,
   "id": "1efdf993",
   "metadata": {
    "ExecuteTime": {
     "end_time": "2022-09-05T18:04:31.055546Z",
     "start_time": "2022-09-05T18:04:31.039475Z"
    }
   },
   "outputs": [
    {
     "name": "stdout",
     "output_type": "stream",
     "text": [
      "Marks 78.5\n",
      "Marks 89\n",
      "Marks 69\n",
      "Marks 173\n",
      "Marks 90\n"
     ]
    }
   ],
   "source": [
    "marks=[78.5,89,69,173,90]\n",
    "for m in marks:\n",
    "    print('Marks'+ \" \" + str(m))"
   ]
  },
  {
   "cell_type": "markdown",
   "id": "aa6b9220",
   "metadata": {},
   "source": [
    "## Range "
   ]
  },
  {
   "cell_type": "code",
   "execution_count": 47,
   "id": "d1dddde5",
   "metadata": {
    "ExecuteTime": {
     "end_time": "2022-09-05T18:05:14.973237Z",
     "start_time": "2022-09-05T18:05:14.962854Z"
    }
   },
   "outputs": [
    {
     "name": "stdout",
     "output_type": "stream",
     "text": [
      "0\n",
      "2\n",
      "4\n",
      "6\n",
      "8\n"
     ]
    }
   ],
   "source": [
    "## Increments of 2\n",
    "for i in range(0,10,2):\n",
    "    print(i)"
   ]
  },
  {
   "cell_type": "code",
   "execution_count": 48,
   "id": "a91362a2",
   "metadata": {
    "ExecuteTime": {
     "end_time": "2022-09-05T18:05:22.303107Z",
     "start_time": "2022-09-05T18:05:22.292822Z"
    }
   },
   "outputs": [
    {
     "name": "stdout",
     "output_type": "stream",
     "text": [
      "0\n",
      "1\n",
      "2\n",
      "3\n",
      "4\n",
      "5\n",
      "6\n",
      "7\n",
      "8\n",
      "9\n"
     ]
    }
   ],
   "source": [
    "## Default increment\n",
    "for i in range(0,10):\n",
    "    print(i)"
   ]
  },
  {
   "cell_type": "markdown",
   "id": "b2a0dc9f",
   "metadata": {},
   "source": [
    "## Tuple"
   ]
  },
  {
   "cell_type": "code",
   "execution_count": 54,
   "id": "72449af2",
   "metadata": {
    "ExecuteTime": {
     "end_time": "2022-09-05T18:11:39.058788Z",
     "start_time": "2022-09-05T18:11:39.027912Z"
    }
   },
   "outputs": [
    {
     "name": "stdout",
     "output_type": "stream",
     "text": [
      "<class 'tuple'>\n",
      "('mouse', [8, 4, 6], (1, 2, 3))\n",
      "<class 'tuple'>\n"
     ]
    }
   ],
   "source": [
    "num = (1,2,3,4,5,6,7,8,9)\n",
    "print(type(num))\n",
    "tup = (\"mouse\", [8, 4, 6], (1, 2, 3))\n",
    "print(tup)\n",
    "print(type(tup))"
   ]
  },
  {
   "cell_type": "code",
   "execution_count": null,
   "id": "6239d594",
   "metadata": {},
   "outputs": [],
   "source": []
  }
 ],
 "metadata": {
  "kernelspec": {
   "display_name": "Python 3 (ipykernel)",
   "language": "python",
   "name": "python3"
  },
  "language_info": {
   "codemirror_mode": {
    "name": "ipython",
    "version": 3
   },
   "file_extension": ".py",
   "mimetype": "text/x-python",
   "name": "python",
   "nbconvert_exporter": "python",
   "pygments_lexer": "ipython3",
   "version": "3.8.8"
  }
 },
 "nbformat": 4,
 "nbformat_minor": 5
}
