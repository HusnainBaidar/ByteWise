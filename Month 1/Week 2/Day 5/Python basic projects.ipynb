{
 "cells": [
  {
   "cell_type": "markdown",
   "id": "53612a5c",
   "metadata": {},
   "source": [
    "## Quiz game"
   ]
  },
  {
   "cell_type": "code",
   "execution_count": 2,
   "id": "0ad9d9e6",
   "metadata": {
    "ExecuteTime": {
     "end_time": "2022-09-09T13:23:41.023458Z",
     "start_time": "2022-09-09T13:21:55.228784Z"
    }
   },
   "outputs": [
    {
     "name": "stdout",
     "output_type": "stream",
     "text": [
      "👋👋 Welcome to quiz game!👋👋\n",
      "\n",
      "Do you want to play? yes\n",
      "\n",
      "Okay! Let's play :)\n",
      "\n",
      "What does CPU stand for? central processing unit\n",
      "Correct!\n",
      "\n",
      "What does GPU stand for? graphics processing unit\n",
      "Correct!\n",
      "\n",
      "What does RAM stand for? random access memory\n",
      "Correct!\n",
      "\n",
      "What does PSU stand for? power supply\n",
      "Correct!\n",
      "🎉🎉 Congratulations you have won the quiz! 🎉🎉\n",
      "\n",
      "You got 4 questions correct!\n",
      "\n",
      "You got 100.0%.\n"
     ]
    }
   ],
   "source": [
    "print(\"👋👋 Welcome to quiz game!👋👋\")\n",
    "\n",
    "playing = input(\"\\nDo you want to play? \")\n",
    "\n",
    "if playing.lower() != \"yes\":\n",
    "    quit()\n",
    "\n",
    "print(\"\\nOkay! Let's play :)\")\n",
    "score = 0\n",
    "\n",
    "answer = input(\"\\nWhat does CPU stand for? \")\n",
    "if answer.lower() == \"central processing unit\":\n",
    "    print('Correct!')\n",
    "    score += 1\n",
    "else:\n",
    "    print(\"Incorrect!\")\n",
    "\n",
    "answer = input(\"\\nWhat does GPU stand for? \")\n",
    "if answer.lower() == \"graphics processing unit\":\n",
    "    print('Correct!')\n",
    "    score += 1\n",
    "else:\n",
    "    print(\"Incorrect!\")\n",
    "\n",
    "answer = input(\"\\nWhat does RAM stand for? \")\n",
    "if answer.lower() == \"random access memory\":\n",
    "    print('Correct!')\n",
    "    score += 1\n",
    "else:\n",
    "    print(\"Incorrect!\")\n",
    "\n",
    "answer = input(\"\\nWhat does PSU stand for? \")\n",
    "if answer.lower() == \"power supply\":\n",
    "    print('Correct!')\n",
    "    score += 1\n",
    "else:\n",
    "    print(\"Incorrect!\")\n",
    "\n",
    "if score == 4:\n",
    "    print(\"🎉🎉 Congratulations you have won the quiz! 🎉🎉\")\n",
    "    \n",
    "print(\"\\nYou got \" + str(score) + \" questions correct!\")\n",
    "print(\"\\nYou got \" + str((score / 4) * 100) + \"%.\")"
   ]
  },
  {
   "cell_type": "markdown",
   "id": "a53e3f9b",
   "metadata": {},
   "source": [
    "## Number guessing game"
   ]
  },
  {
   "cell_type": "code",
   "execution_count": 5,
   "id": "5354a94b",
   "metadata": {
    "ExecuteTime": {
     "end_time": "2022-09-09T13:47:34.741471Z",
     "start_time": "2022-09-09T13:47:24.376865Z"
    }
   },
   "outputs": [
    {
     "name": "stdout",
     "output_type": "stream",
     "text": [
      "Enter a number for maximum range : 50\n",
      "Make a guess: 25\n",
      "You are above the number!\n",
      "Make a guess: 10\n",
      "You are below the number!\n",
      "Make a guess: 15\n",
      "You got it!\n",
      "You got it in 3 guesses\n"
     ]
    }
   ],
   "source": [
    "import random\n",
    "\n",
    "top_of_range = input(\"Enter a number for maximum range : \")\n",
    "\n",
    "if top_of_range.isdigit():\n",
    "    top_of_range = int(top_of_range)\n",
    "\n",
    "    if top_of_range <= 0:\n",
    "        print('Please enter a number larger than 0!')\n",
    "        quit()\n",
    "else:\n",
    "    print('Quiting the game..... \\n\\n\\nQuit Sucessful!!')\n",
    "    quit()\n",
    "\n",
    "random_number = random.randint(0, top_of_range)\n",
    "guesses = 0\n",
    "\n",
    "while True:\n",
    "    guesses += 1\n",
    "    user_guess = input(\"Make a guess: \")\n",
    "    if user_guess.isdigit():\n",
    "        user_guess = int(user_guess)\n",
    "    else:\n",
    "        print('No input given!!')\n",
    "        continue\n",
    "\n",
    "    if user_guess == random_number:\n",
    "        print(\"You got it!\")\n",
    "        break\n",
    "    elif user_guess > random_number:\n",
    "        print(\"You are above the number!\")\n",
    "    else:\n",
    "        print(\"You are below the number!\")\n",
    "\n",
    "print(\"You got it in\", guesses, \"guesses\")"
   ]
  },
  {
   "attachments": {},
   "cell_type": "markdown",
   "id": "3f81a13b",
   "metadata": {},
   "source": [
    "## Rock Paper 📜 Scissors ✂️"
   ]
  },
  {
   "cell_type": "code",
   "execution_count": 8,
   "id": "1228e6ce",
   "metadata": {
    "ExecuteTime": {
     "end_time": "2022-09-09T13:53:45.137654Z",
     "start_time": "2022-09-09T13:52:59.077494Z"
    }
   },
   "outputs": [
    {
     "name": "stdout",
     "output_type": "stream",
     "text": [
      "Type Rock/Paper/Scissors or Q to quit: rock\n",
      "Computer picked scissors.\n",
      "You won!\n",
      "Type Rock/Paper/Scissors or Q to quit: rock\n",
      "Computer picked scissors.\n",
      "You won!\n",
      "Type Rock/Paper/Scissors or Q to quit: rock\n",
      "Computer picked paper.\n",
      "You lost!\n",
      "Type Rock/Paper/Scissors or Q to quit: rock\n",
      "Computer picked scissors.\n",
      "You won!\n",
      "Type Rock/Paper/Scissors or Q to quit: rock\n",
      "Computer picked paper.\n",
      "You lost!\n",
      "Type Rock/Paper/Scissors or Q to quit: rock\n",
      "Computer picked scissors.\n",
      "You won!\n",
      "Type Rock/Paper/Scissors or Q to quit: rock\n",
      "Computer picked paper.\n",
      "You lost!\n",
      "Type Rock/Paper/Scissors or Q to quit: rock\n",
      "Computer picked scissors.\n",
      "You won!\n",
      "Type Rock/Paper/Scissors or Q to quit: rock\n",
      "Computer picked paper.\n",
      "You lost!\n",
      "Type Rock/Paper/Scissors or Q to quit: rock\n",
      "Computer picked paper.\n",
      "You lost!\n",
      "Type Rock/Paper/Scissors or Q to quit: rock\n",
      "Computer picked scissors.\n",
      "You won!\n",
      "Type Rock/Paper/Scissors or Q to quit: rock\n",
      "Computer picked paper.\n",
      "You lost!\n",
      "Type Rock/Paper/Scissors or Q to quit: rock\n",
      "Computer picked paper.\n",
      "You lost!\n",
      "Type Rock/Paper/Scissors or Q to quit: rock\n",
      "Computer picked rock.\n",
      "Draw round!\n",
      "Type Rock/Paper/Scissors or Q to quit: q\n",
      "\n",
      "You won 🏆  6 times.\n",
      "\n",
      "The computer won 🏆  7 times.\n",
      "Goodbye!\n"
     ]
    }
   ],
   "source": [
    "import random\n",
    "\n",
    "user_wins = 0\n",
    "computer_wins = 0\n",
    "\n",
    "options = [\"rock\", \"paper\", \"scissors\"]\n",
    "\n",
    "while True:\n",
    "    user_input = input(\"Type Rock/Paper/Scissors or Q to quit: \").lower()\n",
    "    if user_input == \"q\":\n",
    "        break\n",
    "\n",
    "    if user_input not in options:\n",
    "        continue\n",
    "\n",
    "    random_number = random.randint(0, 2)\n",
    "    # rock: 0, paper: 1, scissors: 2\n",
    "    computer_pick = options[random_number]\n",
    "    print(\"Computer picked\", computer_pick + \".\")\n",
    "\n",
    "    if user_input == \"rock\" and computer_pick == \"scissors\":\n",
    "        print(\"You won!\")\n",
    "        user_wins += 1\n",
    "\n",
    "    elif user_input == \"paper\" and computer_pick == \"rock\":\n",
    "        print(\"You won!\")\n",
    "        user_wins += 1\n",
    "\n",
    "    elif user_input == \"scissors\" and computer_pick == \"paper\":\n",
    "        print(\"You won!\")\n",
    "        user_wins += 1\n",
    "        \n",
    "    elif user_input == computer_pick:\n",
    "        print(\"Draw round!\")\n",
    "\n",
    "    else:\n",
    "        print(\"You lost!\")\n",
    "        computer_wins += 1\n",
    "\n",
    "print(\"\\nYou won 🏆 \", user_wins, \"times.\")\n",
    "print(\"\\nThe computer won 🏆 \", computer_wins, \"times.\")\n",
    "print(\"Goodbye!\")"
   ]
  },
  {
   "cell_type": "code",
   "execution_count": null,
   "id": "5e4fe2b1",
   "metadata": {},
   "outputs": [],
   "source": []
  }
 ],
 "metadata": {
  "kernelspec": {
   "display_name": "Python 3 (ipykernel)",
   "language": "python",
   "name": "python3"
  },
  "language_info": {
   "codemirror_mode": {
    "name": "ipython",
    "version": 3
   },
   "file_extension": ".py",
   "mimetype": "text/x-python",
   "name": "python",
   "nbconvert_exporter": "python",
   "pygments_lexer": "ipython3",
   "version": "3.8.8"
  }
 },
 "nbformat": 4,
 "nbformat_minor": 5
}
