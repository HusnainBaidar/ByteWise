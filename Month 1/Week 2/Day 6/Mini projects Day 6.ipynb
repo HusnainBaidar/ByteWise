{
 "cells": [
  {
   "cell_type": "markdown",
   "id": "6e2656ab",
   "metadata": {
    "ExecuteTime": {
     "end_time": "2022-09-10T19:02:27.053193Z",
     "start_time": "2022-09-10T19:02:27.037188Z"
    }
   },
   "source": [
    "## Choose Your Own Adventure"
   ]
  },
  {
   "cell_type": "code",
   "execution_count": 5,
   "id": "917053fb",
   "metadata": {
    "ExecuteTime": {
     "end_time": "2022-09-10T19:05:28.910889Z",
     "start_time": "2022-09-10T19:03:25.339854Z"
    }
   },
   "outputs": [
    {
     "name": "stdout",
     "output_type": "stream",
     "text": [
      "Enter your name : Husnain\n",
      "Welcome Husnain to this adventure!\n",
      "You are on a dirt road, it has come to an end and you can go left or right. Which way would you like to go? yes\n",
      "Not a valid option. You lose.\n",
      "Thank you for trying Husnain\n"
     ]
    }
   ],
   "source": [
    "name = input(\"Enter your name : \")\n",
    "print(\"\\nWelcome\", name, \"to this adventure!\")\n",
    "\n",
    "answer = input(\"You are on a dirt road, it has come to an end and you can go left or right. Which way would you like to go? \").lower()\n",
    "\n",
    "if answer == \"left\":\n",
    "    answer = input(\"You come to a river, you can walk around it or swim accross? Type walk to walk around and swim to swim accross: \")\n",
    "\n",
    "    if answer == \"swim\":\n",
    "        print(\"You swam acrross and were eaten by an alligator.\")\n",
    "    elif answer == \"walk\":\n",
    "        print(\"You walked for many miles, ran out of water and you lost the game.\")\n",
    "    else:\n",
    "        print('Not a valid option. You lose.')\n",
    "\n",
    "elif answer == \"right\":\n",
    "    answer = input(\n",
    "        \"You come to a bridge, it looks wobbly, do you want to cross it or head back (cross/back)? \")\n",
    "\n",
    "    if answer == \"back\":\n",
    "        print(\"You go back and lose.\")\n",
    "    elif answer == \"cross\":\n",
    "        answer = input(\n",
    "            \"You cross the bridge and meet a stranger. Do you talk to them (yes/no)? \")\n",
    "\n",
    "        if answer == \"yes\":\n",
    "            print(\"You talk to the stanger and they give you gold. You WIN!\")\n",
    "        elif answer == \"no\":\n",
    "            print(\"You ignore the stranger and they are offended and you lose.\")\n",
    "        else:\n",
    "            print('Not a valid option. You lose.')\n",
    "    else:\n",
    "        print('Not a valid option. You lose.')\n",
    "\n",
    "else:\n",
    "    print('Not a valid option. You lose.')\n",
    "\n",
    "print(\"Thank you for trying\", name)"
   ]
  },
  {
   "cell_type": "markdown",
   "id": "66dfbf93",
   "metadata": {},
   "source": [
    "## Password Manager"
   ]
  },
  {
   "cell_type": "code",
   "execution_count": 3,
   "id": "366722ea",
   "metadata": {
    "ExecuteTime": {
     "end_time": "2022-09-10T19:00:35.610848Z",
     "start_time": "2022-09-10T19:00:02.304429Z"
    }
   },
   "outputs": [
    {
     "name": "stdout",
     "output_type": "stream",
     "text": [
      "Would you like to add a new password or view existing ones (view, add), press q to quit? add\n",
      "Account Name: Husnain\n",
      "Password: abc123***\n",
      "Would you like to add a new password or view existing ones (view, add), press q to quit? view\n",
      "User: Husnain | Password: abc123***\n",
      "Would you like to add a new password or view existing ones (view, add), press q to quit? q\n"
     ]
    }
   ],
   "source": [
    "from cryptography.fernet import Fernet\n",
    "\n",
    "def load_key():\n",
    "    file = open(\"key.key\", \"rb\")\n",
    "    key = file.read()\n",
    "    file.close()\n",
    "    return key\n",
    "\n",
    "\n",
    "key = load_key()\n",
    "fer = Fernet(key)\n",
    "\n",
    "\n",
    "def view():\n",
    "    with open('passwords.txt', 'r') as f:\n",
    "        for line in f.readlines():\n",
    "            data = line.rstrip()\n",
    "            user, passw = data.split(\"|\")\n",
    "            print(\"User:\", user, \"| Password:\",\n",
    "                  fer.decrypt(passw.encode()).decode())\n",
    "\n",
    "\n",
    "def add():\n",
    "    name = input('Account Name: ')\n",
    "    pwd = input(\"Password: \")\n",
    "\n",
    "    with open('passwords.txt', 'a') as f:\n",
    "        f.write(name + \"|\" + fer.encrypt(pwd.encode()).decode() + \"\\n\")\n",
    "\n",
    "\n",
    "while True:\n",
    "    mode = input(\n",
    "        \"Would you like to add a new password or view existing ones (view, add), press q to quit? \").lower()\n",
    "    if mode == \"q\":\n",
    "        break\n",
    "\n",
    "    if mode == \"view\":\n",
    "        view()\n",
    "    elif mode == \"add\":\n",
    "        add()\n",
    "    else:\n",
    "        print(\"Invalid mode.\")\n",
    "        continue"
   ]
  },
  {
   "cell_type": "code",
   "execution_count": null,
   "id": "59431518",
   "metadata": {},
   "outputs": [],
   "source": []
  }
 ],
 "metadata": {
  "kernelspec": {
   "display_name": "Python 3 (ipykernel)",
   "language": "python",
   "name": "python3"
  },
  "language_info": {
   "codemirror_mode": {
    "name": "ipython",
    "version": 3
   },
   "file_extension": ".py",
   "mimetype": "text/x-python",
   "name": "python",
   "nbconvert_exporter": "python",
   "pygments_lexer": "ipython3",
   "version": "3.8.8"
  }
 },
 "nbformat": 4,
 "nbformat_minor": 5
}
