{
 "cells": [
  {
   "cell_type": "markdown",
   "id": "3cfcc9c9",
   "metadata": {},
   "source": [
    "## Scraping Data without using BS4"
   ]
  },
  {
   "cell_type": "code",
   "execution_count": 84,
   "id": "524da3f8",
   "metadata": {
    "ExecuteTime": {
     "end_time": "2022-09-30T13:07:53.388096Z",
     "start_time": "2022-09-30T13:07:53.383097Z"
    }
   },
   "outputs": [],
   "source": [
    "import wikipedia as w\n",
    "import pandas as pd"
   ]
  },
  {
   "cell_type": "code",
   "execution_count": 85,
   "id": "c919aa2b",
   "metadata": {
    "ExecuteTime": {
     "end_time": "2022-09-30T13:07:53.748522Z",
     "start_time": "2022-09-30T13:07:53.727615Z"
    },
    "scrolled": false
   },
   "outputs": [
    {
     "data": {
      "text/plain": [
       "'The Flash (or simply Flash) is the name of several superheroes appearing in American comic books published by DC Comics. Created by writer Gardner Fox and artist Harry Lampert, the original Flash first appeared in Flash Comics #1 (cover date January 1940/release month November 1939). Nicknamed \"the Scarlet Speedster\", all incarnations of the Flash possess \"superspeed\", which includes the ability to run, move, and think extremely fast, use superhuman reflexes, and seemingly violate certain laws of physics.\\nThus far, at least five different characters—each of whom somehow gained the power of \"the Speed Force\"—have assumed the mantle of the Flash in DC\\'s history: college athlete Jay Garrick (1940–1951, 1961–2011, 2017–present), forensic scientist Barry Allen (1956–1985, 2008–present), Barry\\'s nephew Wally West (1986–2011, 2016–present), Barry\\'s grandson Bart Allen (2006–2007), and Chinese-American Avery Ho (2017–present). Each incarnation of the Flash has been a key member of at least one of DC\\'s premier teams: the Justice Society of America, the Justice League, and the Teen Titans.\\nThe Flash is one of DC Comics\\' most popular characters and has been integral to the publisher\\'s many reality-changing \"crisis\" story lines over the years. The original meeting of the Golden Age Flash Jay Garrick and Silver Age Flash Barry Allen in \"Flash of Two Worlds\" (1961) introduced the Multiverse storytelling concept to DC readers, which would become the basis for many DC stories in the years to come.\\nLike his Justice League colleagues Wonder Woman, Superman and Batman, the Flash has a distinctive cast of adversaries, including the various Rogues (unique among DC supervillains for their code of honor) and the various psychopathic \"speedsters\" who go by the names Reverse-Flash or Zoom. Other supporting characters in Flash stories include Barry\\'s wife Iris West, Wally\\'s wife Linda Park, Bart\\'s girlfriend Valerie Perez, friendly fellow speedster Max Mercury, and Central City police department members David Singh and Patty Spivot.\\nA staple of the comic book DC Universe, the Flash has been adapted to numerous DC films, video games, animated series, and live-action television shows. In live-action, Barry Allen has been portrayed by Rod Haase for the 1979 television special Legends of the Superheroes, John Wesley Shipp in the 1990 The Flash series and Grant Gustin in the 2014 The Flash series, and by Ezra Miller in the DC Extended Universe series of films, beginning with Batman v Superman: Dawn of Justice (2016). Shipp also portrays a version of Jay Garrick in the 2014 The Flash series. The various incarnations of the Flash also feature in animated series such as Superman: The Animated Series, Justice League, Batman: The Brave and the Bold and Young Justice, as well as the DC Universe Animated Original Movies series.'"
      ]
     },
     "execution_count": 85,
     "metadata": {},
     "output_type": "execute_result"
    }
   ],
   "source": [
    "text=w.summary(\"Flash (DC Comics character)\")\n",
    "text"
   ]
  },
  {
   "cell_type": "code",
   "execution_count": 86,
   "id": "22f71c3f",
   "metadata": {
    "ExecuteTime": {
     "end_time": "2022-09-30T13:07:58.379699Z",
     "start_time": "2022-09-30T13:07:54.067963Z"
    }
   },
   "outputs": [
    {
     "name": "stdout",
     "output_type": "stream",
     "text": [
      "Page title :  Flash (DC Comics character) \n",
      "\n",
      "Page content :  The Flash (or simply Flash) is the name of several superheroes appearing in American comic books published by DC Comics. Created by writer Gardner Fox and artist Harry Lampert, the original Flash first appeared in Flash Comics #1 (cover date January 1940/release month November 1939). Nicknamed \"the Scarlet Speedster\", all incarnations of the Flash possess \"superspeed\", which includes the ability to run, move, and think extremely fast, use superhuman reflexes, and seemingly violate certain laws of physics.\n",
      "Thus far, at least five different characters—each of whom somehow gained the power of \"the Speed Force\"—have assumed the mantle of the Flash in DC's history: college athlete Jay Garrick (1940–1951, 1961–2011, 2017–present), forensic scientist Barry Allen (1956–1985, 2008–present), Barry's nephew Wally West (1986–2011, 2016–present), Barry's grandson Bart Allen (2006–2007), and Chinese-American Avery Ho (2017–present). Each incarnation of the Flash has been a key member of at least one of DC's premier teams: the Justice Society of America, the Justice League, and the Teen Titans.\n",
      "The Flash is one of DC Comics' most popular characters and has been integral to the publisher's many reality-changing \"crisis\" story lines over the years. The original meeting of the Golden Age Flash Jay Garrick and Silver Age Flash Barry Allen in \"Flash of Two Worlds\" (1961) introduced the Multiverse storytelling concept to DC readers, which would become the basis for many DC stories in the years to come.\n",
      "Like his Justice League colleagues Wonder Woman, Superman and Batman, the Flash has a distinctive cast of adversaries, including the various Rogues (unique among DC supervillains for their code of honor) and the various psychopathic \"speedsters\" who go by the names Reverse-Flash or Zoom. Other supporting characters in Flash stories include Barry's wife Iris West, Wally's wife Linda Park, Bart's girlfriend Valerie Perez, friendly fellow speedster Max Mercury, and Central City police department members David Singh and Patty Spivot.\n",
      "A staple of the comic book DC Universe, the Flash has been adapted to numerous DC films, video games, animated series, and live-action television shows. In live-action, Barry Allen has been portrayed by Rod Haase for the 1979 television special Legends of the Superheroes, John Wesley Shipp in the 1990 The Flash series and Grant Gustin in the 2014 The Flash series, and by Ezra Miller in the DC Extended Universe series of films, beginning with Batman v Superman: Dawn of Justice (2016). Shipp also portrays a version of Jay Garrick in the 2014 The Flash series. The various incarnations of the Flash also feature in animated series such as Superman: The Animated Series, Justice League, Batman: The Brave and the Bold and Young Justice, as well as the DC Universe Animated Original Movies series.\n",
      "\n",
      "\n",
      "== Publication history ==\n",
      "\n",
      "\n",
      "=== Golden Age ===\n",
      "The Flash first appeared in the Golden Age Flash Comics #1 (January 1940), from All-American Publications, one of three companies that would eventually merge to form DC Comics. Created by writer Gardner Fox and artist Harry Lampert, this Flash was Jay Garrick, a college student who gained his speed through the inhalation of hard water vapors. When re-introduced in the 1960s Garrick's origin was modified slightly, gaining his powers through exposure to heavy water.\n",
      "Jay Garrick was a popular character in the 1940s, supporting both Flash Comics and All-Flash Quarterly (later published bi-monthly as simply All-Flash); co-starring in Comic Cavalcade; and being a charter member of the Justice Society of America, the first superhero team, whose adventures ran in All Star Comics. With superheroes' post-war decline in popularity, Flash Comics was canceled with issue #104 (1949) which featured an evil version of the Flash called the Rival. The Justice Society's final Golden Age story ran in All Star Comics #57 (1951; the title itself continued as All Star Western).\n",
      "\n",
      "\n",
      "=== Silver Age ===\n",
      "In 1956, DC Comics successfully revived superheroes, ushering in what became known as the Silver Age of comic books. Rather than bringing back the same Golden Age heroes, DC rethought them as new characters for the modern age. The Flash was the first revival, in the tryout comic book Showcase #4 (October 1956).\n",
      "This new Flash was (Barry Allen), a police scientist who gained super-speed when bathed by chemicals after a shelf of them was struck by lightning. He adopted the name The Scarlet Speedster after reading a comic book featuring the Golden Age Flash. After several more appearances in Showcase, Allen's character was given his own title, The Flash, the first issue of which was #105 (resuming where Flash Comics had left off). Barry Allen and the new Flash were created by writers Robert Kanigher and John Broome and cartoonist Carmine Infantino.\n",
      "The Silver Age Flash proved popular enough that several other Golden Age heroes were revived in new incarnations (see: Green Lantern). A new superhero team, the Justice League of America, was also created, with the Flash as a main, charter member.\n",
      "Barry Allen's title also introduced a much-imitated plot device into superhero comics when it was revealed that Garrick and Allen existed on fictional parallel worlds. Their powers allowed them to cross the dimensional boundary between worlds, and the men became good friends. Flash of Two Worlds (The Flash #123) was the first crossover in which a Golden Age character met a Silver Age character. Soon, there were crossovers between the entire Justice League and the Justice Society; their respective teams began an annual get-together which endured from the early 1960s until the mid-1980s.\n",
      "Allen's adventures continued in his own title until the event of Crisis on Infinite Earths. The Flash ended as a series with issue #350. Allen's life had become considerably confused in the early 1980s, and DC elected to end his adventures and pass the mantle on to another character. Allen died heroically in Crisis on Infinite Earths #8 (1985). Thanks to his ability to travel through time, he would continue to appear occasionally in the years to come.\n",
      "\n",
      "\n",
      "=== Modern Age ===\n",
      "The third Flash was Wally West, introduced in The Flash #110 (December 1959) as Kid Flash. West, Allen's nephew by marriage, gained the Flash's powers through an accident identical to Allen's. Adopting the identity of Kid Flash, he maintained membership in the Teen Titans for years. Following Allen's death, West adopted the Flash identity in Crisis on Infinite Earths #12 and was given his own series, beginning with The Flash (vol. 2) #1 in 1987. Many issues began with the catchphrase: \"My name is Wally West. I'm the fastest man alive.\"\n",
      "Due to the Infinite Crisis miniseries and the \"One Year Later\" jump in time in the DC Universe, DC canceled The Flash (vol. 2) in January 2006 at #230. A new series, The Flash: The Fastest Man Alive, began on June 21, 2006. The initial story arc of this series, written by Danny Bilson and Paul De Meo with art by Ken Lashley, focused on Bart Allen's acceptance of the role of the Flash.\n",
      "Flash: Fastest Man Alive was canceled with issue #13. In its place The Flash (vol. 2) was revived with issue #231, with Mark Waid as the initial writer. Waid also wrote All-Flash #1, which acted as the bridge between the two series. DC had solicited The Flash: The Fastest Man Alive through issue #15. All Flash #1 replaced issue #14 and The Flash (vol. 2) #231 replaced issue #15 in title and interior creative team only. The covers and cover artists were as solicited by DC, and the information text released was devoid of any plot information.In 2009, Barry Allen made a full-fledged return to the DCU-proper in The Flash: Rebirth, a six-issue miniseries by Geoff Johns and Ethan Van Sciver.\n",
      "\n",
      "\n",
      "== Fictional character biographies ==\n",
      "While several other individuals have used the name Flash, these have either on parallel worlds or in the future. Jay Garrick, Barry Allen, and Wally West are the best-known exemplars of the identity.\n",
      "The signature wingdings are never absent.\n",
      "\n",
      "\n",
      "=== Jay Garrick ===\n",
      "\n",
      "Jay Garrick was a college student in 1938 who accidentally inhaled heavy water vapors after taking a smoke break inside his laboratory where he had been working. As a result, he found that he could run at superhuman speed and had similarly fast reflexes. After a brief career as a college football star, he donned a red shirt with a lightning bolt and a stylized metal helmet with wings (based on images of the Greek deity Hermes), and began to fight crime as the Flash. His first case involved battling the \"Faultless Four\", a group of blackmailers. Garrick kept his identity secret for years without a mask by continually vibrating his body while in public so that any photograph of his face would be blurred. Although originally from Earth-Two, he was incorporated into the history of New Earth following the Crisis on Infinite Earths and is still active as the Flash operating out of Keystone City. He is a member of the Justice Society.\n",
      "\n",
      "\n",
      "=== Barry Allen ===\n",
      "\n",
      "Barry Allen is an assistant scientist from the Criminal and Forensic Science Division of Central City Police Department. Barry had a reputation for being very slow, deliberate, and frequently late, which frustrated his fiancée, Iris West. One night, as he was preparing to leave work, a freak lightning bolt struck a nearby shelf in his lab and doused him with a cocktail of unnamed chemicals. As a result, Barry found that he could run extremely fast and had matching reflexes. He donned a set of red tights sporting a lightning bolt (reminiscent of the original Fawcett Comics Captain Marvel), dubbed himself the Flash (after his childhood hero, Jay Garrick), and became a crimefighter active in Central City. In his civilian identity, he stores the costume compressed in a special ring via the use of a special gas that could compress cloth fibers to a very small fraction of their normal size.\n",
      "Barry sacrificed his life for the universe in the 1985 maxi-series Crisis on Infinite Earths and remained dead for over twenty years after that story's publication. With the 2008 series Final Crisis, Barry returned to the DC Universe and returned to full prominence as the Flash in the 2009 series The Flash: Rebirth, which was soon after followed by a new volume of The Flash ongoing series, where Barry's adventures as the Scarlet Speedster were published until 2020.\n",
      "\n",
      "\n",
      "=== Wally West ===\n",
      "\n",
      "Wallace Rudolph \"Wally\" West is the nephew of both Iris West and Barry Allen, by marriage, and was introduced in The Flash #110 (1959). When West was about ten years old, he was visiting his uncle's police laboratory, and the freak accident that gave Allen his powers repeated itself, bathing West in electrically charged chemicals. Now possessing the same powers as his uncle, West donned a copy of his uncle's outfit and became the young, crime fighter, Kid Flash. After the events of Crisis on Infinite Earths where Barry Allen was killed, Wally took over as the fastest man alive. Following the events of Infinite Crisis, Wally, his wife Linda, and their twins left Earth for an unknown dimension.\n",
      "Wally, his wife, and twins were pulled back from the Speed Force by the Legion of Super-Heroes at the conclusion of The Lightning Saga. This set the stage for Wally West's return as the Flash after the events of The Flash: Fastest Man Alive #13 (see Bart Allen), in All Flash #1, and with The Flash (vol. 2) series, which resumed with issue #231 in August 2007. It subsequently ends with issue #247, and West, along with all the other Flash characters, play a large role in 2009's The Flash: Rebirth. He briefly appears in the Blackest Night story arc but shortly after the New 52 was launched and the character was nowhere to be seen. He is back as the Flash in DC Rebirth with a new red and silver costume, and joined the Titans. After a series of events, Wally is restored as the central character of The Flash series, becoming the primary Scarlet Speedster again since The Flash #771 (2021), where Wally's adventures as the Fastest Man Alive are currently published, and returned to his main red and gold Flash costume.\n",
      "\n",
      "\n",
      "=== Bart Allen ===\n",
      "\n",
      "Bartholomew Henry \"Bart\" Allen II is the grandson of Barry Allen and his wife Iris. Bart suffered from accelerated aging and as a result, was raised in a virtual reality machine until Iris took him back in time to get help from the then-current Flash, Wally West. With Wally's help, Bart's aging slowed, and he took the name Impulse. After he was shot in the knee by Deathstroke, Bart changed both his attitude and his costume, taking the mantle of Kid Flash. During the events of Infinite Crisis, the Speed Force vanished, taking with it all the speedsters save Jay Garrick. Bart returned, four years older, and for a year claimed that he was depowered from the event. However, the Speed Force had not disappeared completely, but had been absorbed into Bart's body; essentially, he now contained all of the Speed Force.\n",
      "Bart's costume as the Flash was a clone of his grandfather's, similarly stylized to Wally West's. Not long after taking the mantle of the Flash, Bart was killed by the Rogues in the thirteenth (and final) issue of The Flash: The Fastest Man Alive. However, he was later resurrected in the 31st century in Final Crisis: Legion of 3 Worlds #3 by Brainiac 5 to combat Superboy-Prime and the Legion of Super-Villains. Bart returned to the past and played a large role in The Flash: Rebirth.\n",
      "\n",
      "\n",
      "=== Avery Ho ===\n",
      "Avery Ho is a Chinese American woman, who, while living in Central City, is caught in the same Speed Force Storm that created Godspeed. This results in Avery gaining a connection to the Speed Force and superspeed powers. After gaining control of her new powers, Avery joined the Justice League of China as The Flash, battling her former boss China White. After Barry Allen went missing, Avery was recruited to take his place on in multi-dimensional team Justice League Incarnate. \n",
      "\n",
      "\n",
      "=== Others to carry the mantle of the Flash ===\n",
      "\n",
      "\n",
      "==== Jesse Chambers ====\n",
      "\n",
      "Daughter of the speedster Johnny Quick, Jesse Chambers becomes a speeding superhero like her father. She later meets Wally West, the Flash, who asks her to be his replacement if something were to happen to him (as part of an elaborate plan on his part, trying to force Bart Allen to take his role in the legacy of the Flash more seriously). She briefly assumes the mantle of the Flash, after Wally enters the Speed Force.\n",
      "\n",
      "\n",
      "==== John Fox ====\n",
      "John Fox was a historian for the National Academy of Science in Central City in the 27th Century. He was sent back in time to get the help of one or more of the three Flashes (Garrick, Allen, West), in order to defeat the radioactive villain Mota back in Fox's own time period. (Each Flash had individually fought Mota over the course of several years in the 20th century.) Fox's mission was a failure, but during his return trip, the tachyon radiation that sent him through the time stream gave him superspeed. He defeated Mota as a new iteration of the Flash and operated as his century's Flash for a time. Shortly after, he moved to the 853rd century and joined \"Justice Legion A\" (also known as Justice Legion Alpha) as seen in the DC One Million series of books.\n",
      "The name \"John Fox\" is combined from the names of seminal comic book writers John Broome, who co-created the Barry Allen and Wally West Flashes, and Gardner Fox, who co-created the Jay Garrick Flash.\n",
      "\n",
      "\n",
      "==== Unnamed Allen of the 23rd century ====\n",
      "The father of Sela Allen, his wife and daughter were captured by Cobalt Blue. He is forced to watch his wife die and his daughter become crippled. As he and Max Mercury kill Cobalt Blue, a child takes Cobalt Blue's power gem and kills Allen. This Flash is one of the two destined Flashes to be killed by Cobalt Blue.\n",
      "\n",
      "\n",
      "==== Sela Allen ====\n",
      "\n",
      "Sela Allen is an ordinary human in the 23rd century until Cobalt Blue steals electrical impulses away from her, causing her to become as slow to the world as the world is to the Flash. Hoping to restore her, her father takes her into the Speed Force. When her father is killed, she appears as a living manifestation of the Speed Force, able to lend speed to various people and objects, but unable to physically interact with the world.\n",
      "\n",
      "\n",
      "==== Blaine Allen ====\n",
      "Blaine Allen and his son live on the colony world of Petrus in the 28th century. In an attempt to end the Allen blood line, Cobalt Blue injects Allen's son Jace with a virus. Lacking super speed, Jace was unable to shake off the virus. In despair, Blaine takes his son to the Speed Force in the hopes that it would accept him. It takes Blaine instead and grants superspeed to Jace so that he can shake off the sickness.\n",
      "\n",
      "\n",
      "==== Jace Allen ====\n",
      "Jace Allen gains superspeed when his father brings him into the Speed Force to attempt to cure him of a virus injected into his body by Cobalt Blue in an attempt to end the Allen bloodline. In memory of his father, Jace assumes the mantle of the Flash and continues the feud against Cobalt Blue.\n",
      "\n",
      "\n",
      "==== Kryiad ====\n",
      "\n",
      "After an alien creature invades Earth, a history buff named Kriyad travels back in time from the 98th century to acquire a Green Lantern power ring. He fails, so he tries to capture the Flash's speed instead. After being beaten by Barry Allen (The Flash #309, May 1982), he travels back further in time and uses the chemicals from the clothes Barry Allen was wearing when he gained his powers to give himself super speed. Kryiad later sacrifices his life to defeat the alien creature.\n",
      "\n",
      "\n",
      "==== Bizarro Flash ====\n",
      "Bizarro-Flash was created when Bizarro cloned Flash. He had a costume the reverse colors of Flash's, however he had a mallet symbol because Flash was holding one when he was cloned. The modern version of Bizarro Flash has the symbol of a thunderbolt-shaped mustard stain. He has the powers of the Flash but he is completely intangible.\n",
      "\n",
      "\n",
      "== Powers and abilities ==\n",
      "All incarnations of the Flash can move, think, and react at light speeds as well as having superhuman endurance that allows them to run incredible distances. Some, notably later versions, can vibrate so fast that they can pass through walls in a process called quantum tunneling, travel through time and can also lend and borrow speed. Speedsters can also heal more rapidly than an average human. In addition, most incarnations have an invisible aura around their respective bodies that protects them from air friction and the kinetic effects of their powers.\n",
      "On several occasions, the Flash has raced against Superman, either to determine who is faster or as part of a mutual effort to thwart some type of threat; these races, however, often result in ties because of outside circumstances. Writer Jim Shooter and artist Curt Swan crafted the story \"Superman's Race with the Flash!\" in Superman #199 (August 1967), which featured the first race between the Flash and Superman. Writer E. Nelson Bridwell and artist Ross Andru produced \"The Race to the End of the Universe\", a follow-up story four months later in The Flash #175 (December 1967). However, after the DC Universe revision after Crisis on Infinite Earths, the Flash does successfully beat Superman in a race in The Adventures of Superman #463, with the explanation that Superman is not accustomed to running at high speed for extended periods of time since flying is more versatile and less strenuous, which means the far more practiced Flash has the advantage. After Final Crisis in Flash: Rebirth #3, the Flash is shown as being significantly faster than Superman, able to outrun him as Superman struggles to keep up with him. He reveals that all the close races between them before had been \"for charity\". In the Smallville episode \"Run\", the Flash can not only run faster than a pre-Superman Clark Kent but also match Clark's top speed while running backward.\n",
      "While various incarnations of the Flash have proven their ability to run at light speed, the ability to steal speed from other objects allows respective Flashes to even significantly surpass this velocity. In Flash: The Human Race, Wally is shown absorbing kinetic energy, to an extent enabling him to move faster than teleportation and run from the end of the universe back to earth in less than a Planck instant.\n",
      "Speedsters may at times use the ability to speed-read at incredible rates and in doing so, process vast amounts of information. Whatever knowledge they acquire in this manner is usually temporary. Their ability to think fast also allows them some immunity to telepathy, as their thoughts operate at a rate too rapid for telepaths such as Martian Manhunter or Gorilla Grodd to read or influence their minds.\n",
      "Flashes and other super-speedsters also have the ability to speak to one another at a highly accelerated rate. This is often done to have private conversations in front of non-fast people (as when Flash speaks to Superman about his ability to serve both the Titans and the JLA in The Titans #2). Speed-talking is also sometimes used for comedic effect where Flash becomes so excited that he begins talking faster and faster until his words become a jumble of noise. He also has the ability to change the vibration of his vocal cords making it so he can change how his voice sounds to others.\n",
      "While not having the physical strength of many of his comrades and enemies, Flash has shown to be able to use his speed to exert incredible momentum into physical attacks. In Injustice: Gods Among Us, Flash uses these kinds of attacks as many of his special moves.\n",
      "The Flash has also claimed that he can process thoughts in less than an attosecond. At times he is able to throw lightning created by his super speed and make speed vortices.\n",
      "Some flashes also have the ability to create speed avatars (i.e. duplicates) and these avatars have sometimes been sent to different timelines to complete a particular mission. (Barry Allen exhibits this ability in the live action series \"The Flash\").\n",
      "He can also be seen negating the effects of the anti-life equation, when he freed Iris-West from its control (probably due to his connection with the Speed Force).\n",
      "It is said that Wally West has reached the velocity of 23,759,449,000,000,000,000,000,000,000,000,000,000,000,000 (about 24 tredecillion) × c (the speed of light), and he could only do this with the help of every human being on earth moving so the Speed Force was joined through everyone. With that speed, he was able to run not only from planet to planet but also to different galaxies and universes at what would be considered a blink of an eye.\n",
      "\n",
      "\n",
      "== Different Flashes ==\n",
      "\n",
      "In the final issue of 52, a new Multiverse is revealed, originally consisting of 52 identical realities. Among the parallel realities shown is one designated \"Earth-2\". As a result of Mister Mind \"eating\" aspects of this reality, it takes on visual aspects similar to the pre-Crisis Earth-2, including the Flash among other Justice Society of America characters. The names of the characters and the team are not mentioned in the panel in which they appear, but the Flash is visually similar to the Jay Garrick Flash. Based on comments by Grant Morrison, this alternate universe is not the pre-Crisis Earth-2.A variant of the Flash—a superfast college student named Mary Maxwell—was seen in the Elseworld book Just Imagine Stan Lee Creating The Flash.\n",
      "\n",
      "\n",
      "=== Tanaka Rei ===\n",
      "The Flash of Earth-D, Rei was a Japanese man who idolized Barry Allen, whose stories only existed in comic books on this world. Rei was inspired by Allen to become the Flash, much like Allen was inspired to become the Flash by his idol, Jay Garrick. Allen and Rei meet during the \"Crisis on Infinite Earths\" when Barry is coming back from the 30th century and arrives in the wrong universe. As Earth-D was under attack by the shadow demons, Barry called on the Justice League and Tanaka called on the Justice Alliance, his world's version of the Justice League. They built a cosmic treadmill and were able to evacuate much of Earth-D's population. The Justice League left, but 39 seconds later, Earth-D perished.\n",
      "Rei made his only appearance in Legends of the DC Universe: Crisis on Infinite Earths (February 1999). The story was written by Marv Wolfman, with art by Paul Ryan (pencils) and Bob McLeod (ink).\n",
      "\n",
      "\n",
      "=== Lia Nelson ===\n",
      "\n",
      "The young, female Flash of the Tangent Universe is not a speedster, but instead \"the first child born in space\" and a being made up of and able to control light. As a side effect, she can move at the speed of light, which actually makes her faster than most of the other Post-Crisis Flashes, with only Wally West having survived a light-speed run without becoming trapped in the Speed Force. She recently reappeared in Justice League of America (vol. 2) #16, somehow summoned out of the paper \"green lantern\" of her universe—an artifact that survived the Crisis that erased the Tangent Universe from existence. Lia Nelson also appeared in Countdown: Arena, battling two versions of the Flash from other Earths within the Multiverse. In the 52-Earth Multiverse, the Tangent Universe is designated Earth-9.\n",
      "\n",
      "\n",
      "=== Superman & Batman: Generations 2 ===\n",
      "In Superman & Batman: Generations 2, three different Flashes appear: Wally West as Kid Flash in 1964, Wally's cousin Carrie as Kid Flash in 1986, and Jay West, the son of Wally and his wife Magda as the fifth Flash in 2008. Barry Allen makes a cameo appearance out of costume in 1964.\n",
      "\n",
      "\n",
      "=== Green Lightning ===\n",
      "Ali Rayner-West, aka Green Lightning, is a descendant of both Kyle Rayner and Wally West. She has both a power ring and superspeed, as seen in Green Lantern: Circle of Fire. She was a living construct created by Kyle Rayner's subconscious, who later re-fused into his mind.\n",
      "\n",
      "\n",
      "=== Ame-Comi ===\n",
      "A teenage version of Jesse Chambers appears as the Flash of the Ame-Comi universe. As with most of the other characters of that Earth, she sports an Anime-inspired costume.\n",
      "\n",
      "\n",
      "=== The Crash ===\n",
      "The 1980s series Captain Carrot and His Amazing Zoo Crew! presented the parallel Earth of \"Earth-C-Minus\", a world populated by talking animal superheroes that paralleled the mainstream DC Universe. Earth-C-Minus was the home of the Crash, a turtle with super-speed powers similar to those of Barry Allen's, and a member of his world's superhero team, the Just'a Lotta Animals. The Crash as a youth had read comics about Earth-C's Terrific Whatzit, similar to how Barry Allen enjoyed comics about Earth-Two's Jay Garrick.\n",
      "\n",
      "\n",
      "=== Danica Williams ===\n",
      "\n",
      "An African-American teenager of Earth 12 named Danica Williams appears as the Flash in the Justice League Beyond series, acting as Wally West's successor during the 2040s (following the events of Batman Beyond). She is employed at the Flash Museum in Central City, and like Barry Allen, is chronically late. She later enters into a relationship with Billy Batson, who is the secret identity of the superhero, Captain Marvel.\n",
      "\n",
      "\n",
      "== Writers ==\n",
      "The following writers have been involved in the ongoing The Flash and Flash Comics series:\n",
      "\n",
      "\n",
      "== Awards ==\n",
      "The comics and characters have been nominated for and won several awards over the years, including:\n",
      "\n",
      "1961 Alley Award for Best Cover (The Flash (vol. 1) #123)\n",
      "1961 Alley Award for Best Single Comic (The Flash (vol. 1) #123 by Gardner Fox and Carmine Infantino)\n",
      "1963 Alley Award for Cross-Over of DC Heroes for The Brave and the Bold (with Hawkman)\n",
      "1964 Alley Award for Best Short Story (\"Doorway to the Unknown\" in The Flash (vol. 1) #148 by John Broome and Carmine Infantino)\n",
      "2001 Eisner Award for Best Cover Artist (The Flash, by Brian Bolland)\n",
      "2008 Salou Award for Best Super Hero (Flash – Danny Holmes by BUAFC)\n",
      "\n",
      "\n",
      "== In other media ==\n",
      "\n",
      "Throughout his 70-year history, the Flash has appeared in numerous media. The Flash has been included in multiple animated features, such as Super Friends and Justice League, as well as his own live action television series and some guest star appearances on Smallville (as the Bart Allen/Impulse version.) There are numerous videos that feature the character.\n",
      "\n",
      "In the Challenge of the Super Friends series which ran from 1978 to 1979, he appears in every episode and has spoken lines in only twelve out of the sixteen episodes of the series. He also had two arch enemies from the Legion of Doom, Captain Cold and Gorilla Grodd.\n",
      "The Flash appeared for one season (1990–1991) on the CBS Network, starring double-Emmy Award winner John Wesley Shipp as Barry Allen. Produced by Danny Bilson and Paul DeMeo, the series was a mild amalgamation of the Barry Allen and Wally West versions of the comics in that the female lead was Tina McGee (portrayed by Amanda Pays) and Wally's need for large amounts of food after expending so much energy running all over Central City was transferred to Barry. After his lightning-induced chemical accident, Barry got into crime fighting after the death of his police officer brother, Jay; it is presumed that Jay was named for the original comic book Flash, Jay Garrick. A handful of the Scarlet Speedster's rogues gallery made guest appearances throughout the series: Captain Cold (Michael Champion) (\"Captain Cold\"), Mirror Master (David Cassidy) (\"Done With Mirrors\"), and the Trickster (Mark Hamill) (\"The Trickster\" and \"Trial of the Trickster\"). The Flash also fought a clone of himself who wore a blue costume.A few episodes were written by comics legend Howard Chaykin and the TV costume was designed by Dave Stevens (The Rocketeer). While a critical success and vigorously backed by the network, the series had the dubious distinction of being aired against ratings powerhouses The Cosby Show on NBC and Fox's The Simpsons. The Flash was preempted by Christmas specials and the Desert Storm war in Iraq, and was cancelled after its first season. Warner Brothers released the series in a 6-disc DVD box set on January 10, 2006.The series' main musical theme was composed by Danny Elfman, with the remainder of the episodes' music being composed by Shirley Walker (this collaboration would also occur on Batman: The Animated Series). When the Flash made a guest appearance in the Superman: The Animated Series episode 'Speed Demons', Walker incorporated some of the themes from the live-action series into the episode.Wally West is the Flash who appears in the DCAU, voiced by Michael Rosenbaum. He has Wally's personality like telling bad jokes and being attracted to most women. He does have some Barry Allen traits as well like being in Central City and working as a forensic scientist. He is the only Flash to appear in the DCAU; however, Jay Garrick's helmet is seen on display in the Flash museum in the Justice League Unlimited episode \"Flash and Substance\".\n",
      "Kid Flash (Wally West) appears in the Teen Titans episode Lightspeed and protects Jump City while the Titans are away. He refers to a previous partnership  with The Flash (presumably Barry Allen). He soon reforms Jinx and enters a romantic relationship with her.\n",
      "The Flash is a playable character in the Mortal Kombat and DC Comics crossover game Mortal Kombat vs. DC Universe. The first official render for The Flash was released to the public on Monday July 7, 2008. His bio reveals that this version is Barry Allen. He is also a playable character in Injustice: Gods Among Us and its sequel, developed by NetherRealm Studios.\n",
      "Two versions of the Flash make appearances in DC Universe Online. Barry Allen fights alongside the heroes against Gorilla Grodd's army, and is a bounty for the villains. Jay Garrick appears in the Watchtower, selling powerful armor to Level 30 Heroes with the Metapower origin.\n",
      "Impulse is shown in Young Justice: Invasion as the grandson of Barry Allen and Iris West. He comes from the future to save his grandfather from Neutron (A.K.A. Nathaniel Tryon). Once he travels back he does succeed in saving Barry Allen, and stopping Neutron, this was supposed to save the future, but it is shown that the future remains the same. When he tries to travel back to his time (2056), his time machine doesn't work, it is shown in a backstory that he knew he was going to be stuck in the past, because the wires would be fried, though he doesn't reveal this to anyone on The Team, at that moment, he is considered an official member.\n",
      "Grant Gustin portrays Barry Allen as the Flash in the CW's Arrowverse. In the Arrow episode titled \"The Scientist\", Central City CSI Investigator Barry Allen partners with Felicity Smoak to find the thief that broke into one of the Queen Consolidated Applied Sciences building. Barry claims that he was sent from Central City to Starling City to investigate since there were connections to a case in Central City. Oliver Queen soon finds out that Barry was actually an assistant who came to Starling to investigate this strange occurrence in the hope that he would find an answer to who murdered his mother when he was a child. His appearance set up the character for his own series in 2014. This Flash also makes guest appearances in other Arrowverse series.\n",
      "The Flash made his first theatrical film appearance in The Lego Movie. He was part of Metalbeard's pirate crew. He later made a brief appearance in The Lego Batman Movie.\n",
      "Ezra Miller portrays Barry Allen as the Flash in the DC Extended Universe. He had cameos in the 2016 films Batman v Superman: Dawn of Justice and Suicide Squad, and a larger role in Justice League (2017) and Zack Snyder's Justice League (2021). A film centered on the character is scheduled for release on November 4, 2022. The film is set to be directed by Andy Muschietti from a screenplay written by Christina Hodson. The film will also draw elements from the Flashpoint storyline.\n",
      "The Barry Allen version of the Flash appears in Justice League Action.\n",
      "In the fine arts, and starting with the Pop Art period and on a continuing basis since the 1960s, the character of the Flash has been \"appropriated\" by multiple visual artists and incorporated into contemporary artwork, most notably by Andy Warhol, Roy Lichtenstein, Mel Ramos, Dulce Pinzon, and others.\n",
      "\n",
      "\n",
      "== In popular culture ==\n",
      "Ever since the Flash has been published as a comic, many TV shows and films have been making references to the popular character. As you'll see below, there are some notable references to the Flash that appear in The Big Bang Theory and The Simpsons. \n",
      "Numerous references to the Flash are presented on the television show The Big Bang Theory. A particular reference is main character Sheldon Cooper's Flash t-shirt, which has become a staple of merchandise clothing. In the season 1 episode The Middle-Earth Paradigm, the four main male characters on the show all independently dress up for a Halloween party as the Flash before deciding that they can't all be the Flash so no one gets to.  In the season 10 episode The Birthday Synchronicity, Sheldon bought a Flash onesie for Howard & Bernadette's newborn.\n",
      "In season 3 of Lost, in the episode \"Catch-22\", Charlie and Hurley debate over who would win a footrace between the Flash and Superman.\n",
      "The false name Barry Allen is used by character of con artist Frank Abagnale, Jr.(posing as a Secret Service Agent), in the movie Catch Me If You Can. When a coffee shop waiter notices the notes of FBI agent Carl Hanratty, he reveals that Barry Allen is the Flash, giving Carl a vital clue to his unknown subject's identity.\n",
      "In 2006, a near-pristine copy of Flash Comics #1 was sold in a Heritage Auction for $273,125. The same book was then sold privately for $450,000 in 2010.Renan Kanbay wears a Flash costume while playing Carrie, the manager of a comic book store, in Joe Lipari's Dream Job (2011).The band Jim's Big Ego wrote the song \"The Ballad of Barry Allen\" detailing the hardship having to watch time moving so slowly from the perspective of Allen. The frontman of the band, Jim Infantino is the nephew of Flash artist Carmine Infantino.\n",
      "In the film Daddy Day Care, one of the day care kids named Tony wore a Flash costume for the majority of the film.\n",
      "In the My Little Pony: Friendship Is Magic episode \"Power Ponies\", Pinkie Pie becomes a superhero based on the Flash called Fili-Second.\n",
      "In an episode of The Simpsons, Comic Book Guy dresses as The Flash while running in a marathon. He says \"No one can outrun the Flash\" but ends up falling in a pothole and gets stuck.\n",
      "\n",
      "\n",
      "== Rogues ==\n",
      "\n",
      "Like Batman, Superman, and Green Lantern, the Flash has a reputation for having fought a distinctive and memorable rogues gallery of supervillains. In the Flash's case, some of these villains have adopted the term \"Flash's Rogues Gallery\" as an official title, and insist on being called \"Rogues\" rather than \"supervillains\" or similar names. At times, various combinations of the Rogues have banded together to commit crimes or take revenge on the Flash, usually under the leadership of Captain Cold.\n",
      "The Rogues are known for their communal style relationship, socializing together and operating under a strict moral code, sometimes brutally enforced by Captain Cold. Such \"rules\" include \"no drugs\" and, except in very dire situations or on unique occasions, \"no killing\".\n",
      "\n",
      "\n",
      "== References ==\n",
      "\n",
      "\n",
      "== External links ==\n",
      "\n",
      "Official website\n",
      "The Flash at IMDb\n",
      "The Flash at Curlie\n",
      "Crimson Lightning – An online index to the comic book adventures of the Flash.\n",
      "Alan Kistler's Profile On: The Flash – An analysis of the history of the Flash by comic book historian Alan Kistler.\n",
      "Alan Kistler's Guide To The Crisis\n",
      "Index to Barry Allen's Earth-One adventures\n",
      "comicfoundry.com Conversation with Flash writers Danny Bilson and Paul DeMeo about Bart Allen as the new Flash. \n",
      "\n"
     ]
    }
   ],
   "source": [
    "R = w.search(\"Flash (DC Comics character)\")\n",
    "page = w.page(R[0])\n",
    "title = page.title\n",
    "content = page.content\n",
    "print(\"Page title : \", title, \"\\n\")\n",
    "print(\"Page content : \", content, \"\\n\")"
   ]
  },
  {
   "cell_type": "code",
   "execution_count": 87,
   "id": "5b0b6d50",
   "metadata": {
    "ExecuteTime": {
     "end_time": "2022-09-30T13:07:58.394832Z",
     "start_time": "2022-09-30T13:07:58.385686Z"
    }
   },
   "outputs": [
    {
     "data": {
      "text/plain": [
       "str"
      ]
     },
     "execution_count": 87,
     "metadata": {},
     "output_type": "execute_result"
    }
   ],
   "source": [
    "type(content)"
   ]
  },
  {
   "cell_type": "code",
   "execution_count": 97,
   "id": "56f5ed3a",
   "metadata": {
    "ExecuteTime": {
     "end_time": "2022-09-30T13:12:05.658609Z",
     "start_time": "2022-09-30T13:12:05.646599Z"
    }
   },
   "outputs": [],
   "source": [
    "import nltk\n",
    "from nltk.corpus import stopwords\n",
    "from nltk.tokenize import word_tokenize, sent_tokenize"
   ]
  },
  {
   "cell_type": "code",
   "execution_count": 98,
   "id": "e0b71b71",
   "metadata": {
    "ExecuteTime": {
     "end_time": "2022-09-30T13:12:06.935941Z",
     "start_time": "2022-09-30T13:12:06.788390Z"
    }
   },
   "outputs": [],
   "source": [
    "stopWords = set(stopwords.words(\"english\"))\n",
    "words = word_tokenize(content)"
   ]
  },
  {
   "cell_type": "code",
   "execution_count": 99,
   "id": "e5fe5600",
   "metadata": {
    "ExecuteTime": {
     "end_time": "2022-09-30T13:12:07.076098Z",
     "start_time": "2022-09-30T13:12:07.049371Z"
    }
   },
   "outputs": [],
   "source": [
    "freq_table = dict()\n",
    "for word in words:\n",
    "    word = word.lower()\n",
    "    if word in stopWords:\n",
    "        continue\n",
    "    if word in freq_table:\n",
    "        freq_table[word] += 1\n",
    "    else:\n",
    "        freq_table[word] = 1"
   ]
  },
  {
   "cell_type": "code",
   "execution_count": 100,
   "id": "d4012898",
   "metadata": {
    "ExecuteTime": {
     "end_time": "2022-09-30T13:12:07.716262Z",
     "start_time": "2022-09-30T13:12:07.703267Z"
    }
   },
   "outputs": [],
   "source": [
    "sents = sent_tokenize(text)\n",
    "sent_val = dict()"
   ]
  },
  {
   "cell_type": "code",
   "execution_count": 101,
   "id": "ef5cd469",
   "metadata": {
    "ExecuteTime": {
     "end_time": "2022-09-30T13:12:08.525797Z",
     "start_time": "2022-09-30T13:12:08.460650Z"
    }
   },
   "outputs": [],
   "source": [
    "for sent in sents:\n",
    "    for word, freq in freq_table.items():\n",
    "        if word in sent.lower():\n",
    "            if sent in sent_val:\n",
    "                sent_val[sent] += freq\n",
    "            else:\n",
    "                sent_val[sent] = freq"
   ]
  },
  {
   "cell_type": "code",
   "execution_count": 102,
   "id": "c7747474",
   "metadata": {
    "ExecuteTime": {
     "end_time": "2022-09-30T13:12:09.130434Z",
     "start_time": "2022-09-30T13:12:09.104413Z"
    }
   },
   "outputs": [
    {
     "data": {
      "text/plain": [
       "13747"
      ]
     },
     "execution_count": 102,
     "metadata": {},
     "output_type": "execute_result"
    }
   ],
   "source": [
    "sumValues = 0\n",
    "for sent in sent_val:\n",
    "    sumValues += sent_val[sent]\n",
    "sumValues"
   ]
  },
  {
   "cell_type": "code",
   "execution_count": 103,
   "id": "2e22726a",
   "metadata": {
    "ExecuteTime": {
     "end_time": "2022-09-30T13:12:09.813593Z",
     "start_time": "2022-09-30T13:12:09.791598Z"
    }
   },
   "outputs": [
    {
     "data": {
      "text/plain": [
       "1057"
      ]
     },
     "execution_count": 103,
     "metadata": {},
     "output_type": "execute_result"
    }
   ],
   "source": [
    "avg = int(sumValues / len(sent_val))\n",
    "avg"
   ]
  },
  {
   "cell_type": "code",
   "execution_count": 104,
   "id": "b365ce61",
   "metadata": {
    "ExecuteTime": {
     "end_time": "2022-09-30T13:12:10.476956Z",
     "start_time": "2022-09-30T13:12:10.460372Z"
    },
    "scrolled": true
   },
   "outputs": [
    {
     "name": "stdout",
     "output_type": "stream",
     "text": [
      "Created by writer Gardner Fox and artist Harry Lampert, the original Flash first appeared in Flash Comics #1 (cover date January 1940/release month November 1939).Thus far, at least five different characters—each of whom somehow gained the power of \"the Speed Force\"—have assumed the mantle of the Flash in DC's history: college athlete Jay Garrick (1940–1951, 1961–2011, 2017–present), forensic scientist Barry Allen (1956–1985, 2008–present), Barry's nephew Wally West (1986–2011, 2016–present), Barry's grandson Bart Allen (2006–2007), and Chinese-American Avery Ho (2017–present).The original meeting of the Golden Age Flash Jay Garrick and Silver Age Flash Barry Allen in \"Flash of Two Worlds\" (1961) introduced the Multiverse storytelling concept to DC readers, which would become the basis for many DC stories in the years to come.Like his Justice League colleagues Wonder Woman, Superman and Batman, the Flash has a distinctive cast of adversaries, including the various Rogues (unique among DC supervillains for their code of honor) and the various psychopathic \"speedsters\" who go by the names Reverse-Flash or Zoom.Other supporting characters in Flash stories include Barry's wife Iris West, Wally's wife Linda Park, Bart's girlfriend Valerie Perez, friendly fellow speedster Max Mercury, and Central City police department members David Singh and Patty Spivot.In live-action, Barry Allen has been portrayed by Rod Haase for the 1979 television special Legends of the Superheroes, John Wesley Shipp in the 1990 The Flash series and Grant Gustin in the 2014 The Flash series, and by Ezra Miller in the DC Extended Universe series of films, beginning with Batman v Superman: Dawn of Justice (2016).The various incarnations of the Flash also feature in animated series such as Superman: The Animated Series, Justice League, Batman: The Brave and the Bold and Young Justice, as well as the DC Universe Animated Original Movies series.\n"
     ]
    }
   ],
   "source": [
    "summary = ''\n",
    "for sent in sents:\n",
    "    if (sent in sent_val) and (sent_val[sent] > (1 * avg)):\n",
    "        summary += sent\n",
    "print(summary)"
   ]
  },
  {
   "cell_type": "markdown",
   "id": "9ea624ac",
   "metadata": {},
   "source": [
    "## Scraping Data using BS4"
   ]
  },
  {
   "cell_type": "code",
   "execution_count": 49,
   "id": "680d7f51",
   "metadata": {
    "ExecuteTime": {
     "end_time": "2022-09-30T13:01:22.876525Z",
     "start_time": "2022-09-30T13:01:22.858477Z"
    }
   },
   "outputs": [],
   "source": [
    "import bs4\n",
    "from bs4 import BeautifulSoup\n",
    "from urllib.request import urlopen "
   ]
  },
  {
   "cell_type": "code",
   "execution_count": 54,
   "id": "f6c5e87e",
   "metadata": {
    "ExecuteTime": {
     "end_time": "2022-09-30T13:02:03.239284Z",
     "start_time": "2022-09-30T13:02:01.621816Z"
    }
   },
   "outputs": [
    {
     "data": {
      "text/plain": [
       "<http.client.HTTPResponse at 0x23b7edf82e0>"
      ]
     },
     "execution_count": 54,
     "metadata": {},
     "output_type": "execute_result"
    }
   ],
   "source": [
    "html=urlopen('https://en.wikipedia.org/wiki/Flash_(DC_Comics_character)')\n",
    "html"
   ]
  },
  {
   "cell_type": "code",
   "execution_count": 55,
   "id": "66ce1020",
   "metadata": {
    "ExecuteTime": {
     "end_time": "2022-09-30T13:02:42.424635Z",
     "start_time": "2022-09-30T13:02:41.114592Z"
    }
   },
   "outputs": [
    {
     "name": "stdout",
     "output_type": "stream",
     "text": [
      "[<h1 class=\"firstHeading mw-first-heading\" id=\"firstHeading\"><span class=\"mw-page-title-main\">Flash (DC Comics character)</span></h1>, <h2 id=\"mw-toc-heading\">Contents</h2>, <h2><span class=\"mw-headline\" id=\"Publication_history\">Publication history</span></h2>, <h3><span class=\"mw-headline\" id=\"Golden_Age\">Golden Age</span></h3>, <h3><span class=\"mw-headline\" id=\"Silver_Age\">Silver Age</span></h3>, <h3><span class=\"mw-headline\" id=\"Modern_Age\">Modern Age</span></h3>, <h2><span class=\"mw-headline\" id=\"Fictional_character_biographies\">Fictional character biographies</span></h2>, <h3><span class=\"mw-headline\" id=\"Jay_Garrick\">Jay Garrick</span></h3>, <h3><span class=\"mw-headline\" id=\"Barry_Allen\">Barry Allen</span></h3>, <h3><span class=\"mw-headline\" id=\"Wally_West\">Wally West</span></h3>, <h3><span class=\"mw-headline\" id=\"Bart_Allen\">Bart Allen</span></h3>, <h3><span class=\"mw-headline\" id=\"Avery_Ho\">Avery Ho</span></h3>, <h3><span class=\"mw-headline\" id=\"Others_to_carry_the_mantle_of_the_Flash\">Others to carry the mantle of the Flash</span></h3>, <h4><span class=\"mw-headline\" id=\"Jesse_Chambers\">Jesse Chambers</span></h4>, <h4><span class=\"mw-headline\" id=\"John_Fox\">John Fox</span></h4>, <h4><span class=\"mw-headline\" id=\"Unnamed_Allen_of_the_23rd_century\">Unnamed Allen of the 23rd century</span></h4>, <h4><span class=\"mw-headline\" id=\"Sela_Allen\">Sela Allen</span></h4>, <h4><span class=\"mw-headline\" id=\"Blaine_Allen\">Blaine Allen</span></h4>, <h4><span class=\"mw-headline\" id=\"Jace_Allen\">Jace Allen</span></h4>, <h4><span class=\"mw-headline\" id=\"Kryiad\">Kryiad</span></h4>, <h4><span class=\"mw-headline\" id=\"Bizarro_Flash\">Bizarro Flash</span></h4>, <h2><span class=\"mw-headline\" id=\"Powers_and_abilities\">Powers and abilities</span></h2>, <h2><span class=\"mw-headline\" id=\"Different_Flashes\">Different Flashes</span></h2>, <h3><span class=\"mw-headline\" id=\"Tanaka_Rei\">Tanaka Rei</span></h3>, <h3><span class=\"mw-headline\" id=\"Lia_Nelson\">Lia Nelson</span></h3>, <h3><span id=\"Superman_.26_Batman:_Generations_2\"></span><span class=\"mw-headline\" id=\"Superman_&amp;_Batman:_Generations_2\"><i>Superman &amp; Batman: Generations 2</i></span></h3>, <h3><span class=\"mw-headline\" id=\"Green_Lightning\">Green Lightning</span></h3>, <h3><span class=\"mw-headline\" id=\"Ame-Comi\">Ame-Comi</span></h3>, <h3><span class=\"mw-headline\" id=\"The_Crash\">The Crash</span></h3>, <h3><span class=\"mw-headline\" id=\"Danica_Williams\">Danica Williams</span></h3>, <h2><span class=\"mw-headline\" id=\"Writers\">Writers</span></h2>, <h2><span class=\"mw-headline\" id=\"Awards\">Awards</span></h2>, <h2><span class=\"mw-headline\" id=\"In_other_media\">In other media</span></h2>, <h2><span class=\"mw-headline\" id=\"In_popular_culture\">In popular culture</span></h2>, <h2><span class=\"mw-headline\" id=\"Rogues\">Rogues</span></h2>, <h2><span class=\"mw-headline\" id=\"References\">References</span></h2>, <h2><span class=\"mw-headline\" id=\"External_links\">External links</span></h2>, <h2>Navigation menu</h2>, <h3 class=\"vector-menu-heading\" id=\"p-personal-label\">\n",
      "<span class=\"vector-menu-heading-label\">Personal tools</span>\n",
      "</h3>, <h3 class=\"vector-menu-heading\" id=\"p-namespaces-label\">\n",
      "<span class=\"vector-menu-heading-label\">Namespaces</span>\n",
      "</h3>, <h3 class=\"vector-menu-heading\" id=\"p-views-label\">\n",
      "<span class=\"vector-menu-heading-label\">Views</span>\n",
      "</h3>, <h3>\n",
      "<label for=\"searchInput\">Search</label>\n",
      "</h3>, <h3 class=\"vector-menu-heading\" id=\"p-navigation-label\">\n",
      "<span class=\"vector-menu-heading-label\">Navigation</span>\n",
      "</h3>, <h3 class=\"vector-menu-heading\" id=\"p-interaction-label\">\n",
      "<span class=\"vector-menu-heading-label\">Contribute</span>\n",
      "</h3>, <h3 class=\"vector-menu-heading\" id=\"p-tb-label\">\n",
      "<span class=\"vector-menu-heading-label\">Tools</span>\n",
      "</h3>, <h3 class=\"vector-menu-heading\" id=\"p-coll-print_export-label\">\n",
      "<span class=\"vector-menu-heading-label\">Print/export</span>\n",
      "</h3>, <h3 class=\"vector-menu-heading\" id=\"p-wikibase-otherprojects-label\">\n",
      "<span class=\"vector-menu-heading-label\">In other projects</span>\n",
      "</h3>, <h3 class=\"vector-menu-heading\" id=\"p-lang-label\">\n",
      "<span class=\"vector-menu-heading-label\">Languages</span>\n",
      "</h3>]\n"
     ]
    }
   ],
   "source": [
    "bs=BeautifulSoup(html.read(),'html.parser')\n",
    "HD=bs.findAll(['h1','h2','h3','h4','h5','h6'])\n",
    "print(HD)"
   ]
  },
  {
   "cell_type": "code",
   "execution_count": 56,
   "id": "87c423e9",
   "metadata": {
    "ExecuteTime": {
     "end_time": "2022-09-30T13:03:04.942171Z",
     "start_time": "2022-09-30T13:03:04.770157Z"
    }
   },
   "outputs": [
    {
     "data": {
      "text/plain": [
       "[<p><b>The Flash</b> (or simply <b>Flash</b>) is the name of several <a href=\"/wiki/Superhero\" title=\"Superhero\">superheroes</a> appearing in <a href=\"/wiki/American_comic_book\" title=\"American comic book\">American comic books</a> published by <a href=\"/wiki/DC_Comics\" title=\"DC Comics\">DC Comics</a>. Created by writer <a href=\"/wiki/Gardner_Fox\" title=\"Gardner Fox\">Gardner Fox</a> and artist <a href=\"/wiki/Harry_Lampert\" title=\"Harry Lampert\">Harry Lampert</a>, the original Flash first appeared in <i><a href=\"/wiki/Flash_Comics\" title=\"Flash Comics\">Flash Comics</a></i> #1 (cover date January 1940/release month November 1939).<sup class=\"reference\" id=\"cite_ref-dc-ency_1-0\"><a href=\"#cite_note-dc-ency-1\">[1]</a></sup> Nicknamed \"the Scarlet Speedster\", all incarnations of the Flash possess \"superspeed\", which includes the ability to run, move, and think extremely fast, use superhuman reflexes, and seemingly violate certain <a class=\"mw-redirect\" href=\"/wiki/Physical_law\" title=\"Physical law\">laws of physics</a>.\n",
       " </p>,\n",
       " <p>Thus far, at least five different <a href=\"/wiki/Character_(arts)\" title=\"Character (arts)\">characters</a>—each of whom somehow gained the power of \"the <a class=\"mw-redirect\" href=\"/wiki/Speed_Force\" title=\"Speed Force\">Speed Force</a>\"—have assumed the mantle of the Flash in DC's history: college athlete <a href=\"/wiki/Flash_(Jay_Garrick)\" title=\"Flash (Jay Garrick)\">Jay Garrick</a> (1940–1951, 1961–2011, 2017–present), forensic scientist <a href=\"/wiki/Flash_(Barry_Allen)\" title=\"Flash (Barry Allen)\">Barry Allen</a> (1956–1985, 2008–present), Barry's nephew <a href=\"/wiki/Wally_West\" title=\"Wally West\">Wally West</a> (1986–2011, 2016–present), Barry's grandson <a href=\"/wiki/Bart_Allen\" title=\"Bart Allen\">Bart Allen</a> (2006–2007), and Chinese-American Avery Ho (2017–present). Each incarnation of the Flash has been a key member of at least one of DC's premier teams: the <a href=\"/wiki/Justice_Society_of_America\" title=\"Justice Society of America\">Justice Society of America</a>, the <a href=\"/wiki/Justice_League\" title=\"Justice League\">Justice League</a>, and the <a href=\"/wiki/Teen_Titans\" title=\"Teen Titans\">Teen Titans</a>.\n",
       " </p>,\n",
       " <p>The Flash is one of DC Comics' most popular characters and has been integral to the publisher's many <a class=\"mw-redirect\" href=\"/wiki/Retcon\" title=\"Retcon\">reality-changing</a> \"crisis\" story lines over the years. The original meeting of the <a href=\"/wiki/Golden_Age_of_Comic_Books\" title=\"Golden Age of Comic Books\">Golden Age</a> Flash Jay Garrick and <a href=\"/wiki/Silver_Age_of_Comic_Books\" title=\"Silver Age of Comic Books\">Silver Age</a> Flash Barry Allen in \"<a href=\"/wiki/Flash_of_Two_Worlds\" title=\"Flash of Two Worlds\">Flash of Two Worlds</a>\" (1961) introduced the <a href=\"/wiki/Multiverse_(DC_Comics)\" title=\"Multiverse (DC Comics)\">Multiverse</a> storytelling concept to DC readers, which would become the basis for many DC stories in the years to come.\n",
       " </p>,\n",
       " <p>Like his Justice League colleagues <a href=\"/wiki/Wonder_Woman\" title=\"Wonder Woman\">Wonder Woman</a>, <a href=\"/wiki/Superman\" title=\"Superman\">Superman</a> and <a href=\"/wiki/Batman\" title=\"Batman\">Batman</a>, the Flash has a distinctive cast of adversaries, including the various <a href=\"/wiki/Rogues_(comics)\" title=\"Rogues (comics)\">Rogues</a> (unique among DC <a href=\"/wiki/Supervillain\" title=\"Supervillain\">supervillains</a> for their code of honor) and the various psychopathic \"speedsters\" who go by the names <a href=\"/wiki/Reverse-Flash\" title=\"Reverse-Flash\">Reverse-Flash</a> or Zoom. Other supporting characters in <i>Flash</i> stories include Barry's wife <a href=\"/wiki/Iris_West\" title=\"Iris West\">Iris West</a>, Wally's wife <a href=\"/wiki/Linda_Park_(comics)\" title=\"Linda Park (comics)\">Linda Park</a>, Bart's girlfriend <a href=\"/wiki/Valerie_Perez\" title=\"Valerie Perez\">Valerie Perez</a>, friendly fellow speedster <a href=\"/wiki/Max_Mercury\" title=\"Max Mercury\">Max Mercury</a>, and Central City police department members <a href=\"/wiki/David_Singh_(fictional_character)\" title=\"David Singh (fictional character)\">David Singh</a> and <a href=\"/wiki/Patty_Spivot\" title=\"Patty Spivot\">Patty Spivot</a>.\n",
       " </p>,\n",
       " <p>A staple of the comic book <a href=\"/wiki/DC_Universe\" title=\"DC Universe\">DC Universe</a>, the Flash has been adapted to numerous DC films, video games, animated series, and live-action television shows. In live-action, Barry Allen has been portrayed by Rod Haase for the 1979 television special <i><a href=\"/wiki/Legends_of_the_Superheroes\" title=\"Legends of the Superheroes\">Legends of the Superheroes</a></i>, <a href=\"/wiki/John_Wesley_Shipp\" title=\"John Wesley Shipp\">John Wesley Shipp</a> in the <a href=\"/wiki/The_Flash_(1990_TV_series)\" title=\"The Flash (1990 TV series)\">1990 <i>The Flash</i> series</a> and <a href=\"/wiki/Grant_Gustin\" title=\"Grant Gustin\">Grant Gustin</a> in the <a href=\"/wiki/The_Flash_(2014_TV_series)\" title=\"The Flash (2014 TV series)\">2014 <i>The Flash</i> series</a>, and by <a href=\"/wiki/Ezra_Miller\" title=\"Ezra Miller\">Ezra Miller</a> in the <a href=\"/wiki/DC_Extended_Universe\" title=\"DC Extended Universe\">DC Extended Universe</a> series of films, beginning with <i><a href=\"/wiki/Batman_v_Superman:_Dawn_of_Justice\" title=\"Batman v Superman: Dawn of Justice\">Batman v Superman: Dawn of Justice</a></i> (2016). Shipp also portrays a version of Jay Garrick in the 2014 <i>The Flash</i> series. The various incarnations of the Flash also feature in animated series such as <i><a href=\"/wiki/Superman:_The_Animated_Series\" title=\"Superman: The Animated Series\">Superman: The Animated Series</a></i>, <i><a href=\"/wiki/Justice_League_(TV_series)\" title=\"Justice League (TV series)\">Justice League</a></i>, <i><a href=\"/wiki/Batman:_The_Brave_and_the_Bold\" title=\"Batman: The Brave and the Bold\">Batman: The Brave and the Bold</a></i> and <i><a href=\"/wiki/Young_Justice_(TV_series)\" title=\"Young Justice (TV series)\">Young Justice</a></i>, as well as the <a href=\"/wiki/DC_Universe_Animated_Original_Movies\" title=\"DC Universe Animated Original Movies\">DC Universe Animated Original Movies</a> series.\n",
       " </p>,\n",
       " <p>The Flash <a href=\"/wiki/First_appearance\" title=\"First appearance\">first appeared</a> in the <a class=\"mw-redirect\" href=\"/wiki/Golden_Age_of_comic_books\" title=\"Golden Age of comic books\">Golden Age</a> <i>Flash Comics</i> #1 (January 1940), from <a href=\"/wiki/All-American_Publications\" title=\"All-American Publications\">All-American Publications</a>, one of three companies that would eventually merge to form <a href=\"/wiki/DC_Comics\" title=\"DC Comics\">DC Comics</a>. Created by writer Gardner Fox and artist Harry Lampert, this Flash was Jay Garrick, a college student who gained his speed through the inhalation of <a href=\"/wiki/Hard_water\" title=\"Hard water\">hard water</a> vapors. When re-introduced in the 1960s Garrick's origin was modified slightly, gaining his powers through exposure to <a href=\"/wiki/Heavy_water\" title=\"Heavy water\">heavy water</a>.\n",
       " </p>,\n",
       " <p>Jay Garrick was a popular character in the 1940s, supporting both <i>Flash Comics</i> and <i><a href=\"/wiki/All-Flash\" title=\"All-Flash\">All-Flash Quarterly</a></i> (later published bi-monthly as simply <i>All-Flash</i>); co-starring in <i><a href=\"/wiki/Comic_Cavalcade\" title=\"Comic Cavalcade\">Comic Cavalcade</a></i>; and being a charter member of the <a href=\"/wiki/Justice_Society_of_America\" title=\"Justice Society of America\">Justice Society of America</a>, the first superhero team, whose adventures ran in <i><a href=\"/wiki/All_Star_Comics\" title=\"All Star Comics\">All Star Comics</a></i>. With superheroes' post-war decline in popularity, <i>Flash Comics</i> was canceled with issue #104 (1949) which featured an evil version of the Flash called the Rival. The Justice Society's final Golden Age story ran in <i>All Star Comics</i> #57 (1951; the title itself continued as <i>All Star Western</i>).\n",
       " </p>,\n",
       " <p>In 1956, DC Comics successfully revived superheroes, ushering in what became known as the <a class=\"mw-redirect\" href=\"/wiki/Silver_Age_of_comic_books\" title=\"Silver Age of comic books\">Silver Age of comic books</a>. Rather than bringing back the same Golden Age heroes, DC rethought them as new characters for the modern age. The Flash was the first revival, in the tryout comic book <i><a class=\"mw-redirect\" href=\"/wiki/Showcase_(comic_book)\" title=\"Showcase (comic book)\">Showcase</a></i> #4 (October 1956).\n",
       " </p>,\n",
       " <p>This new Flash was (Barry Allen), a police scientist who gained super-speed when bathed by chemicals after a shelf of them was struck by lightning. He adopted the name <i>The Scarlet Speedster</i> after reading a comic book featuring the Golden Age Flash.<sup class=\"reference\" id=\"cite_ref-dc-ency_1-1\"><a href=\"#cite_note-dc-ency-1\">[1]</a></sup> After several more appearances in <i>Showcase</i>, Allen's character was given his own title, <i>The Flash</i>, the first issue of which was #105 (resuming where <i>Flash Comics</i> had left off). Barry Allen and the new Flash were created by writers <a href=\"/wiki/Robert_Kanigher\" title=\"Robert Kanigher\">Robert Kanigher</a> and <a href=\"/wiki/John_Broome_(writer)\" title=\"John Broome (writer)\">John Broome</a> and cartoonist <a href=\"/wiki/Carmine_Infantino\" title=\"Carmine Infantino\">Carmine Infantino</a>.\n",
       " </p>,\n",
       " <p>The Silver Age Flash proved popular enough that several other Golden Age heroes were revived in new incarnations (see: <a href=\"/wiki/Green_Lantern\" title=\"Green Lantern\">Green Lantern</a>). A new superhero team, the <a href=\"/wiki/Justice_League\" title=\"Justice League\">Justice League of America</a>, was also created, with the Flash as a main, charter member.\n",
       " </p>,\n",
       " <p>Barry Allen's title also introduced a much-imitated plot device into superhero comics when it was revealed that Garrick and Allen existed on fictional <a class=\"mw-redirect\" href=\"/wiki/Parallel_universe_(fiction)\" title=\"Parallel universe (fiction)\">parallel worlds</a>. Their powers allowed them to cross the dimensional boundary between worlds, and the men became good friends. <i><a href=\"/wiki/Flash_of_Two_Worlds\" title=\"Flash of Two Worlds\">Flash of Two Worlds</a></i> (<i>The Flash</i> #123) was the first crossover in which a Golden Age character met a Silver Age character. Soon, there were crossovers between the entire Justice League and the Justice Society; their respective teams began an annual get-together which endured from the early 1960s until the mid-1980s.\n",
       " </p>,\n",
       " <p>Allen's adventures continued in his own title until the event of <i><a href=\"/wiki/Crisis_on_Infinite_Earths\" title=\"Crisis on Infinite Earths\">Crisis on Infinite Earths</a></i>. <i>The Flash</i> ended as a series with issue #350. Allen's life had become considerably confused in the early 1980s, and DC elected to end his adventures and pass the mantle on to another character. Allen died heroically in <i>Crisis on Infinite Earths</i> #8 (1985). Thanks to his ability to travel through time, he would continue to appear occasionally in the years to come.\n",
       " </p>,\n",
       " <p>The third Flash was <a href=\"/wiki/Wally_West\" title=\"Wally West\">Wally West</a>, introduced in <i>The Flash</i> #110 (December 1959) as <a href=\"/wiki/Kid_Flash\" title=\"Kid Flash\">Kid Flash</a>. West, Allen's nephew by marriage, gained the Flash's powers through an accident identical to Allen's. Adopting the identity of Kid Flash, he maintained membership in the <a href=\"/wiki/Teen_Titans\" title=\"Teen Titans\">Teen Titans</a> for years. Following Allen's death, West adopted the Flash identity in <i>Crisis on Infinite Earths</i> #12 and was given his own series, beginning with <i>The Flash</i> (vol. 2) #1 in 1987.<sup class=\"reference\" id=\"cite_ref-dc-ency_1-2\"><a href=\"#cite_note-dc-ency-1\">[1]</a></sup> Many issues began with the <a href=\"/wiki/Catchphrase\" title=\"Catchphrase\">catchphrase</a>: \"My name is Wally West. I'm the fastest man alive.\"\n",
       " </p>,\n",
       " <p>Due to the <i><a href=\"/wiki/Infinite_Crisis\" title=\"Infinite Crisis\">Infinite Crisis</a></i> miniseries and the \"<a href=\"/wiki/One_Year_Later\" title=\"One Year Later\">One Year Later</a>\" jump in time in the <a href=\"/wiki/DC_Universe\" title=\"DC Universe\">DC Universe</a>, DC canceled <i>The Flash</i> (vol. 2) in January 2006 at #230. A new series, <i>The Flash: The Fastest Man Alive</i>, began on June 21, 2006. The initial story arc of this series, written by <a href=\"/wiki/Danny_Bilson\" title=\"Danny Bilson\">Danny Bilson</a> and <a href=\"/wiki/Paul_De_Meo\" title=\"Paul De Meo\">Paul De Meo</a> with art by Ken Lashley, focused on Bart Allen's acceptance of the role of the Flash.\n",
       " </p>,\n",
       " <p><i>Flash: Fastest Man Alive</i> was canceled with issue #13. In its place <i>The Flash</i> (vol. 2) was revived with issue #231, with <a href=\"/wiki/Mark_Waid\" title=\"Mark Waid\">Mark Waid</a> as the initial writer. Waid also wrote <i>All-Flash</i> #1, which acted as the bridge between the two series.<sup class=\"reference\" id=\"cite_ref-2\"><a href=\"#cite_note-2\">[2]</a></sup> DC had solicited <i>The Flash: The Fastest Man Alive</i> through issue #15. <i>All Flash</i> #1 replaced issue #14 and <i>The Flash</i> (vol. 2) #231 replaced issue #15 in title and interior creative team only. The covers and cover artists were as solicited by DC, and the information text released was devoid of any plot information.<sup class=\"reference\" id=\"cite_ref-3\"><a href=\"#cite_note-3\">[3]</a></sup><sup class=\"reference\" id=\"cite_ref-4\"><a href=\"#cite_note-4\">[4]</a></sup>\n",
       " </p>,\n",
       " <p>In 2009, Barry Allen made a full-fledged return to the DCU-proper in <i><a href=\"/wiki/The_Flash:_Rebirth\" title=\"The Flash: Rebirth\">The Flash: Rebirth</a></i>, a six-issue miniseries by <a href=\"/wiki/Geoff_Johns\" title=\"Geoff Johns\">Geoff Johns</a> and <a href=\"/wiki/Ethan_Van_Sciver\" title=\"Ethan Van Sciver\">Ethan Van Sciver</a>.<sup class=\"reference\" id=\"cite_ref-5\"><a href=\"#cite_note-5\">[5]</a></sup>\n",
       " </p>,\n",
       " <p>While several other individuals have used the name Flash, these have either on <a class=\"mw-redirect\" href=\"/wiki/Parallel_universe_(fiction)\" title=\"Parallel universe (fiction)\">parallel worlds</a> or in the future. Jay Garrick, Barry Allen, and Wally West are the best-known exemplars of the identity.\n",
       " The signature wingdings are never absent.\n",
       " </p>,\n",
       " <p>Jay Garrick was a college student in 1938 who accidentally inhaled heavy water vapors after taking a smoke break inside his laboratory where he had been working.<sup class=\"reference\" id=\"cite_ref-6\"><a href=\"#cite_note-6\">[6]</a></sup> As a result, he found that he could run at superhuman speed and had similarly fast reflexes. After a brief career as a <a href=\"/wiki/College_football\" title=\"College football\">college football</a> star, he donned a red shirt with a lightning bolt and a stylized metal helmet with wings (based on images of the Greek deity <a href=\"/wiki/Hermes\" title=\"Hermes\">Hermes</a>), and began to fight crime as the Flash. His first case involved battling the \"Faultless Four\", a group of blackmailers. Garrick kept his identity secret for years without a mask by continually vibrating his body while in public so that any photograph of his face would be blurred. Although originally from <a href=\"/wiki/Earth-Two\" title=\"Earth-Two\">Earth-Two</a>, he was incorporated into the history of <a href=\"/wiki/List_of_DC_Multiverse_worlds\" title=\"List of DC Multiverse worlds\">New Earth</a> following the <i><a href=\"/wiki/Crisis_on_Infinite_Earths\" title=\"Crisis on Infinite Earths\">Crisis on Infinite Earths</a></i> and is still active as the Flash operating out of Keystone City. He is a member of the <a href=\"/wiki/Justice_Society_of_America\" title=\"Justice Society of America\">Justice Society</a>.\n",
       " </p>,\n",
       " <p>Barry Allen is an assistant scientist from the Criminal and Forensic Science Division of Central City Police Department. Barry had a reputation for being very slow, deliberate, and frequently late, which frustrated his fiancée, <a href=\"/wiki/Iris_West\" title=\"Iris West\">Iris West</a>. One night, as he was preparing to leave work, a freak lightning bolt struck a nearby shelf in his lab and doused him with a cocktail of unnamed chemicals. As a result, Barry found that he could run extremely fast and had matching reflexes. He donned a set of red tights sporting a lightning bolt (reminiscent of the original <a href=\"/wiki/Fawcett_Comics\" title=\"Fawcett Comics\">Fawcett Comics</a> <a href=\"/wiki/Captain_Marvel_(DC_Comics)\" title=\"Captain Marvel (DC Comics)\">Captain Marvel</a>), dubbed himself the Flash (after his childhood hero, Jay Garrick), and became a crimefighter active in <a href=\"/wiki/Central_City_(DC_Comics)\" title=\"Central City (DC Comics)\">Central City</a>. In his civilian identity, he stores the costume compressed in a special ring via the use of a special gas that could compress cloth fibers to a very small fraction of their normal size.\n",
       " </p>,\n",
       " <p>Barry sacrificed his life for the universe in the 1985 maxi-series <i><a href=\"/wiki/Crisis_on_Infinite_Earths\" title=\"Crisis on Infinite Earths\">Crisis on Infinite Earths</a></i> and remained dead for over twenty years after that story's publication. With the 2008 series <i><a href=\"/wiki/Final_Crisis\" title=\"Final Crisis\">Final Crisis</a></i>, Barry returned to the DC Universe and returned to full prominence as the Flash in the 2009 series <i><a href=\"/wiki/The_Flash:_Rebirth\" title=\"The Flash: Rebirth\">The Flash: Rebirth</a></i>, which was soon after followed by a new volume of <i><a href=\"/wiki/The_Flash_(comic_book)#Volume_3_(2010-Current)\" title=\"The Flash (comic book)\">The Flash</a></i> ongoing series, where Barry's adventures as the Scarlet Speedster were published until 2020.<sup class=\"reference\" id=\"cite_ref-J&amp;V_7-0\"><a href=\"#cite_note-J&amp;V-7\">[7]</a></sup><sup class=\"reference\" id=\"cite_ref-vol3no1_8-0\"><a href=\"#cite_note-vol3no1-8\">[8]</a></sup>\n",
       " </p>,\n",
       " <p>Wallace Rudolph \"Wally\" West is the nephew of both Iris West and Barry Allen, by marriage, and was introduced in <i>The Flash</i> #110 (1959). When West was about ten years old, he was visiting his uncle's police laboratory, and the freak accident that gave Allen his powers repeated itself, bathing West in electrically charged chemicals. Now possessing the same powers as his uncle, West donned a copy of his uncle's outfit and became the young, crime fighter, Kid Flash. After the events of <i>Crisis on Infinite Earths</i> where Barry Allen was killed, Wally took over as the fastest man alive. Following the events of <i>Infinite Crisis</i>, Wally, his wife Linda, and their twins left Earth for an unknown dimension.\n",
       " </p>,\n",
       " <p>Wally, his wife, and twins were pulled back from the <a class=\"mw-redirect\" href=\"/wiki/Speed_Force\" title=\"Speed Force\">Speed Force</a> by the <a href=\"/wiki/Legion_of_Super-Heroes\" title=\"Legion of Super-Heroes\">Legion of Super-Heroes</a> at the conclusion of <i><a href=\"/wiki/The_Lightning_Saga\" title=\"The Lightning Saga\">The Lightning Saga</a></i>.<sup class=\"reference\" id=\"cite_ref-9\"><a href=\"#cite_note-9\">[9]</a></sup> This set the stage for Wally West's return as the Flash after the events of <i>The Flash: Fastest Man Alive</i> #13 (see Bart Allen), in <i>All Flash</i> #1, and with <i>The Flash</i> (vol. 2) series, which resumed with issue #231 in August 2007. It subsequently ends with issue #247, and West, along with all the other <i>Flash</i> characters, play a large role in 2009's <i><a href=\"/wiki/The_Flash:_Rebirth\" title=\"The Flash: Rebirth\">The Flash: Rebirth</a></i>.<sup class=\"reference\" id=\"cite_ref-J&amp;V_7-1\"><a href=\"#cite_note-J&amp;V-7\">[7]</a></sup> He briefly appears in the Blackest Night story arc but shortly after the New 52 was launched and the character was nowhere to be seen. He is back as the Flash in <a href=\"/wiki/DC_Rebirth\" title=\"DC Rebirth\">DC Rebirth</a> with a new red and silver costume, and joined the Titans. After a series of events, Wally is restored as the central character of <i>The Flash</i> series, becoming the primary Scarlet Speedster again since <i>The Flash</i> #771 (2021), where Wally's adventures as the Fastest Man Alive are currently published, and returned to his main red and gold Flash costume.\n",
       " </p>,\n",
       " <p>Bartholomew Henry \"Bart\" Allen II is the grandson of Barry Allen and his wife Iris. Bart suffered from accelerated aging and as a result, was raised in a <a href=\"/wiki/Virtual_reality\" title=\"Virtual reality\">virtual reality</a> machine until Iris took him back in time to get help from the then-current Flash, Wally West. With Wally's help, Bart's aging slowed, and he took the name Impulse. After he was shot in the knee by <a href=\"/wiki/Deathstroke\" title=\"Deathstroke\">Deathstroke</a>, Bart changed both his attitude and his costume, taking the mantle of Kid Flash. During the events of <i>Infinite Crisis</i>, the <a class=\"mw-redirect\" href=\"/wiki/Speed_Force\" title=\"Speed Force\">Speed Force</a> vanished, taking with it all the speedsters save Jay Garrick. Bart returned, four years older, and for a year claimed that he was depowered from the event. However, the Speed Force had not disappeared completely, but had been absorbed into Bart's body; essentially, he now contained all of the Speed Force.\n",
       " </p>,\n",
       " <p>Bart's costume as the Flash was a clone of his grandfather's, similarly stylized to Wally West's. Not long after taking the mantle of the Flash, Bart was killed by the Rogues in the thirteenth (and final) issue of <i>The Flash: The Fastest Man Alive</i>. However, he was later resurrected in the 31st century in <i><a href=\"/wiki/Final_Crisis:_Legion_of_3_Worlds\" title=\"Final Crisis: Legion of 3 Worlds\">Final Crisis: Legion of 3 Worlds</a></i> #3 by <a href=\"/wiki/Brainiac_5\" title=\"Brainiac 5\">Brainiac 5</a> to combat <a href=\"/wiki/Superboy-Prime\" title=\"Superboy-Prime\">Superboy-Prime</a> and the <a href=\"/wiki/Legion_of_Super-Villains\" title=\"Legion of Super-Villains\">Legion of Super-Villains</a>. Bart returned to the past and played a large role in <i><a href=\"/wiki/The_Flash:_Rebirth\" title=\"The Flash: Rebirth\">The Flash: Rebirth</a></i>.<sup class=\"reference\" id=\"cite_ref-10\"><a href=\"#cite_note-10\">[10]</a></sup>\n",
       " </p>,\n",
       " <p>Avery Ho is a Chinese American woman, who, while living in Central City, is caught in the same Speed Force Storm that created <a class=\"mw-redirect\" href=\"/wiki/Godspeed_(comics)\" title=\"Godspeed (comics)\">Godspeed</a>. This results in Avery gaining a connection to the Speed Force and superspeed powers.<sup class=\"reference\" id=\"cite_ref-11\"><a href=\"#cite_note-11\">[11]</a></sup> After gaining control of her new powers, Avery joined the Justice League of China as <i>The Flash</i>, battling her former boss <a class=\"mw-redirect\" href=\"/wiki/China_White_(comics)\" title=\"China White (comics)\">China White</a>.<sup class=\"reference\" id=\"cite_ref-12\"><a href=\"#cite_note-12\">[12]</a></sup> After Barry Allen went missing, Avery was recruited to take his place on in multi-dimensional team <i>Justice League Incarnate</i>. <sup class=\"reference\" id=\"cite_ref-13\"><a href=\"#cite_note-13\">[13]</a></sup>\n",
       " </p>,\n",
       " <p>Daughter of the speedster <a href=\"/wiki/Johnny_Quick_(Johnny_Chambers)\" title=\"Johnny Quick (Johnny Chambers)\">Johnny Quick</a>, Jesse Chambers becomes a speeding superhero like her father. She later meets Wally West, the Flash, who asks her to be his replacement if something were to happen to him (as part of an elaborate plan on his part, trying to force Bart Allen to take his role in the legacy of the Flash more seriously). She briefly assumes the mantle of the Flash, after Wally enters the Speed Force.<sup class=\"reference\" id=\"cite_ref-14\"><a href=\"#cite_note-14\">[14]</a></sup>\n",
       " </p>,\n",
       " <p>John Fox was a historian for the National Academy of Science in Central City in the 27th Century. He was sent back in time to get the help of one or more of the three Flashes (Garrick, Allen, West), in order to defeat the radioactive villain Mota back in Fox's own time period. (Each Flash had individually fought Mota over the course of several years in the 20th century.) Fox's mission was a failure, but during his return trip, the tachyon radiation that sent him through the time stream gave him superspeed. He defeated Mota as a new iteration of the Flash and operated as his century's Flash for a time. Shortly after, he moved to the 853rd century and joined \"Justice Legion A\" (also known as <a href=\"/wiki/Justice_Legion_Alpha\" title=\"Justice Legion Alpha\">Justice Legion Alpha</a>) as seen in the <a href=\"/wiki/DC_One_Million\" title=\"DC One Million\">DC One Million</a> series of books.\n",
       " The name \"John Fox\" is combined from the names of seminal comic book writers <a href=\"/wiki/John_Broome_(writer)\" title=\"John Broome (writer)\">John Broome</a>, who co-created the Barry Allen and Wally West Flashes, and <a href=\"/wiki/Gardner_Fox\" title=\"Gardner Fox\">Gardner Fox</a>, who co-created the Jay Garrick Flash.\n",
       " </p>,\n",
       " <p>The father of Sela Allen, his wife and daughter were captured by <a class=\"mw-redirect\" href=\"/wiki/Cobalt_Blue_(comics)\" title=\"Cobalt Blue (comics)\">Cobalt Blue</a>. He is forced to watch his wife die and his daughter become crippled. As he and <a href=\"/wiki/Max_Mercury\" title=\"Max Mercury\">Max Mercury</a> kill Cobalt Blue, a child takes Cobalt Blue's power gem and kills Allen. This Flash is one of the two destined Flashes to be killed by Cobalt Blue.\n",
       " </p>,\n",
       " <p>Sela Allen is an ordinary human in the 23rd century until Cobalt Blue steals electrical impulses away from her, causing her to become as slow to the world as the world is to the Flash. Hoping to restore her, her father takes her into the Speed Force. When her father is killed, she appears as a living manifestation of the Speed Force, able to lend speed to various people and objects, but unable to physically interact with the world.<sup class=\"reference\" id=\"cite_ref-dc-ency_1-3\"><a href=\"#cite_note-dc-ency-1\">[1]</a></sup>\n",
       " </p>,\n",
       " <p>Blaine Allen and his son live on the colony world of Petrus in the 28th century. In an attempt to end the Allen blood line, Cobalt Blue injects Allen's son Jace with a virus. Lacking super speed, Jace was unable to shake off the virus. In despair, Blaine takes his son to the <a class=\"mw-redirect\" href=\"/wiki/Speed_Force\" title=\"Speed Force\">Speed Force</a> in the hopes that it would accept him. It takes Blaine instead and grants superspeed to Jace so that he can shake off the sickness.<sup class=\"reference\" id=\"cite_ref-sf1_15-0\"><a href=\"#cite_note-sf1-15\">[15]</a></sup>\n",
       " </p>,\n",
       " <p>Jace Allen gains superspeed when his father brings him into the <a class=\"mw-redirect\" href=\"/wiki/Speed_Force\" title=\"Speed Force\">Speed Force</a> to attempt to cure him of a virus injected into his body by Cobalt Blue in an attempt to end the Allen bloodline.<sup class=\"reference\" id=\"cite_ref-sf1_15-1\"><a href=\"#cite_note-sf1-15\">[15]</a></sup> In memory of his father, Jace assumes the mantle of the Flash and continues the feud against Cobalt Blue.<sup class=\"reference\" id=\"cite_ref-16\"><a href=\"#cite_note-16\">[16]</a></sup>\n",
       " </p>,\n",
       " <p>After an alien creature invades Earth, a history buff named Kriyad travels back in time from the 98th century to acquire a <a href=\"/wiki/Green_Lantern\" title=\"Green Lantern\">Green Lantern</a> <a class=\"mw-redirect\" href=\"/wiki/Power_ring_(weapon)\" title=\"Power ring (weapon)\">power ring</a>. He fails, so he tries to capture the Flash's speed instead. After being beaten by Barry Allen (<i>The Flash</i> #309, May 1982), he travels back further in time and uses the chemicals from the clothes Barry Allen was wearing when he gained his powers to give himself super speed. Kryiad later sacrifices his life to defeat the alien creature.\n",
       " </p>,\n",
       " <p>Bizarro-Flash was created when <a href=\"/wiki/Bizarro\" title=\"Bizarro\">Bizarro</a> cloned Flash. He had a costume the reverse colors of Flash's, however he had a mallet symbol because Flash was holding one when he was cloned. The modern version of Bizarro Flash has the symbol of a thunderbolt-shaped mustard stain. He has the powers of the Flash but he is completely intangible.\n",
       " </p>,\n",
       " <p>All incarnations of the Flash can move, think, and react at light speeds as well as having superhuman endurance that allows them to run incredible distances. Some, notably later versions, can vibrate so fast that they can pass through walls in a process called <a class=\"mw-redirect\" href=\"/wiki/Quantum_tunneling\" title=\"Quantum tunneling\">quantum tunneling</a>,<sup class=\"reference\" id=\"cite_ref-PhysicsofSuperheroes_17-0\"><a href=\"#cite_note-PhysicsofSuperheroes-17\">[17]</a></sup> travel through time and can also lend and borrow speed. Speedsters can also heal more rapidly than an average human. In addition, most incarnations have an invisible aura around their respective bodies that protects them from <a class=\"mw-redirect\" href=\"/wiki/Air_friction\" title=\"Air friction\">air friction</a> and the kinetic effects of their powers.\n",
       " </p>,\n",
       " <p>On several occasions, the Flash has raced against <a href=\"/wiki/Superman\" title=\"Superman\">Superman</a>, either to determine who is faster or as part of a mutual effort to thwart some type of threat; these races, however, often result in ties because of outside circumstances. Writer <a href=\"/wiki/Jim_Shooter\" title=\"Jim Shooter\">Jim Shooter</a> and artist <a href=\"/wiki/Curt_Swan\" title=\"Curt Swan\">Curt Swan</a> crafted the story \"Superman's Race with the Flash!\" in <i><a href=\"/wiki/Superman_(comic_book)\" title=\"Superman (comic book)\">Superman</a></i> #199 (August 1967), which featured the first race between the Flash and Superman.<sup class=\"reference\" id=\"cite_ref-18\"><a href=\"#cite_note-18\">[18]</a></sup> Writer <a href=\"/wiki/E._Nelson_Bridwell\" title=\"E. Nelson Bridwell\">E. Nelson Bridwell</a> and artist <a href=\"/wiki/Ross_Andru\" title=\"Ross Andru\">Ross Andru</a> produced \"The Race to the End of the Universe\", a follow-up story four months later in <i>The Flash</i> #175 (December 1967).<sup class=\"reference\" id=\"cite_ref-19\"><a href=\"#cite_note-19\">[19]</a></sup> However, after the <a href=\"/wiki/DC_Universe\" title=\"DC Universe\">DC Universe</a> revision after <i><a href=\"/wiki/Crisis_on_Infinite_Earths\" title=\"Crisis on Infinite Earths\">Crisis on Infinite Earths</a></i>, the Flash does successfully beat Superman in a race in <i>The Adventures of Superman</i> #463, with the explanation that Superman is not accustomed to running at high speed for extended periods of time since flying is more versatile and less strenuous, which means the far more practiced Flash has the advantage. After <a href=\"/wiki/Final_Crisis\" title=\"Final Crisis\">Final Crisis</a> in <a href=\"/wiki/The_Flash:_Rebirth\" title=\"The Flash: Rebirth\"><i>Flash: Rebirth</i> #3</a>, the Flash is shown as being significantly faster than Superman, able to outrun him as Superman struggles to keep up with him. He reveals that all the close races between them before had been \"for charity\". In the <i><a href=\"/wiki/Smallville\" title=\"Smallville\">Smallville</a></i> episode \"Run\", the Flash can not only run faster than a pre-Superman Clark Kent but also match Clark's top speed while running backward.\n",
       " </p>,\n",
       " <p>While various incarnations of the Flash have proven their ability to run at light speed, the ability to steal speed from other objects allows respective Flashes to even significantly surpass this velocity. In <i>Flash: The Human Race</i>,<sup class=\"reference\" id=\"cite_ref-20\"><a href=\"#cite_note-20\">[20]</a></sup> Wally is shown absorbing kinetic energy, to an extent enabling him to move faster than teleportation and run from the end of the universe back to earth in less than a Planck instant.\n",
       " </p>,\n",
       " <p>Speedsters may at times use the ability to speed-read at incredible rates and in doing so, process vast amounts of information. Whatever knowledge they acquire in this manner is usually temporary. Their ability to think fast also allows them some immunity to telepathy, as their thoughts operate at a rate too rapid for telepaths such as <a href=\"/wiki/Martian_Manhunter\" title=\"Martian Manhunter\">Martian Manhunter</a> or <a href=\"/wiki/Gorilla_Grodd\" title=\"Gorilla Grodd\">Gorilla Grodd</a> to read or influence their minds.\n",
       " </p>,\n",
       " <p>Flashes and other super-speedsters also have the ability to speak to one another at a highly accelerated rate. This is often done to have private conversations in front of non-fast people (as when Flash speaks to Superman about his ability to serve both the <a href=\"/wiki/Teen_Titans\" title=\"Teen Titans\">Titans</a> and the JLA in <i>The Titans</i> #2). Speed-talking is also sometimes used for comedic effect where Flash becomes so excited that he begins talking faster and faster until his words become a jumble of noise. He also has the ability to change the vibration of his vocal cords making it so he can change how his voice sounds to others.\n",
       " </p>,\n",
       " <p>While not having the physical strength of many of his comrades and enemies, Flash has shown to be able to use his speed to exert incredible momentum into physical attacks. In <a href=\"/wiki/Injustice:_Gods_Among_Us\" title=\"Injustice: Gods Among Us\">Injustice: Gods Among Us</a>, Flash uses these kinds of attacks as many of his special moves.\n",
       " </p>,\n",
       " <p>The Flash has also claimed that he can process thoughts in less than an <a href=\"/wiki/Attosecond\" title=\"Attosecond\">attosecond</a>. At times he is able to throw lightning created by his super speed and make speed vortices.\n",
       " </p>,\n",
       " <p>Some flashes also have the ability to create speed avatars (i.e. duplicates) and these avatars have sometimes been sent to different timelines to complete a particular mission. (Barry Allen exhibits this ability in the live action series \"The Flash\").\n",
       " </p>,\n",
       " <p>He can also be seen negating the effects of the anti-life equation, when he freed Iris-West from its control (probably due to his connection with the Speed Force).\n",
       " </p>,\n",
       " <p>It is said that Wally West has reached the velocity of 23,759,449,000,000,000,000,000,000,000,000,000,000,000,000 (about 24 tredecillion) × c (the speed of light), and he could only do this with the help of every human being on earth moving so the Speed Force was joined through everyone.<sup class=\"reference\" id=\"cite_ref-21\"><a href=\"#cite_note-21\">[21]</a></sup> With that speed, he was able to run not only from planet to planet but also to different galaxies and universes at what would be considered a blink of an eye.\n",
       " </p>,\n",
       " <p>In the final issue of <i><a href=\"/wiki/52_(comics)\" title=\"52 (comics)\">52</a></i>, a new Multiverse is revealed, originally consisting of 52 identical realities. Among the parallel realities shown is one designated \"Earth-2\". As a result of <a href=\"/wiki/Mister_Mind\" title=\"Mister Mind\">Mister Mind</a> \"eating\" aspects of this reality, it takes on visual aspects similar to the pre-Crisis Earth-2, including the Flash among other Justice Society of America characters. The names of the characters and the team are not mentioned in the panel in which they appear, but the Flash is visually similar to the Jay Garrick Flash.<sup class=\"reference\" id=\"cite_ref-22\"><a href=\"#cite_note-22\">[22]</a></sup> Based on comments by <a href=\"/wiki/Grant_Morrison\" title=\"Grant Morrison\">Grant Morrison</a>, this alternate universe is not the pre-Crisis Earth-2.<sup class=\"reference\" id=\"cite_ref-23\"><a href=\"#cite_note-23\">[23]</a></sup>\n",
       " </p>,\n",
       " <p>A variant of the Flash—a superfast college student named Mary Maxwell—was seen in the Elseworld book <i><a href=\"/wiki/Just_Imagine...\" title=\"Just Imagine...\">Just Imagine</a> Stan Lee Creating The Flash</i>.\n",
       " </p>,\n",
       " <p>The Flash of <a href=\"/wiki/Multiverse_(DC_Comics)#Infinite_Multiverse\" title=\"Multiverse (DC Comics)\">Earth-D</a>, Rei was a <a href=\"/wiki/Japanese_people\" title=\"Japanese people\">Japanese</a> man who idolized Barry Allen, whose stories only existed in comic books on this world. Rei was inspired by Allen to become the Flash, much like Allen was inspired to become the Flash by his idol, Jay Garrick. Allen and Rei meet during the \"Crisis on Infinite Earths\" when Barry is coming back from the 30th century and arrives in the wrong universe. As Earth-D was under attack by the shadow demons, Barry called on the Justice League and Tanaka called on the Justice Alliance, his world's version of the Justice League. They built a <a class=\"mw-redirect\" href=\"/wiki/Cosmic_treadmill\" title=\"Cosmic treadmill\">cosmic treadmill</a> and were able to evacuate much of Earth-D's population. The Justice League left, but 39 seconds later, Earth-D perished.\n",
       " </p>,\n",
       " <p>Rei made his only appearance in <i>Legends of the DC Universe: Crisis on Infinite Earths</i> (February 1999). The story was written by <a href=\"/wiki/Marv_Wolfman\" title=\"Marv Wolfman\">Marv Wolfman</a>, with art by <a href=\"/wiki/Paul_Ryan_(cartoonist)\" title=\"Paul Ryan (cartoonist)\">Paul Ryan</a> (pencils) and <a href=\"/wiki/Bob_McLeod_(comics)\" title=\"Bob McLeod (comics)\">Bob McLeod</a> (ink).\n",
       " </p>,\n",
       " <p>The young, female Flash of the <a href=\"/wiki/Tangent_Comics\" title=\"Tangent Comics\">Tangent</a> Universe is not a <a class=\"mw-redirect\" href=\"/wiki/Speedster_(comics)\" title=\"Speedster (comics)\">speedster</a>, but instead \"the first child born in space\" and a being made up of and able to control light. As a side effect, she can move at the speed of light, which actually makes her faster than most of the other <a class=\"mw-redirect\" href=\"/wiki/Post-Crisis\" title=\"Post-Crisis\">Post-Crisis</a> Flashes, with only <a href=\"/wiki/Wally_West\" title=\"Wally West\">Wally West</a> having survived a light-speed run without becoming trapped in the <a class=\"mw-redirect\" href=\"/wiki/Speed_Force\" title=\"Speed Force\">Speed Force</a>.<sup class=\"reference\" id=\"cite_ref-24\"><a href=\"#cite_note-24\">[24]</a></sup> She recently reappeared in <i>Justice League of America</i> (vol. 2) #16, somehow summoned out of the paper \"green lantern\" of her universe—an artifact that survived the Crisis that erased the Tangent Universe from existence.<sup class=\"reference\" id=\"cite_ref-25\"><a href=\"#cite_note-25\">[25]</a></sup> Lia Nelson also appeared in <i>Countdown: Arena</i>, battling two versions of the Flash from other Earths within the <a href=\"/wiki/Multiverse_(DC_Comics)\" title=\"Multiverse (DC Comics)\">Multiverse</a>.<sup class=\"reference\" id=\"cite_ref-26\"><a href=\"#cite_note-26\">[26]</a></sup> In the 52-Earth Multiverse, the Tangent Universe is designated <a href=\"/wiki/List_of_DC_Multiverse_worlds\" title=\"List of DC Multiverse worlds\">Earth-9</a>.\n",
       " </p>,\n",
       " <p>In <i><a href=\"/wiki/Superman_%26_Batman:_Generations#Generations_2\" title=\"Superman &amp; Batman: Generations\">Superman &amp; Batman: Generations 2</a></i>, three different Flashes appear: Wally West as <a href=\"/wiki/Kid_Flash\" title=\"Kid Flash\">Kid Flash</a> in 1964, Wally's cousin Carrie as Kid Flash in 1986, and Jay West, the son of Wally and his wife Magda as the fifth Flash in 2008. Barry Allen makes a cameo appearance out of costume in 1964.\n",
       " </p>,\n",
       " <p>Ali Rayner-West, aka Green Lightning, is a descendant of both Kyle Rayner and Wally West. She has both a power ring and superspeed, as seen in <i><a href=\"/wiki/Green_Lantern:_Circle_of_Fire\" title=\"Green Lantern: Circle of Fire\">Green Lantern: Circle of Fire</a></i>. She was a living construct created by Kyle Rayner's subconscious, who later re-fused into his mind.<sup class=\"reference\" id=\"cite_ref-27\"><a href=\"#cite_note-27\">[27]</a></sup>\n",
       " </p>,\n",
       " <p>A teenage version of <a href=\"/wiki/Jesse_Chambers\" title=\"Jesse Chambers\">Jesse Chambers</a> appears as the Flash of the Ame-Comi universe. As with most of the other characters of that Earth, she sports an <a href=\"/wiki/Anime\" title=\"Anime\">Anime</a>-inspired costume.<sup class=\"reference\" id=\"cite_ref-28\"><a href=\"#cite_note-28\">[28]</a></sup>\n",
       " </p>,\n",
       " <p>The 1980s series <i><a href=\"/wiki/Captain_Carrot_and_His_Amazing_Zoo_Crew!\" title=\"Captain Carrot and His Amazing Zoo Crew!\">Captain Carrot and His Amazing Zoo Crew!</a></i> presented the <a href=\"/wiki/Multiverse_(DC_Comics)\" title=\"Multiverse (DC Comics)\">parallel Earth</a> of \"Earth-C-Minus\", a world populated by <a href=\"/wiki/Talking_animals_in_fiction\" title=\"Talking animals in fiction\">talking animal</a> superheroes that paralleled the mainstream DC Universe. Earth-C-Minus was the home of the Crash, a <a href=\"/wiki/Turtle\" title=\"Turtle\">turtle</a> with super-speed powers similar to those of Barry Allen's, and a member of his world's superhero team, the <a class=\"mw-redirect\" href=\"/wiki/Just%27a_Lotta_Animals\" title=\"Just'a Lotta Animals\">Just'a Lotta Animals</a>. The Crash as a youth had read comics about Earth-C's <a href=\"/wiki/Terrific_Whatzit\" title=\"Terrific Whatzit\">Terrific Whatzit</a>, similar to how Barry Allen enjoyed comics about Earth-Two's Jay Garrick.<sup class=\"reference\" id=\"cite_ref-29\"><a href=\"#cite_note-29\">[29]</a></sup>\n",
       " </p>,\n",
       " <p>An African-American teenager of <a class=\"mw-redirect\" href=\"/wiki/Earth-12\" title=\"Earth-12\">Earth 12</a> named Danica Williams appears as the Flash in the <i><a class=\"new\" href=\"/w/index.php?title=Justice_League_Beyond&amp;action=edit&amp;redlink=1\" title=\"Justice League Beyond (page does not exist)\">Justice League Beyond</a></i> series, acting as Wally West's successor during the 2040s (following the events of <i><a href=\"/wiki/Batman_Beyond\" title=\"Batman Beyond\">Batman Beyond</a></i>). She is employed at the Flash Museum in Central City, and like Barry Allen, is chronically late.<sup class=\"reference\" id=\"cite_ref-30\"><a href=\"#cite_note-30\">[30]</a></sup> She later enters into a relationship with Billy Batson, who is the secret identity of the superhero, <a href=\"/wiki/Captain_Marvel_(DC_Comics)\" title=\"Captain Marvel (DC Comics)\">Captain Marvel</a>.\n",
       " </p>,\n",
       " <p>The following writers have been involved in the ongoing <i>The Flash</i> and <i>Flash Comics</i> series:\n",
       " </p>,\n",
       " <p>The comics and characters have been nominated for and won several awards over the years, including:\n",
       " </p>,\n",
       " <p>Throughout his 70-year history, the Flash has appeared in numerous media. The Flash has been included in multiple animated features, such as <i><a href=\"/wiki/Super_Friends\" title=\"Super Friends\">Super Friends</a></i> and <i><a class=\"mw-redirect\" href=\"/wiki/Justice_League_(animated_series)\" title=\"Justice League (animated series)\">Justice League</a></i>, as well as his own <a href=\"/wiki/The_Flash_(1990_TV_series)\" title=\"The Flash (1990 TV series)\">live action television series</a> and some guest star appearances on <i><a href=\"/wiki/Smallville\" title=\"Smallville\">Smallville</a></i> (as the Bart Allen/<a class=\"mw-redirect\" href=\"/wiki/Impulse_(DC_Comics)\" title=\"Impulse (DC Comics)\">Impulse</a> version.) There are numerous videos that feature the character.\n",
       " </p>,\n",
       " <p>Ever since the Flash has been published as a comic, many TV shows and films have been making references to the popular character. As you'll see below, there are some notable references to the Flash that appear in <i>The Big Bang Theory</i> and <i>The Simpsons</i>. \n",
       " </p>,\n",
       " <p>Numerous references to the Flash are presented on the television show <i><a href=\"/wiki/The_Big_Bang_Theory\" title=\"The Big Bang Theory\">The Big Bang Theory</a></i>. A particular reference is main character <a href=\"/wiki/Sheldon_Cooper\" title=\"Sheldon Cooper\">Sheldon Cooper</a>'s Flash <a href=\"/wiki/T-shirt\" title=\"T-shirt\">t-shirt</a>, which has become a staple of <a class=\"mw-redirect\" href=\"/wiki/Merchandise\" title=\"Merchandise\">merchandise</a> clothing. In the season 1 episode <a href=\"/wiki/The_Big_Bang_Theory_(season_1)#ep6\" title=\"The Big Bang Theory (season 1)\">The Middle-Earth Paradigm</a>, the four main male characters on the show all independently dress up for a Halloween party as the Flash before deciding that they can't all be the Flash so no one gets to.  In the season 10 episode <a href=\"/wiki/The_Big_Bang_Theory_(season_10)#ep218\" title=\"The Big Bang Theory (season 10)\">The Birthday Synchronicity</a>, Sheldon bought a Flash onesie for Howard &amp; Bernadette's newborn.\n",
       " </p>,\n",
       " <p>In <a href=\"/wiki/Lost_(season_3)\" title=\"Lost (season 3)\">season 3</a> of <i><a href=\"/wiki/Lost_(TV_series)\" title=\"Lost (TV series)\">Lost</a></i>, in the episode \"<a href=\"/wiki/Catch-22_(Lost)\" title=\"Catch-22 (Lost)\">Catch-22</a>\", Charlie and Hurley debate over who would win a footrace between the Flash and Superman.\n",
       " </p>,\n",
       " <p>The false name <a href=\"/wiki/Flash_(Barry_Allen)\" title=\"Flash (Barry Allen)\">Barry Allen</a> is used by character of con artist <a class=\"mw-redirect\" href=\"/wiki/Frank_Abagnale,_Jr.\" title=\"Frank Abagnale, Jr.\">Frank Abagnale, Jr.</a>(posing as a Secret Service Agent), in the movie <i><a href=\"/wiki/Catch_Me_If_You_Can\" title=\"Catch Me If You Can\">Catch Me If You Can</a></i>. When a coffee shop waiter notices the notes of <a class=\"mw-redirect\" href=\"/wiki/FBI\" title=\"FBI\">FBI</a> agent Carl Hanratty, he reveals that Barry Allen is the Flash, giving Carl a vital clue to his unknown subject's identity.\n",
       " </p>,\n",
       " <p>In 2006, a near-pristine copy of <i>Flash Comics</i> #1 was sold in a <a href=\"/wiki/Heritage_Auctions\" title=\"Heritage Auctions\">Heritage</a> Auction for $273,125. The same book was then sold privately for $450,000 in 2010.<sup class=\"reference\" id=\"cite_ref-41\"><a href=\"#cite_note-41\">[41]</a></sup>\n",
       " </p>,\n",
       " <p>Renan Kanbay wears a Flash costume while playing Carrie, the manager of a <a class=\"mw-redirect\" href=\"/wiki/Comic_book_store\" title=\"Comic book store\">comic book store</a>, in <a href=\"/wiki/Joe_Lipari\" title=\"Joe Lipari\">Joe Lipari</a>'s <i><a class=\"mw-redirect\" href=\"/wiki/Dream_Job_(short_film)\" title=\"Dream Job (short film)\">Dream Job</a></i> (2011).<sup class=\"reference\" id=\"cite_ref-42\"><a href=\"#cite_note-42\">[42]</a></sup>\n",
       " </p>,\n",
       " <p>The band <a href=\"/wiki/Jim%27s_Big_Ego\" title=\"Jim's Big Ego\">Jim's Big Ego</a> wrote the song \"The Ballad of Barry Allen\" detailing the hardship having to watch time moving so slowly from the perspective of Allen. The frontman of the band, <a href=\"/wiki/Jim_Infantino\" title=\"Jim Infantino\">Jim Infantino</a> is the nephew of Flash artist <a href=\"/wiki/Carmine_Infantino\" title=\"Carmine Infantino\">Carmine Infantino</a>.\n",
       " </p>,\n",
       " <p>In the film <i><a href=\"/wiki/Daddy_Day_Care\" title=\"Daddy Day Care\">Daddy Day Care</a></i>, one of the day care kids named Tony wore a Flash costume for the majority of the film.\n",
       " </p>,\n",
       " <p>In the <i><a href=\"/wiki/My_Little_Pony:_Friendship_Is_Magic\" title=\"My Little Pony: Friendship Is Magic\">My Little Pony: Friendship Is Magic</a></i> episode \"<a href=\"/wiki/Power_Ponies\" title=\"Power Ponies\">Power Ponies</a>\", Pinkie Pie becomes a superhero based on the Flash called Fili-Second.\n",
       " </p>,\n",
       " <p>In an episode of <i><a href=\"/wiki/The_Simpsons\" title=\"The Simpsons\">The Simpsons</a></i>, <a href=\"/wiki/Comic_Book_Guy\" title=\"Comic Book Guy\">Comic Book Guy</a> dresses as The Flash while running in a marathon. He says \"No one can outrun the Flash\" but ends up falling in a pothole and gets stuck.\n",
       " </p>,\n",
       " <p>Like <a href=\"/wiki/Batman\" title=\"Batman\">Batman</a>, <a href=\"/wiki/Superman\" title=\"Superman\">Superman</a>, and <a href=\"/wiki/Green_Lantern\" title=\"Green Lantern\">Green Lantern</a>, the Flash has a reputation for having fought a distinctive and memorable <a class=\"mw-redirect\" href=\"/wiki/Rogues_gallery\" title=\"Rogues gallery\">rogues gallery</a> of supervillains. In the Flash's case, some of these villains have adopted the term \"Flash's Rogues Gallery\" as an official title, and insist on being called \"Rogues\" rather than \"supervillains\" or similar names. At times, various combinations of the Rogues have banded together to commit crimes or take revenge on the Flash, usually under the leadership of Captain Cold.\n",
       " </p>,\n",
       " <p>The Rogues are known for their communal style relationship, socializing together and operating under a strict moral code, sometimes brutally enforced by <a href=\"/wiki/Captain_Cold\" title=\"Captain Cold\">Captain Cold</a>. Such \"rules\" include \"no drugs\" and, except in very dire situations or on unique occasions, \"no killing\".\n",
       " </p>]"
      ]
     },
     "execution_count": 56,
     "metadata": {},
     "output_type": "execute_result"
    }
   ],
   "source": [
    "bs.select('p')"
   ]
  },
  {
   "cell_type": "code",
   "execution_count": 59,
   "id": "3f6c9847",
   "metadata": {
    "ExecuteTime": {
     "end_time": "2022-09-30T13:03:45.582349Z",
     "start_time": "2022-09-30T13:03:45.453834Z"
    }
   },
   "outputs": [
    {
     "name": "stdout",
     "output_type": "stream",
     "text": [
      "The Flash (or simply Flash) is the name of several superheroes appearing in American comic books published by DC Comics. Created by writer Gardner Fox and artist Harry Lampert, the original Flash first appeared in Flash Comics #1 (cover date January 1940/release month November 1939).[1] Nicknamed \"the Scarlet Speedster\", all incarnations of the Flash possess \"superspeed\", which includes the ability to run, move, and think extremely fast, use superhuman reflexes, and seemingly violate certain laws of physics.\n",
      "\n",
      "Thus far, at least five different characters—each of whom somehow gained the power of \"the Speed Force\"—have assumed the mantle of the Flash in DC's history: college athlete Jay Garrick (1940–1951, 1961–2011, 2017–present), forensic scientist Barry Allen (1956–1985, 2008–present), Barry's nephew Wally West (1986–2011, 2016–present), Barry's grandson Bart Allen (2006–2007), and Chinese-American Avery Ho (2017–present). Each incarnation of the Flash has been a key member of at least one of DC's premier teams: the Justice Society of America, the Justice League, and the Teen Titans.\n",
      "\n",
      "The Flash is one of DC Comics' most popular characters and has been integral to the publisher's many reality-changing \"crisis\" story lines over the years. The original meeting of the Golden Age Flash Jay Garrick and Silver Age Flash Barry Allen in \"Flash of Two Worlds\" (1961) introduced the Multiverse storytelling concept to DC readers, which would become the basis for many DC stories in the years to come.\n",
      "\n",
      "Like his Justice League colleagues Wonder Woman, Superman and Batman, the Flash has a distinctive cast of adversaries, including the various Rogues (unique among DC supervillains for their code of honor) and the various psychopathic \"speedsters\" who go by the names Reverse-Flash or Zoom. Other supporting characters in Flash stories include Barry's wife Iris West, Wally's wife Linda Park, Bart's girlfriend Valerie Perez, friendly fellow speedster Max Mercury, and Central City police department members David Singh and Patty Spivot.\n",
      "\n",
      "A staple of the comic book DC Universe, the Flash has been adapted to numerous DC films, video games, animated series, and live-action television shows. In live-action, Barry Allen has been portrayed by Rod Haase for the 1979 television special Legends of the Superheroes, John Wesley Shipp in the 1990 The Flash series and Grant Gustin in the 2014 The Flash series, and by Ezra Miller in the DC Extended Universe series of films, beginning with Batman v Superman: Dawn of Justice (2016). Shipp also portrays a version of Jay Garrick in the 2014 The Flash series. The various incarnations of the Flash also feature in animated series such as Superman: The Animated Series, Justice League, Batman: The Brave and the Bold and Young Justice, as well as the DC Universe Animated Original Movies series.\n",
      "\n",
      "The Flash first appeared in the Golden Age Flash Comics #1 (January 1940), from All-American Publications, one of three companies that would eventually merge to form DC Comics. Created by writer Gardner Fox and artist Harry Lampert, this Flash was Jay Garrick, a college student who gained his speed through the inhalation of hard water vapors. When re-introduced in the 1960s Garrick's origin was modified slightly, gaining his powers through exposure to heavy water.\n",
      "\n",
      "Jay Garrick was a popular character in the 1940s, supporting both Flash Comics and All-Flash Quarterly (later published bi-monthly as simply All-Flash); co-starring in Comic Cavalcade; and being a charter member of the Justice Society of America, the first superhero team, whose adventures ran in All Star Comics. With superheroes' post-war decline in popularity, Flash Comics was canceled with issue #104 (1949) which featured an evil version of the Flash called the Rival. The Justice Society's final Golden Age story ran in All Star Comics #57 (1951; the title itself continued as All Star Western).\n",
      "\n",
      "In 1956, DC Comics successfully revived superheroes, ushering in what became known as the Silver Age of comic books. Rather than bringing back the same Golden Age heroes, DC rethought them as new characters for the modern age. The Flash was the first revival, in the tryout comic book Showcase #4 (October 1956).\n",
      "\n",
      "This new Flash was (Barry Allen), a police scientist who gained super-speed when bathed by chemicals after a shelf of them was struck by lightning. He adopted the name The Scarlet Speedster after reading a comic book featuring the Golden Age Flash.[1] After several more appearances in Showcase, Allen's character was given his own title, The Flash, the first issue of which was #105 (resuming where Flash Comics had left off). Barry Allen and the new Flash were created by writers Robert Kanigher and John Broome and cartoonist Carmine Infantino.\n",
      "\n",
      "The Silver Age Flash proved popular enough that several other Golden Age heroes were revived in new incarnations (see: Green Lantern). A new superhero team, the Justice League of America, was also created, with the Flash as a main, charter member.\n",
      "\n",
      "Barry Allen's title also introduced a much-imitated plot device into superhero comics when it was revealed that Garrick and Allen existed on fictional parallel worlds. Their powers allowed them to cross the dimensional boundary between worlds, and the men became good friends. Flash of Two Worlds (The Flash #123) was the first crossover in which a Golden Age character met a Silver Age character. Soon, there were crossovers between the entire Justice League and the Justice Society; their respective teams began an annual get-together which endured from the early 1960s until the mid-1980s.\n",
      "\n",
      "Allen's adventures continued in his own title until the event of Crisis on Infinite Earths. The Flash ended as a series with issue #350. Allen's life had become considerably confused in the early 1980s, and DC elected to end his adventures and pass the mantle on to another character. Allen died heroically in Crisis on Infinite Earths #8 (1985). Thanks to his ability to travel through time, he would continue to appear occasionally in the years to come.\n",
      "\n",
      "The third Flash was Wally West, introduced in The Flash #110 (December 1959) as Kid Flash. West, Allen's nephew by marriage, gained the Flash's powers through an accident identical to Allen's. Adopting the identity of Kid Flash, he maintained membership in the Teen Titans for years. Following Allen's death, West adopted the Flash identity in Crisis on Infinite Earths #12 and was given his own series, beginning with The Flash (vol. 2) #1 in 1987.[1] Many issues began with the catchphrase: \"My name is Wally West. I'm the fastest man alive.\"\n",
      "\n",
      "Due to the Infinite Crisis miniseries and the \"One Year Later\" jump in time in the DC Universe, DC canceled The Flash (vol. 2) in January 2006 at #230. A new series, The Flash: The Fastest Man Alive, began on June 21, 2006. The initial story arc of this series, written by Danny Bilson and Paul De Meo with art by Ken Lashley, focused on Bart Allen's acceptance of the role of the Flash.\n",
      "\n",
      "Flash: Fastest Man Alive was canceled with issue #13. In its place The Flash (vol. 2) was revived with issue #231, with Mark Waid as the initial writer. Waid also wrote All-Flash #1, which acted as the bridge between the two series.[2] DC had solicited The Flash: The Fastest Man Alive through issue #15. All Flash #1 replaced issue #14 and The Flash (vol. 2) #231 replaced issue #15 in title and interior creative team only. The covers and cover artists were as solicited by DC, and the information text released was devoid of any plot information.[3][4]\n",
      "\n",
      "In 2009, Barry Allen made a full-fledged return to the DCU-proper in The Flash: Rebirth, a six-issue miniseries by Geoff Johns and Ethan Van Sciver.[5]\n",
      "\n",
      "While several other individuals have used the name Flash, these have either on parallel worlds or in the future. Jay Garrick, Barry Allen, and Wally West are the best-known exemplars of the identity.\n",
      "The signature wingdings are never absent.\n",
      "\n",
      "Jay Garrick was a college student in 1938 who accidentally inhaled heavy water vapors after taking a smoke break inside his laboratory where he had been working.[6] As a result, he found that he could run at superhuman speed and had similarly fast reflexes. After a brief career as a college football star, he donned a red shirt with a lightning bolt and a stylized metal helmet with wings (based on images of the Greek deity Hermes), and began to fight crime as the Flash. His first case involved battling the \"Faultless Four\", a group of blackmailers. Garrick kept his identity secret for years without a mask by continually vibrating his body while in public so that any photograph of his face would be blurred. Although originally from Earth-Two, he was incorporated into the history of New Earth following the Crisis on Infinite Earths and is still active as the Flash operating out of Keystone City. He is a member of the Justice Society.\n",
      "\n",
      "Barry Allen is an assistant scientist from the Criminal and Forensic Science Division of Central City Police Department. Barry had a reputation for being very slow, deliberate, and frequently late, which frustrated his fiancée, Iris West. One night, as he was preparing to leave work, a freak lightning bolt struck a nearby shelf in his lab and doused him with a cocktail of unnamed chemicals. As a result, Barry found that he could run extremely fast and had matching reflexes. He donned a set of red tights sporting a lightning bolt (reminiscent of the original Fawcett Comics Captain Marvel), dubbed himself the Flash (after his childhood hero, Jay Garrick), and became a crimefighter active in Central City. In his civilian identity, he stores the costume compressed in a special ring via the use of a special gas that could compress cloth fibers to a very small fraction of their normal size.\n",
      "\n",
      "Barry sacrificed his life for the universe in the 1985 maxi-series Crisis on Infinite Earths and remained dead for over twenty years after that story's publication. With the 2008 series Final Crisis, Barry returned to the DC Universe and returned to full prominence as the Flash in the 2009 series The Flash: Rebirth, which was soon after followed by a new volume of The Flash ongoing series, where Barry's adventures as the Scarlet Speedster were published until 2020.[7][8]\n",
      "\n",
      "Wallace Rudolph \"Wally\" West is the nephew of both Iris West and Barry Allen, by marriage, and was introduced in The Flash #110 (1959). When West was about ten years old, he was visiting his uncle's police laboratory, and the freak accident that gave Allen his powers repeated itself, bathing West in electrically charged chemicals. Now possessing the same powers as his uncle, West donned a copy of his uncle's outfit and became the young, crime fighter, Kid Flash. After the events of Crisis on Infinite Earths where Barry Allen was killed, Wally took over as the fastest man alive. Following the events of Infinite Crisis, Wally, his wife Linda, and their twins left Earth for an unknown dimension.\n",
      "\n",
      "Wally, his wife, and twins were pulled back from the Speed Force by the Legion of Super-Heroes at the conclusion of The Lightning Saga.[9] This set the stage for Wally West's return as the Flash after the events of The Flash: Fastest Man Alive #13 (see Bart Allen), in All Flash #1, and with The Flash (vol. 2) series, which resumed with issue #231 in August 2007. It subsequently ends with issue #247, and West, along with all the other Flash characters, play a large role in 2009's The Flash: Rebirth.[7] He briefly appears in the Blackest Night story arc but shortly after the New 52 was launched and the character was nowhere to be seen. He is back as the Flash in DC Rebirth with a new red and silver costume, and joined the Titans. After a series of events, Wally is restored as the central character of The Flash series, becoming the primary Scarlet Speedster again since The Flash #771 (2021), where Wally's adventures as the Fastest Man Alive are currently published, and returned to his main red and gold Flash costume.\n",
      "\n",
      "Bartholomew Henry \"Bart\" Allen II is the grandson of Barry Allen and his wife Iris. Bart suffered from accelerated aging and as a result, was raised in a virtual reality machine until Iris took him back in time to get help from the then-current Flash, Wally West. With Wally's help, Bart's aging slowed, and he took the name Impulse. After he was shot in the knee by Deathstroke, Bart changed both his attitude and his costume, taking the mantle of Kid Flash. During the events of Infinite Crisis, the Speed Force vanished, taking with it all the speedsters save Jay Garrick. Bart returned, four years older, and for a year claimed that he was depowered from the event. However, the Speed Force had not disappeared completely, but had been absorbed into Bart's body; essentially, he now contained all of the Speed Force.\n",
      "\n",
      "Bart's costume as the Flash was a clone of his grandfather's, similarly stylized to Wally West's. Not long after taking the mantle of the Flash, Bart was killed by the Rogues in the thirteenth (and final) issue of The Flash: The Fastest Man Alive. However, he was later resurrected in the 31st century in Final Crisis: Legion of 3 Worlds #3 by Brainiac 5 to combat Superboy-Prime and the Legion of Super-Villains. Bart returned to the past and played a large role in The Flash: Rebirth.[10]\n",
      "\n",
      "Avery Ho is a Chinese American woman, who, while living in Central City, is caught in the same Speed Force Storm that created Godspeed. This results in Avery gaining a connection to the Speed Force and superspeed powers.[11] After gaining control of her new powers, Avery joined the Justice League of China as The Flash, battling her former boss China White.[12] After Barry Allen went missing, Avery was recruited to take his place on in multi-dimensional team Justice League Incarnate. [13]\n",
      "\n",
      "Daughter of the speedster Johnny Quick, Jesse Chambers becomes a speeding superhero like her father. She later meets Wally West, the Flash, who asks her to be his replacement if something were to happen to him (as part of an elaborate plan on his part, trying to force Bart Allen to take his role in the legacy of the Flash more seriously). She briefly assumes the mantle of the Flash, after Wally enters the Speed Force.[14]\n",
      "\n",
      "John Fox was a historian for the National Academy of Science in Central City in the 27th Century. He was sent back in time to get the help of one or more of the three Flashes (Garrick, Allen, West), in order to defeat the radioactive villain Mota back in Fox's own time period. (Each Flash had individually fought Mota over the course of several years in the 20th century.) Fox's mission was a failure, but during his return trip, the tachyon radiation that sent him through the time stream gave him superspeed. He defeated Mota as a new iteration of the Flash and operated as his century's Flash for a time. Shortly after, he moved to the 853rd century and joined \"Justice Legion A\" (also known as Justice Legion Alpha) as seen in the DC One Million series of books.\n",
      "The name \"John Fox\" is combined from the names of seminal comic book writers John Broome, who co-created the Barry Allen and Wally West Flashes, and Gardner Fox, who co-created the Jay Garrick Flash.\n",
      "\n",
      "The father of Sela Allen, his wife and daughter were captured by Cobalt Blue. He is forced to watch his wife die and his daughter become crippled. As he and Max Mercury kill Cobalt Blue, a child takes Cobalt Blue's power gem and kills Allen. This Flash is one of the two destined Flashes to be killed by Cobalt Blue.\n",
      "\n",
      "Sela Allen is an ordinary human in the 23rd century until Cobalt Blue steals electrical impulses away from her, causing her to become as slow to the world as the world is to the Flash. Hoping to restore her, her father takes her into the Speed Force. When her father is killed, she appears as a living manifestation of the Speed Force, able to lend speed to various people and objects, but unable to physically interact with the world.[1]\n",
      "\n",
      "Blaine Allen and his son live on the colony world of Petrus in the 28th century. In an attempt to end the Allen blood line, Cobalt Blue injects Allen's son Jace with a virus. Lacking super speed, Jace was unable to shake off the virus. In despair, Blaine takes his son to the Speed Force in the hopes that it would accept him. It takes Blaine instead and grants superspeed to Jace so that he can shake off the sickness.[15]\n",
      "\n",
      "Jace Allen gains superspeed when his father brings him into the Speed Force to attempt to cure him of a virus injected into his body by Cobalt Blue in an attempt to end the Allen bloodline.[15] In memory of his father, Jace assumes the mantle of the Flash and continues the feud against Cobalt Blue.[16]\n",
      "\n",
      "After an alien creature invades Earth, a history buff named Kriyad travels back in time from the 98th century to acquire a Green Lantern power ring. He fails, so he tries to capture the Flash's speed instead. After being beaten by Barry Allen (The Flash #309, May 1982), he travels back further in time and uses the chemicals from the clothes Barry Allen was wearing when he gained his powers to give himself super speed. Kryiad later sacrifices his life to defeat the alien creature.\n",
      "\n",
      "Bizarro-Flash was created when Bizarro cloned Flash. He had a costume the reverse colors of Flash's, however he had a mallet symbol because Flash was holding one when he was cloned. The modern version of Bizarro Flash has the symbol of a thunderbolt-shaped mustard stain. He has the powers of the Flash but he is completely intangible.\n",
      "\n",
      "All incarnations of the Flash can move, think, and react at light speeds as well as having superhuman endurance that allows them to run incredible distances. Some, notably later versions, can vibrate so fast that they can pass through walls in a process called quantum tunneling,[17] travel through time and can also lend and borrow speed. Speedsters can also heal more rapidly than an average human. In addition, most incarnations have an invisible aura around their respective bodies that protects them from air friction and the kinetic effects of their powers.\n",
      "\n",
      "On several occasions, the Flash has raced against Superman, either to determine who is faster or as part of a mutual effort to thwart some type of threat; these races, however, often result in ties because of outside circumstances. Writer Jim Shooter and artist Curt Swan crafted the story \"Superman's Race with the Flash!\" in Superman #199 (August 1967), which featured the first race between the Flash and Superman.[18] Writer E. Nelson Bridwell and artist Ross Andru produced \"The Race to the End of the Universe\", a follow-up story four months later in The Flash #175 (December 1967).[19] However, after the DC Universe revision after Crisis on Infinite Earths, the Flash does successfully beat Superman in a race in The Adventures of Superman #463, with the explanation that Superman is not accustomed to running at high speed for extended periods of time since flying is more versatile and less strenuous, which means the far more practiced Flash has the advantage. After Final Crisis in Flash: Rebirth #3, the Flash is shown as being significantly faster than Superman, able to outrun him as Superman struggles to keep up with him. He reveals that all the close races between them before had been \"for charity\". In the Smallville episode \"Run\", the Flash can not only run faster than a pre-Superman Clark Kent but also match Clark's top speed while running backward.\n",
      "\n",
      "While various incarnations of the Flash have proven their ability to run at light speed, the ability to steal speed from other objects allows respective Flashes to even significantly surpass this velocity. In Flash: The Human Race,[20] Wally is shown absorbing kinetic energy, to an extent enabling him to move faster than teleportation and run from the end of the universe back to earth in less than a Planck instant.\n",
      "\n",
      "Speedsters may at times use the ability to speed-read at incredible rates and in doing so, process vast amounts of information. Whatever knowledge they acquire in this manner is usually temporary. Their ability to think fast also allows them some immunity to telepathy, as their thoughts operate at a rate too rapid for telepaths such as Martian Manhunter or Gorilla Grodd to read or influence their minds.\n",
      "\n",
      "Flashes and other super-speedsters also have the ability to speak to one another at a highly accelerated rate. This is often done to have private conversations in front of non-fast people (as when Flash speaks to Superman about his ability to serve both the Titans and the JLA in The Titans #2). Speed-talking is also sometimes used for comedic effect where Flash becomes so excited that he begins talking faster and faster until his words become a jumble of noise. He also has the ability to change the vibration of his vocal cords making it so he can change how his voice sounds to others.\n",
      "\n",
      "While not having the physical strength of many of his comrades and enemies, Flash has shown to be able to use his speed to exert incredible momentum into physical attacks. In Injustice: Gods Among Us, Flash uses these kinds of attacks as many of his special moves.\n",
      "\n",
      "The Flash has also claimed that he can process thoughts in less than an attosecond. At times he is able to throw lightning created by his super speed and make speed vortices.\n",
      "\n",
      "Some flashes also have the ability to create speed avatars (i.e. duplicates) and these avatars have sometimes been sent to different timelines to complete a particular mission. (Barry Allen exhibits this ability in the live action series \"The Flash\").\n",
      "\n",
      "He can also be seen negating the effects of the anti-life equation, when he freed Iris-West from its control (probably due to his connection with the Speed Force).\n",
      "\n",
      "It is said that Wally West has reached the velocity of 23,759,449,000,000,000,000,000,000,000,000,000,000,000,000 (about 24 tredecillion) × c (the speed of light), and he could only do this with the help of every human being on earth moving so the Speed Force was joined through everyone.[21] With that speed, he was able to run not only from planet to planet but also to different galaxies and universes at what would be considered a blink of an eye.\n",
      "\n",
      "In the final issue of 52, a new Multiverse is revealed, originally consisting of 52 identical realities. Among the parallel realities shown is one designated \"Earth-2\". As a result of Mister Mind \"eating\" aspects of this reality, it takes on visual aspects similar to the pre-Crisis Earth-2, including the Flash among other Justice Society of America characters. The names of the characters and the team are not mentioned in the panel in which they appear, but the Flash is visually similar to the Jay Garrick Flash.[22] Based on comments by Grant Morrison, this alternate universe is not the pre-Crisis Earth-2.[23]\n",
      "\n",
      "A variant of the Flash—a superfast college student named Mary Maxwell—was seen in the Elseworld book Just Imagine Stan Lee Creating The Flash.\n",
      "\n",
      "The Flash of Earth-D, Rei was a Japanese man who idolized Barry Allen, whose stories only existed in comic books on this world. Rei was inspired by Allen to become the Flash, much like Allen was inspired to become the Flash by his idol, Jay Garrick. Allen and Rei meet during the \"Crisis on Infinite Earths\" when Barry is coming back from the 30th century and arrives in the wrong universe. As Earth-D was under attack by the shadow demons, Barry called on the Justice League and Tanaka called on the Justice Alliance, his world's version of the Justice League. They built a cosmic treadmill and were able to evacuate much of Earth-D's population. The Justice League left, but 39 seconds later, Earth-D perished.\n",
      "\n",
      "Rei made his only appearance in Legends of the DC Universe: Crisis on Infinite Earths (February 1999). The story was written by Marv Wolfman, with art by Paul Ryan (pencils) and Bob McLeod (ink).\n",
      "\n",
      "The young, female Flash of the Tangent Universe is not a speedster, but instead \"the first child born in space\" and a being made up of and able to control light. As a side effect, she can move at the speed of light, which actually makes her faster than most of the other Post-Crisis Flashes, with only Wally West having survived a light-speed run without becoming trapped in the Speed Force.[24] She recently reappeared in Justice League of America (vol. 2) #16, somehow summoned out of the paper \"green lantern\" of her universe—an artifact that survived the Crisis that erased the Tangent Universe from existence.[25] Lia Nelson also appeared in Countdown: Arena, battling two versions of the Flash from other Earths within the Multiverse.[26] In the 52-Earth Multiverse, the Tangent Universe is designated Earth-9.\n",
      "\n",
      "In Superman & Batman: Generations 2, three different Flashes appear: Wally West as Kid Flash in 1964, Wally's cousin Carrie as Kid Flash in 1986, and Jay West, the son of Wally and his wife Magda as the fifth Flash in 2008. Barry Allen makes a cameo appearance out of costume in 1964.\n",
      "\n",
      "Ali Rayner-West, aka Green Lightning, is a descendant of both Kyle Rayner and Wally West. She has both a power ring and superspeed, as seen in Green Lantern: Circle of Fire. She was a living construct created by Kyle Rayner's subconscious, who later re-fused into his mind.[27]\n",
      "\n",
      "A teenage version of Jesse Chambers appears as the Flash of the Ame-Comi universe. As with most of the other characters of that Earth, she sports an Anime-inspired costume.[28]\n",
      "\n",
      "The 1980s series Captain Carrot and His Amazing Zoo Crew! presented the parallel Earth of \"Earth-C-Minus\", a world populated by talking animal superheroes that paralleled the mainstream DC Universe. Earth-C-Minus was the home of the Crash, a turtle with super-speed powers similar to those of Barry Allen's, and a member of his world's superhero team, the Just'a Lotta Animals. The Crash as a youth had read comics about Earth-C's Terrific Whatzit, similar to how Barry Allen enjoyed comics about Earth-Two's Jay Garrick.[29]\n",
      "\n",
      "An African-American teenager of Earth 12 named Danica Williams appears as the Flash in the Justice League Beyond series, acting as Wally West's successor during the 2040s (following the events of Batman Beyond). She is employed at the Flash Museum in Central City, and like Barry Allen, is chronically late.[30] She later enters into a relationship with Billy Batson, who is the secret identity of the superhero, Captain Marvel.\n",
      "\n",
      "The following writers have been involved in the ongoing The Flash and Flash Comics series:\n",
      "\n",
      "The comics and characters have been nominated for and won several awards over the years, including:\n",
      "\n",
      "Throughout his 70-year history, the Flash has appeared in numerous media. The Flash has been included in multiple animated features, such as Super Friends and Justice League, as well as his own live action television series and some guest star appearances on Smallville (as the Bart Allen/Impulse version.) There are numerous videos that feature the character.\n",
      "\n",
      "Ever since the Flash has been published as a comic, many TV shows and films have been making references to the popular character. As you'll see below, there are some notable references to the Flash that appear in The Big Bang Theory and The Simpsons. \n",
      "\n",
      "Numerous references to the Flash are presented on the television show The Big Bang Theory. A particular reference is main character Sheldon Cooper's Flash t-shirt, which has become a staple of merchandise clothing. In the season 1 episode The Middle-Earth Paradigm, the four main male characters on the show all independently dress up for a Halloween party as the Flash before deciding that they can't all be the Flash so no one gets to.  In the season 10 episode The Birthday Synchronicity, Sheldon bought a Flash onesie for Howard & Bernadette's newborn.\n",
      "\n",
      "In season 3 of Lost, in the episode \"Catch-22\", Charlie and Hurley debate over who would win a footrace between the Flash and Superman.\n",
      "\n",
      "The false name Barry Allen is used by character of con artist Frank Abagnale, Jr.(posing as a Secret Service Agent), in the movie Catch Me If You Can. When a coffee shop waiter notices the notes of FBI agent Carl Hanratty, he reveals that Barry Allen is the Flash, giving Carl a vital clue to his unknown subject's identity.\n",
      "\n",
      "In 2006, a near-pristine copy of Flash Comics #1 was sold in a Heritage Auction for $273,125. The same book was then sold privately for $450,000 in 2010.[41]\n",
      "\n",
      "Renan Kanbay wears a Flash costume while playing Carrie, the manager of a comic book store, in Joe Lipari's Dream Job (2011).[42]\n",
      "\n",
      "The band Jim's Big Ego wrote the song \"The Ballad of Barry Allen\" detailing the hardship having to watch time moving so slowly from the perspective of Allen. The frontman of the band, Jim Infantino is the nephew of Flash artist Carmine Infantino.\n",
      "\n",
      "In the film Daddy Day Care, one of the day care kids named Tony wore a Flash costume for the majority of the film.\n",
      "\n",
      "In the My Little Pony: Friendship Is Magic episode \"Power Ponies\", Pinkie Pie becomes a superhero based on the Flash called Fili-Second.\n",
      "\n",
      "In an episode of The Simpsons, Comic Book Guy dresses as The Flash while running in a marathon. He says \"No one can outrun the Flash\" but ends up falling in a pothole and gets stuck.\n",
      "\n",
      "Like Batman, Superman, and Green Lantern, the Flash has a reputation for having fought a distinctive and memorable rogues gallery of supervillains. In the Flash's case, some of these villains have adopted the term \"Flash's Rogues Gallery\" as an official title, and insist on being called \"Rogues\" rather than \"supervillains\" or similar names. At times, various combinations of the Rogues have banded together to commit crimes or take revenge on the Flash, usually under the leadership of Captain Cold.\n",
      "\n",
      "The Rogues are known for their communal style relationship, socializing together and operating under a strict moral code, sometimes brutally enforced by Captain Cold. Such \"rules\" include \"no drugs\" and, except in very dire situations or on unique occasions, \"no killing\".\n",
      "\n"
     ]
    }
   ],
   "source": [
    "for i in bs.select('p'):\n",
    "    content=i.text\n",
    "    print(content)"
   ]
  },
  {
   "cell_type": "code",
   "execution_count": 60,
   "id": "21c6184a",
   "metadata": {
    "ExecuteTime": {
     "end_time": "2022-09-30T13:05:13.251715Z",
     "start_time": "2022-09-30T13:05:13.231718Z"
    }
   },
   "outputs": [],
   "source": [
    "stopWords = set(stopwords.words(\"english\"))\n",
    "words = word_tokenize(content)"
   ]
  },
  {
   "cell_type": "code",
   "execution_count": 61,
   "id": "23b19d6b",
   "metadata": {
    "ExecuteTime": {
     "end_time": "2022-09-30T13:05:21.820733Z",
     "start_time": "2022-09-30T13:05:21.808749Z"
    }
   },
   "outputs": [],
   "source": [
    "freq_table = dict()\n",
    "for word in words:\n",
    "    word = word.lower()\n",
    "    if word in stopWords:\n",
    "        continue\n",
    "    if word in freq_table:\n",
    "        freq_table[word] += 1\n",
    "    else:\n",
    "        freq_table[word] = 1"
   ]
  },
  {
   "cell_type": "code",
   "execution_count": 62,
   "id": "5113e99b",
   "metadata": {
    "ExecuteTime": {
     "end_time": "2022-09-30T13:05:26.869882Z",
     "start_time": "2022-09-30T13:05:26.856702Z"
    }
   },
   "outputs": [],
   "source": [
    "sentences = sent_tokenize(text)\n",
    "sent_value = dict()"
   ]
  },
  {
   "cell_type": "code",
   "execution_count": 63,
   "id": "d36a6d0d",
   "metadata": {
    "ExecuteTime": {
     "end_time": "2022-09-30T13:05:34.289751Z",
     "start_time": "2022-09-30T13:05:34.277746Z"
    }
   },
   "outputs": [],
   "source": [
    "for sentence in sentences:\n",
    "    for word, freq in freq_table.items():\n",
    "        if word in sentence.lower():\n",
    "            if sentence in sent_value:\n",
    "                sent_value[sentence] += freq\n",
    "            else:\n",
    "                sent_value[sentence] = freq"
   ]
  },
  {
   "cell_type": "code",
   "execution_count": 67,
   "id": "fbff4017",
   "metadata": {
    "ExecuteTime": {
     "end_time": "2022-09-30T13:05:55.095337Z",
     "start_time": "2022-09-30T13:05:55.073323Z"
    }
   },
   "outputs": [
    {
     "data": {
      "text/plain": [
       "71"
      ]
     },
     "execution_count": 67,
     "metadata": {},
     "output_type": "execute_result"
    }
   ],
   "source": [
    "sum_val = 0\n",
    "for sentence in sent_value:\n",
    "    sum_val += sent_value[sentence]\n",
    "sumValues"
   ]
  },
  {
   "cell_type": "code",
   "execution_count": 66,
   "id": "9fad547f",
   "metadata": {
    "ExecuteTime": {
     "end_time": "2022-09-30T13:05:50.296822Z",
     "start_time": "2022-09-30T13:05:50.284426Z"
    }
   },
   "outputs": [
    {
     "data": {
      "text/plain": [
       "5"
      ]
     },
     "execution_count": 66,
     "metadata": {},
     "output_type": "execute_result"
    }
   ],
   "source": [
    "avg = int(sum_val / len(sent_value))\n",
    "avg"
   ]
  },
  {
   "cell_type": "code",
   "execution_count": 70,
   "id": "cd252823",
   "metadata": {
    "ExecuteTime": {
     "end_time": "2022-09-30T13:06:15.305737Z",
     "start_time": "2022-09-30T13:06:15.296318Z"
    }
   },
   "outputs": [
    {
     "name": "stdout",
     "output_type": "stream",
     "text": [
      "Created by writer Gardner Fox and artist Harry Lampert, the original Flash first appeared in Flash Comics #1 (cover date January 1940/release month November 1939).Nicknamed \"the Scarlet Speedster\", all incarnations of the Flash possess \"superspeed\", which includes the ability to run, move, and think extremely fast, use superhuman reflexes, and seemingly violate certain laws of physics.Thus far, at least five different characters—each of whom somehow gained the power of \"the Speed Force\"—have assumed the mantle of the Flash in DC's history: college athlete Jay Garrick (1940–1951, 1961–2011, 2017–present), forensic scientist Barry Allen (1956–1985, 2008–present), Barry's nephew Wally West (1986–2011, 2016–present), Barry's grandson Bart Allen (2006–2007), and Chinese-American Avery Ho (2017–present).Each incarnation of the Flash has been a key member of at least one of DC's premier teams: the Justice Society of America, the Justice League, and the Teen Titans.The original meeting of the Golden Age Flash Jay Garrick and Silver Age Flash Barry Allen in \"Flash of Two Worlds\" (1961) introduced the Multiverse storytelling concept to DC readers, which would become the basis for many DC stories in the years to come.Like his Justice League colleagues Wonder Woman, Superman and Batman, the Flash has a distinctive cast of adversaries, including the various Rogues (unique among DC supervillains for their code of honor) and the various psychopathic \"speedsters\" who go by the names Reverse-Flash or Zoom.Other supporting characters in Flash stories include Barry's wife Iris West, Wally's wife Linda Park, Bart's girlfriend Valerie Perez, friendly fellow speedster Max Mercury, and Central City police department members David Singh and Patty Spivot.A staple of the comic book DC Universe, the Flash has been adapted to numerous DC films, video games, animated series, and live-action television shows.In live-action, Barry Allen has been portrayed by Rod Haase for the 1979 television special Legends of the Superheroes, John Wesley Shipp in the 1990 The Flash series and Grant Gustin in the 2014 The Flash series, and by Ezra Miller in the DC Extended Universe series of films, beginning with Batman v Superman: Dawn of Justice (2016).The various incarnations of the Flash also feature in animated series such as Superman: The Animated Series, Justice League, Batman: The Brave and the Bold and Young Justice, as well as the DC Universe Animated Original Movies series.\n"
     ]
    }
   ],
   "source": [
    "summary = ''\n",
    "for sentence in sentences:\n",
    "    if (sentence in sent_value) and (sent_value[sentence] > (0.6 * avg)):\n",
    "        summary += sentence\n",
    "print(summary)"
   ]
  },
  {
   "cell_type": "code",
   "execution_count": null,
   "id": "940b4b2b",
   "metadata": {},
   "outputs": [],
   "source": []
  }
 ],
 "metadata": {
  "kernelspec": {
   "display_name": "Python 3 (ipykernel)",
   "language": "python",
   "name": "python3"
  },
  "language_info": {
   "codemirror_mode": {
    "name": "ipython",
    "version": 3
   },
   "file_extension": ".py",
   "mimetype": "text/x-python",
   "name": "python",
   "nbconvert_exporter": "python",
   "pygments_lexer": "ipython3",
   "version": "3.8.8"
  }
 },
 "nbformat": 4,
 "nbformat_minor": 5
}
