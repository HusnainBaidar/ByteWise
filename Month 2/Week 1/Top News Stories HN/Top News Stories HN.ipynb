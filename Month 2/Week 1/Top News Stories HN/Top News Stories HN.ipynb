{
 "cells": [
  {
   "cell_type": "code",
   "execution_count": 1,
   "id": "6d9982df",
   "metadata": {
    "ExecuteTime": {
     "end_time": "2022-09-29T13:52:49.032039Z",
     "start_time": "2022-09-29T13:52:46.805361Z"
    }
   },
   "outputs": [],
   "source": [
    "import requests\n",
    "from bs4 import BeautifulSoup\n",
    "import smtplib\n",
    "from email.mime.multipart import MIMEMultipart\n",
    "from email.mime.text import MIMEText\n",
    "import datetime"
   ]
  },
  {
   "cell_type": "code",
   "execution_count": 5,
   "id": "8f969ca4",
   "metadata": {
    "ExecuteTime": {
     "end_time": "2022-09-29T14:00:07.420359Z",
     "start_time": "2022-09-29T14:00:02.629607Z"
    },
    "scrolled": false
   },
   "outputs": [
    {
     "name": "stdout",
     "output_type": "stream",
     "text": [
      "Composing Email...\n",
      "Initiating Server\n"
     ]
    },
    {
     "name": "stderr",
     "output_type": "stream",
     "text": [
      "send: 'ehlo [192.168.1.78]\\r\\n'\n",
      "reply: b'250-smtp.gmail.com at your service, [39.33.241.119]\\r\\n'\n",
      "reply: b'250-SIZE 35882577\\r\\n'\n",
      "reply: b'250-8BITMIME\\r\\n'\n",
      "reply: b'250-STARTTLS\\r\\n'\n",
      "reply: b'250-ENHANCEDSTATUSCODES\\r\\n'\n",
      "reply: b'250-PIPELINING\\r\\n'\n",
      "reply: b'250-CHUNKING\\r\\n'\n",
      "reply: b'250 SMTPUTF8\\r\\n'\n",
      "reply: retcode (250); Msg: b'smtp.gmail.com at your service, [39.33.241.119]\\nSIZE 35882577\\n8BITMIME\\nSTARTTLS\\nENHANCEDSTATUSCODES\\nPIPELINING\\nCHUNKING\\nSMTPUTF8'\n",
      "send: 'STARTTLS\\r\\n'\n",
      "reply: b'220 2.0.0 Ready to start TLS\\r\\n'\n",
      "reply: retcode (220); Msg: b'2.0.0 Ready to start TLS'\n",
      "send: 'ehlo [192.168.1.78]\\r\\n'\n",
      "reply: b'250-smtp.gmail.com at your service, [39.33.241.119]\\r\\n'\n",
      "reply: b'250-SIZE 35882577\\r\\n'\n",
      "reply: b'250-8BITMIME\\r\\n'\n",
      "reply: b'250-AUTH LOGIN PLAIN XOAUTH2 PLAIN-CLIENTTOKEN OAUTHBEARER XOAUTH\\r\\n'\n",
      "reply: b'250-ENHANCEDSTATUSCODES\\r\\n'\n",
      "reply: b'250-PIPELINING\\r\\n'\n",
      "reply: b'250-CHUNKING\\r\\n'\n",
      "reply: b'250 SMTPUTF8\\r\\n'\n",
      "reply: retcode (250); Msg: b'smtp.gmail.com at your service, [39.33.241.119]\\nSIZE 35882577\\n8BITMIME\\nAUTH LOGIN PLAIN XOAUTH2 PLAIN-CLIENTTOKEN OAUTHBEARER XOAUTH\\nENHANCEDSTATUSCODES\\nPIPELINING\\nCHUNKING\\nSMTPUTF8'\n",
      "send: 'AUTH PLAIN AGJhaWRhcmh1c25haW5AZ21haWwuY29tAHB0cGZsY3J4cG14aGJ0Y2w=\\r\\n'\n",
      "reply: b'235 2.7.0 Accepted\\r\\n'\n",
      "reply: retcode (235); Msg: b'2.7.0 Accepted'\n",
      "send: 'mail FROM:<baidarhusnain@gmail.com> size=6367\\r\\n'\n",
      "reply: b'250 2.1.0 OK l17-20020a1709062a9100b00780b1979adesm4025233eje.218 - gsmtp\\r\\n'\n",
      "reply: retcode (250); Msg: b'2.1.0 OK l17-20020a1709062a9100b00780b1979adesm4025233eje.218 - gsmtp'\n",
      "send: 'rcpt TO:<baidarhusnain@gmail.com>\\r\\n'\n",
      "reply: b'250 2.1.5 OK l17-20020a1709062a9100b00780b1979adesm4025233eje.218 - gsmtp\\r\\n'\n",
      "reply: retcode (250); Msg: b'2.1.5 OK l17-20020a1709062a9100b00780b1979adesm4025233eje.218 - gsmtp'\n",
      "send: 'data\\r\\n'\n",
      "reply: b'354  Go ahead l17-20020a1709062a9100b00780b1979adesm4025233eje.218 - gsmtp\\r\\n'\n",
      "reply: retcode (354); Msg: b'Go ahead l17-20020a1709062a9100b00780b1979adesm4025233eje.218 - gsmtp'\n",
      "data: (354, b'Go ahead l17-20020a1709062a9100b00780b1979adesm4025233eje.218 - gsmtp')\n",
      "send: b'Content-Type: multipart/mixed; boundary=\"===============7998330168154526135==\"\\r\\nMIME-Version: 1.0\\r\\nSubject: Top News Stories HN [Automated Email] 29-9-2022\\r\\nFrom: baidarhusnain@gmail.com\\r\\nTo: baidarhusnain@gmail.com\\r\\n\\r\\n--===============7998330168154526135==\\r\\nContent-Type: text/html; charset=\"utf-8\"\\r\\nMIME-Version: 1.0\\r\\nContent-Transfer-Encoding: base64\\r\\n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\\r\\nLS0tPGJyPjxicj48YnI+RW5kIG9mIEVtYWls\\r\\n\\r\\n--===============7998330168154526135==--\\r\\n.\\r\\n'\n"
     ]
    },
    {
     "name": "stdout",
     "output_type": "stream",
     "text": [
      "Email Sent\n"
     ]
    },
    {
     "name": "stderr",
     "output_type": "stream",
     "text": [
      "reply: b'250 2.0.0 OK  1664460006 l17-20020a1709062a9100b00780b1979adesm4025233eje.218 - gsmtp\\r\\n'\n",
      "reply: retcode (250); Msg: b'2.0.0 OK  1664460006 l17-20020a1709062a9100b00780b1979adesm4025233eje.218 - gsmtp'\n",
      "data: (250, b'2.0.0 OK  1664460006 l17-20020a1709062a9100b00780b1979adesm4025233eje.218 - gsmtp')\n",
      "send: 'quit\\r\\n'\n",
      "reply: b'221 2.0.0 closing connection l17-20020a1709062a9100b00780b1979adesm4025233eje.218 - gsmtp\\r\\n'\n",
      "reply: retcode (221); Msg: b'2.0.0 closing connection l17-20020a1709062a9100b00780b1979adesm4025233eje.218 - gsmtp'\n"
     ]
    },
    {
     "data": {
      "text/plain": [
       "(221,\n",
       " b'2.0.0 closing connection l17-20020a1709062a9100b00780b1979adesm4025233eje.218 - gsmtp')"
      ]
     },
     "execution_count": 5,
     "metadata": {},
     "output_type": "execute_result"
    }
   ],
   "source": [
    "now = datetime.datetime.now()\n",
    "content = ''\n",
    "cnt = ''\n",
    "\n",
    "url = 'https://news.ycombinator.com/'\n",
    "req = requests.get(url)\n",
    "soup = BeautifulSoup(req.content, 'html.parser')\n",
    "\n",
    "cnt +=('<b>Hacker News Top Stories :</b>\\n'+'<br>'+'-'*50+'<br>')\n",
    "for i,tag in enumerate(soup.find_all(\"span\", class_=\"titleline\")):\n",
    "    cnt += ((str(i+1)+' :: '+ '<a href=\"' + tag.a.get('href') + '\">' + tag.text + '</a>' + \"\\n\" + '<br>') if tag.text!='More' else '')\n",
    "    \n",
    "\n",
    "content += cnt\n",
    "content += ('<br>------<br>')\n",
    "content +=('<br><br>End of Email')\n",
    "\n",
    "print('Composing Email...')\n",
    "recipients=['your@gmail.com']\n",
    "SERVER = 'smtp.gmail.com' \n",
    "PORT = 587 \n",
    "FROM =  'your@gmail.com' \n",
    "TO = ', '.join(recipients) \n",
    "PASS = '****'\n",
    "\n",
    "msg = MIMEMultipart()\n",
    "\n",
    "\n",
    "msg['Subject'] = 'Top News Stories HN [Automated Email]' + ' ' + str(now.day) + '-' + str(now.month) + '-' + str(\n",
    "    now.year)\n",
    "msg['From'] = FROM\n",
    "msg['To'] = TO\n",
    "\n",
    "msg.attach(MIMEText(content, 'html'))\n",
    "\n",
    "print('Initiating Server')\n",
    "\n",
    "server = smtplib.SMTP(SERVER, PORT)\n",
    "server.set_debuglevel(1)\n",
    "server.ehlo()\n",
    "server.starttls()\n",
    "server.login(FROM, PASS)\n",
    "server.sendmail(FROM, TO, msg.as_string())\n",
    "\n",
    "print('Email Sent')\n",
    "\n",
    "server.quit()"
   ]
  },
  {
   "cell_type": "code",
   "execution_count": null,
   "id": "34171538",
   "metadata": {},
   "outputs": [],
   "source": []
  }
 ],
 "metadata": {
  "kernelspec": {
   "display_name": "Python 3 (ipykernel)",
   "language": "python",
   "name": "python3"
  },
  "language_info": {
   "codemirror_mode": {
    "name": "ipython",
    "version": 3
   },
   "file_extension": ".py",
   "mimetype": "text/x-python",
   "name": "python",
   "nbconvert_exporter": "python",
   "pygments_lexer": "ipython3",
   "version": "3.8.8"
  }
 },
 "nbformat": 4,
 "nbformat_minor": 5
}
