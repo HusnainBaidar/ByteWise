{
 "cells": [
  {
   "cell_type": "markdown",
   "id": "3c34b537",
   "metadata": {},
   "source": [
    "## Importing Libraries "
   ]
  },
  {
   "cell_type": "code",
   "execution_count": 11,
   "id": "21bd9631",
   "metadata": {
    "ExecuteTime": {
     "end_time": "2022-09-30T12:02:50.397316Z",
     "start_time": "2022-09-30T12:02:50.378315Z"
    }
   },
   "outputs": [],
   "source": [
    "from PIL import Image\n",
    "import glob"
   ]
  },
  {
   "cell_type": "markdown",
   "id": "f5d373e8",
   "metadata": {},
   "source": [
    "## PNG to JPG"
   ]
  },
  {
   "cell_type": "code",
   "execution_count": 18,
   "id": "f89779d8",
   "metadata": {
    "ExecuteTime": {
     "end_time": "2022-09-30T12:19:39.126486Z",
     "start_time": "2022-09-30T12:19:39.107503Z"
    }
   },
   "outputs": [
    {
     "name": "stdout",
     "output_type": "stream",
     "text": [
      "['batman_PNG8.png', 'eagle.png', 'earth.png']\n"
     ]
    }
   ],
   "source": [
    "print(glob.glob(\"*.png\"))"
   ]
  },
  {
   "cell_type": "code",
   "execution_count": 19,
   "id": "d1bee4d2",
   "metadata": {
    "ExecuteTime": {
     "end_time": "2022-09-30T12:19:40.352966Z",
     "start_time": "2022-09-30T12:19:39.658738Z"
    }
   },
   "outputs": [],
   "source": [
    "for file in glob.glob(\"*.png\"):\n",
    "    image = Image.open(file)\n",
    "    rgb_im = image.convert('RGB')\n",
    "    rgb_im.save(file.replace(\"png\", \"jpg\"), quality=100)"
   ]
  },
  {
   "cell_type": "code",
   "execution_count": 20,
   "id": "3e7d85dd",
   "metadata": {
    "ExecuteTime": {
     "end_time": "2022-09-30T12:19:41.130852Z",
     "start_time": "2022-09-30T12:19:41.115540Z"
    },
    "scrolled": true
   },
   "outputs": [
    {
     "name": "stdout",
     "output_type": "stream",
     "text": [
      "['batman_PNG8.jpg', 'eagle.jpg', 'earth.jpg']\n"
     ]
    }
   ],
   "source": [
    "print(glob.glob(\"*.jpg\"))"
   ]
  },
  {
   "cell_type": "markdown",
   "id": "3064ebf5",
   "metadata": {},
   "source": [
    "## JPG to PNG"
   ]
  },
  {
   "cell_type": "code",
   "execution_count": 24,
   "id": "f14e974d",
   "metadata": {
    "ExecuteTime": {
     "end_time": "2022-09-30T12:20:51.131326Z",
     "start_time": "2022-09-30T12:20:45.551596Z"
    }
   },
   "outputs": [],
   "source": [
    "for file in glob.glob(\"*.jpg\"):\n",
    "    image = Image.open(file)\n",
    "    rgb_im = image.convert('RGBA')\n",
    "    rgb_im.save(\"new_\"+file.replace(\"jpg\", \"png\"), quality=99)"
   ]
  },
  {
   "cell_type": "code",
   "execution_count": 25,
   "id": "130c9eb6",
   "metadata": {
    "ExecuteTime": {
     "end_time": "2022-09-30T12:20:51.147062Z",
     "start_time": "2022-09-30T12:20:51.135331Z"
    }
   },
   "outputs": [
    {
     "name": "stdout",
     "output_type": "stream",
     "text": [
      "['batman_PNG8.png', 'eagle.png', 'earth.png', 'new_batman_PNG8.png', 'new_eagle.png', 'new_earth.png']\n"
     ]
    }
   ],
   "source": [
    "print(glob.glob(\"*.png\"))"
   ]
  },
  {
   "cell_type": "code",
   "execution_count": null,
   "id": "3be75f35",
   "metadata": {},
   "outputs": [],
   "source": []
  }
 ],
 "metadata": {
  "kernelspec": {
   "display_name": "Python 3 (ipykernel)",
   "language": "python",
   "name": "python3"
  },
  "language_info": {
   "codemirror_mode": {
    "name": "ipython",
    "version": 3
   },
   "file_extension": ".py",
   "mimetype": "text/x-python",
   "name": "python",
   "nbconvert_exporter": "python",
   "pygments_lexer": "ipython3",
   "version": "3.8.8"
  }
 },
 "nbformat": 4,
 "nbformat_minor": 5
}
