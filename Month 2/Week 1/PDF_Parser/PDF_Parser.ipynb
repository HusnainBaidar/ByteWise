{
 "cells": [
  {
   "cell_type": "markdown",
   "id": "75f99b0d",
   "metadata": {},
   "source": [
    "## Importing Libraries"
   ]
  },
  {
   "cell_type": "code",
   "execution_count": 6,
   "id": "f5e9bfb7",
   "metadata": {
    "ExecuteTime": {
     "end_time": "2022-09-30T13:38:26.755940Z",
     "start_time": "2022-09-30T13:38:25.289577Z"
    }
   },
   "outputs": [],
   "source": [
    "import spacy\n",
    "import pdfminer\n",
    "import re\n",
    "import os\n",
    "import pandas as pd\n",
    "import pdf2txt\n",
    "nlp = spacy.load(\"en_core_web_sm\")"
   ]
  },
  {
   "cell_type": "markdown",
   "id": "7c8d8697",
   "metadata": {},
   "source": [
    "## Making a custom function to read pdf files"
   ]
  },
  {
   "cell_type": "code",
   "execution_count": 7,
   "id": "21184650",
   "metadata": {
    "ExecuteTime": {
     "end_time": "2022-09-30T13:38:26.771433Z",
     "start_time": "2022-09-30T13:38:26.760381Z"
    }
   },
   "outputs": [],
   "source": [
    "def convert_pdf(f):\n",
    "    output_filename = os.path.basename(os.path.splitext(f)[0]) + \".txt\"\n",
    "    output_filepath = os.path.join(\"output/txt/\", output_filename)\n",
    "    pdf2txt.main(args=[f, \"--outfile\", output_filepath])\n",
    "    print(output_filepath + \" saved successfully!!!\")\n",
    "    return open(output_filepath).read()"
   ]
  },
  {
   "cell_type": "markdown",
   "id": "bf5c485a",
   "metadata": {},
   "source": [
    "## Creating a dictionary"
   ]
  },
  {
   "cell_type": "code",
   "execution_count": 8,
   "id": "f39ffb95",
   "metadata": {
    "ExecuteTime": {
     "end_time": "2022-09-30T13:38:26.816215Z",
     "start_time": "2022-09-30T13:38:26.794274Z"
    }
   },
   "outputs": [],
   "source": [
    "result_dict = {'name': [], 'phone': [], 'email': [], 'skills': []} \n",
    "names = []\n",
    "phones = []\n",
    "emails = []\n",
    "skills = []"
   ]
  },
  {
   "cell_type": "markdown",
   "id": "92eca907",
   "metadata": {},
   "source": [
    "## Parsing all the pdf text data"
   ]
  },
  {
   "cell_type": "code",
   "execution_count": 9,
   "id": "89a9ee22",
   "metadata": {
    "ExecuteTime": {
     "end_time": "2022-09-30T13:38:27.091441Z",
     "start_time": "2022-09-30T13:38:27.075320Z"
    }
   },
   "outputs": [],
   "source": [
    "def parse_content(text):\n",
    "    skillset = re.compile(\"python|java|sql|hadoop|tableau\")\n",
    "    phone_num = re.compile(\n",
    "        \"(\\d{3}[-\\.\\s]??\\d{3}[-\\.\\s]??\\d{4}|\\(\\d{3}\\)\\s*\\d{3}[-\\.\\s]??\\d{4}|\\d{3}[-\\.\\s]??\\d{4})\"\n",
    "    )\n",
    "    doc = nlp(text)\n",
    "    name = [entity.text for entity in doc.ents if entity.label_ == \"PERSON\"][0]\n",
    "    print(name)\n",
    "    email = [word for word in doc if word.like_email == True][0]\n",
    "    print(email)\n",
    "    phone = str(re.findall(phone_num, text.lower()))\n",
    "    skills_list = re.findall(skillset, text.lower())\n",
    "    unique_skills_list = str(set(skills_list))\n",
    "    names.append(name)\n",
    "    emails.append(email)\n",
    "    phones.append(phone)\n",
    "    skills.append(unique_skills_list)\n",
    "    print(\"Extraction completed successfully!!!\")"
   ]
  },
  {
   "cell_type": "markdown",
   "id": "144b0574",
   "metadata": {},
   "source": [
    "## Creating and writing the scraped data from pdf"
   ]
  },
  {
   "cell_type": "code",
   "execution_count": 10,
   "id": "8975aebe",
   "metadata": {
    "ExecuteTime": {
     "end_time": "2022-09-30T13:38:29.349626Z",
     "start_time": "2022-09-30T13:38:27.676206Z"
    },
    "scrolled": true
   },
   "outputs": [
    {
     "name": "stdout",
     "output_type": "stream",
     "text": [
      "Reading.....Alisson ParkerCV.pdf\n",
      "output/txt/Alisson ParkerCV.txt saved successfully!!!\n",
      "Alisson Parker-Wright                                                                                                 \n",
      "alli1414parks@mail.com\n",
      "Extraction completed successfully!!!\n",
      "Reading.....Angelica Astrom.pdf\n",
      "output/txt/Angelica Astrom.txt saved successfully!!!\n",
      "Lorem\n",
      "someone@example.com\n",
      "Extraction completed successfully!!!\n",
      "Reading.....AshleyMilesCV.pdf\n",
      "output/txt/AshleyMilesCV.txt saved successfully!!!\n",
      "Ashley Miles\n",
      "ashleymiles@memail.com\n",
      "Extraction completed successfully!!!\n",
      "Reading.....John DominicCV.pdf\n",
      "output/txt/John DominicCV.txt saved successfully!!!\n",
      "John Dominic\n",
      "johndominic@mail.com\n",
      "Extraction completed successfully!!!\n"
     ]
    }
   ],
   "source": [
    "for file in os.listdir('resumes/'):\n",
    "    if file.endswith('.pdf'):\n",
    "        print('Reading.....' + file)\n",
    "        txt = convert_pdf(os.path.join('resumes/',file))\n",
    "        parse_content(txt)"
   ]
  },
  {
   "cell_type": "markdown",
   "id": "c9f9f39e",
   "metadata": {},
   "source": [
    "## Creating Dataframes"
   ]
  },
  {
   "cell_type": "code",
   "execution_count": 11,
   "id": "1d74d6dd",
   "metadata": {
    "ExecuteTime": {
     "end_time": "2022-09-30T13:38:30.510004Z",
     "start_time": "2022-09-30T13:38:30.499003Z"
    }
   },
   "outputs": [],
   "source": [
    "result_dict['name'] = names\n",
    "result_dict['phone'] = phones\n",
    "result_dict['email'] = emails\n",
    "result_dict['skills'] = skills"
   ]
  },
  {
   "cell_type": "code",
   "execution_count": 12,
   "id": "e8d4fd33",
   "metadata": {
    "ExecuteTime": {
     "end_time": "2022-09-30T13:38:31.427076Z",
     "start_time": "2022-09-30T13:38:31.369930Z"
    },
    "scrolled": true
   },
   "outputs": [
    {
     "data": {
      "text/html": [
       "<div>\n",
       "<style scoped>\n",
       "    .dataframe tbody tr th:only-of-type {\n",
       "        vertical-align: middle;\n",
       "    }\n",
       "\n",
       "    .dataframe tbody tr th {\n",
       "        vertical-align: top;\n",
       "    }\n",
       "\n",
       "    .dataframe thead th {\n",
       "        text-align: right;\n",
       "    }\n",
       "</style>\n",
       "<table border=\"1\" class=\"dataframe\">\n",
       "  <thead>\n",
       "    <tr style=\"text-align: right;\">\n",
       "      <th></th>\n",
       "      <th>name</th>\n",
       "      <th>phone</th>\n",
       "      <th>email</th>\n",
       "      <th>skills</th>\n",
       "    </tr>\n",
       "  </thead>\n",
       "  <tbody>\n",
       "    <tr>\n",
       "      <th>0</th>\n",
       "      <td>Alisson Parker-Wright                         ...</td>\n",
       "      <td>['8569878511']</td>\n",
       "      <td>alli1414parks@mail.com</td>\n",
       "      <td>{'tableau', 'python', 'java'}</td>\n",
       "    </tr>\n",
       "    <tr>\n",
       "      <th>1</th>\n",
       "      <td>Lorem</td>\n",
       "      <td>['(212) 555-1234']</td>\n",
       "      <td>someone@example.com</td>\n",
       "      <td>set()</td>\n",
       "    </tr>\n",
       "    <tr>\n",
       "      <th>2</th>\n",
       "      <td>Ashley Miles</td>\n",
       "      <td>['6592251422']</td>\n",
       "      <td>ashleymiles@memail.com</td>\n",
       "      <td>{'tableau', 'sql'}</td>\n",
       "    </tr>\n",
       "    <tr>\n",
       "      <th>3</th>\n",
       "      <td>John Dominic</td>\n",
       "      <td>['7877756411']</td>\n",
       "      <td>johndominic@mail.com</td>\n",
       "      <td>{'python', 'java', 'hadoop'}</td>\n",
       "    </tr>\n",
       "  </tbody>\n",
       "</table>\n",
       "</div>"
      ],
      "text/plain": [
       "                                                name               phone  \\\n",
       "0  Alisson Parker-Wright                         ...      ['8569878511']   \n",
       "1                                              Lorem  ['(212) 555-1234']   \n",
       "2                                       Ashley Miles      ['6592251422']   \n",
       "3                                       John Dominic      ['7877756411']   \n",
       "\n",
       "                    email                         skills  \n",
       "0  alli1414parks@mail.com  {'tableau', 'python', 'java'}  \n",
       "1     someone@example.com                          set()  \n",
       "2  ashleymiles@memail.com             {'tableau', 'sql'}  \n",
       "3    johndominic@mail.com   {'python', 'java', 'hadoop'}  "
      ]
     },
     "execution_count": 12,
     "metadata": {},
     "output_type": "execute_result"
    }
   ],
   "source": [
    "result_df = pd.DataFrame(result_dict)\n",
    "result_df"
   ]
  },
  {
   "cell_type": "markdown",
   "id": "2c7579de",
   "metadata": {},
   "source": [
    "## Creating a CSV file"
   ]
  },
  {
   "cell_type": "code",
   "execution_count": 13,
   "id": "019b0e5c",
   "metadata": {
    "ExecuteTime": {
     "end_time": "2022-09-30T13:40:15.607956Z",
     "start_time": "2022-09-30T13:40:15.253046Z"
    }
   },
   "outputs": [],
   "source": [
    "result_df.to_csv(\"Parsed_Data.csv\")"
   ]
  },
  {
   "cell_type": "markdown",
   "id": "29e1f601",
   "metadata": {},
   "source": [
    "## Reading created CSV file"
   ]
  },
  {
   "cell_type": "code",
   "execution_count": 14,
   "id": "504ab6f8",
   "metadata": {
    "ExecuteTime": {
     "end_time": "2022-09-30T13:41:09.855124Z",
     "start_time": "2022-09-30T13:41:09.819118Z"
    }
   },
   "outputs": [
    {
     "data": {
      "text/html": [
       "<div>\n",
       "<style scoped>\n",
       "    .dataframe tbody tr th:only-of-type {\n",
       "        vertical-align: middle;\n",
       "    }\n",
       "\n",
       "    .dataframe tbody tr th {\n",
       "        vertical-align: top;\n",
       "    }\n",
       "\n",
       "    .dataframe thead th {\n",
       "        text-align: right;\n",
       "    }\n",
       "</style>\n",
       "<table border=\"1\" class=\"dataframe\">\n",
       "  <thead>\n",
       "    <tr style=\"text-align: right;\">\n",
       "      <th></th>\n",
       "      <th>Unnamed: 0</th>\n",
       "      <th>name</th>\n",
       "      <th>phone</th>\n",
       "      <th>email</th>\n",
       "      <th>skills</th>\n",
       "    </tr>\n",
       "  </thead>\n",
       "  <tbody>\n",
       "    <tr>\n",
       "      <th>0</th>\n",
       "      <td>0</td>\n",
       "      <td>Alisson Parker-Wright                         ...</td>\n",
       "      <td>['8569878511']</td>\n",
       "      <td>alli1414parks@mail.com</td>\n",
       "      <td>{'tableau', 'python', 'java'}</td>\n",
       "    </tr>\n",
       "    <tr>\n",
       "      <th>1</th>\n",
       "      <td>1</td>\n",
       "      <td>Lorem</td>\n",
       "      <td>['(212) 555-1234']</td>\n",
       "      <td>someone@example.com</td>\n",
       "      <td>set()</td>\n",
       "    </tr>\n",
       "    <tr>\n",
       "      <th>2</th>\n",
       "      <td>2</td>\n",
       "      <td>Ashley Miles</td>\n",
       "      <td>['6592251422']</td>\n",
       "      <td>ashleymiles@memail.com</td>\n",
       "      <td>{'tableau', 'sql'}</td>\n",
       "    </tr>\n",
       "    <tr>\n",
       "      <th>3</th>\n",
       "      <td>3</td>\n",
       "      <td>John Dominic</td>\n",
       "      <td>['7877756411']</td>\n",
       "      <td>johndominic@mail.com</td>\n",
       "      <td>{'python', 'java', 'hadoop'}</td>\n",
       "    </tr>\n",
       "  </tbody>\n",
       "</table>\n",
       "</div>"
      ],
      "text/plain": [
       "   Unnamed: 0                                               name  \\\n",
       "0           0  Alisson Parker-Wright                         ...   \n",
       "1           1                                              Lorem   \n",
       "2           2                                       Ashley Miles   \n",
       "3           3                                       John Dominic   \n",
       "\n",
       "                phone                   email                         skills  \n",
       "0      ['8569878511']  alli1414parks@mail.com  {'tableau', 'python', 'java'}  \n",
       "1  ['(212) 555-1234']     someone@example.com                          set()  \n",
       "2      ['6592251422']  ashleymiles@memail.com             {'tableau', 'sql'}  \n",
       "3      ['7877756411']    johndominic@mail.com   {'python', 'java', 'hadoop'}  "
      ]
     },
     "execution_count": 14,
     "metadata": {},
     "output_type": "execute_result"
    }
   ],
   "source": [
    "df = pd.read_csv(\"Parsed_Data.csv\")\n",
    "df"
   ]
  },
  {
   "cell_type": "code",
   "execution_count": null,
   "id": "fb7ab68d",
   "metadata": {},
   "outputs": [],
   "source": []
  }
 ],
 "metadata": {
  "kernelspec": {
   "display_name": "fyp_kernel",
   "language": "python",
   "name": "fyp_kernel"
  },
  "language_info": {
   "codemirror_mode": {
    "name": "ipython",
    "version": 3
   },
   "file_extension": ".py",
   "mimetype": "text/x-python",
   "name": "python",
   "nbconvert_exporter": "python",
   "pygments_lexer": "ipython3",
   "version": "3.9.7"
  }
 },
 "nbformat": 4,
 "nbformat_minor": 5
}
