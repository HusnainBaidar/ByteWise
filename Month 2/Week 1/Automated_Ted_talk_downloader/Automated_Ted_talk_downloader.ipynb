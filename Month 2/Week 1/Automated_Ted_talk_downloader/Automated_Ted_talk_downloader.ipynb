{
 "cells": [
  {
   "cell_type": "markdown",
   "id": "08236bfa",
   "metadata": {},
   "source": [
    "## Importing Libraries"
   ]
  },
  {
   "cell_type": "code",
   "execution_count": 1,
   "id": "cb426441",
   "metadata": {
    "ExecuteTime": {
     "end_time": "2022-09-29T15:24:25.271074Z",
     "start_time": "2022-09-29T15:24:23.458877Z"
    }
   },
   "outputs": [],
   "source": [
    "import requests\n",
    "from bs4 import BeautifulSoup \n",
    "import re\n",
    "import sys"
   ]
  },
  {
   "cell_type": "markdown",
   "id": "c2f41e2d",
   "metadata": {},
   "source": [
    "## Automated Custom Code"
   ]
  },
  {
   "cell_type": "code",
   "execution_count": 2,
   "id": "b68e1eb4",
   "metadata": {
    "ExecuteTime": {
     "end_time": "2022-09-30T13:29:03.982853Z",
     "start_time": "2022-09-30T13:28:47.102743Z"
    }
   },
   "outputs": [
    {
     "name": "stdout",
     "output_type": "stream",
     "text": [
      "Please Enter Your Ted Talk URL : https://www.ted.com/talks/sarah_stroud_ethical_dilemma_would_you_lie\n",
      "Download about to start\n",
      "https://py.tedcdn.com/consus/projects/00/60/38/002/products/2022e-sarah-stroud-lying-ethical-dilemma-002-fallback-af9f4645a97aba531c6cb59db2a80323-1200k.mp4\n",
      "Please Enter The File Name : CustomCode\n"
     ]
    }
   ],
   "source": [
    "url = input(\"Please Enter Your Ted Talk URL : \")\n",
    "r = requests.get(url)\n",
    "print(\"Download about to start\")\n",
    "\n",
    "soup = BeautifulSoup(r.content, \"html.parser\")\n",
    "next_data_script = soup.find(id=\"__NEXT_DATA__\")\n",
    "\n",
    "data_json = next_data_script.string\n",
    "player_data = json.loads(data_json)['props']['pageProps']['videoData']['playerData']\n",
    "url_content = json.loads(player_data)['resources']['h264'][0]['file']\n",
    "print(url_content)\n",
    "mp4_response = requests.get(url_content)\n",
    "\n",
    "user_name = input(\"Please Enter The File Name : \")\n",
    "\n",
    "file_name = user_name+'.mp4'\n",
    "with open(file_name,'wb') as f:\n",
    "    f.write(mp4_response.content)"
   ]
  },
  {
   "cell_type": "markdown",
   "id": "ca7b86bc",
   "metadata": {},
   "source": [
    "## Automated Video Code"
   ]
  },
  {
   "cell_type": "code",
   "execution_count": 1,
   "id": "36f8e5bb",
   "metadata": {
    "ExecuteTime": {
     "end_time": "2022-09-30T13:28:30.023555Z",
     "start_time": "2022-09-30T13:28:00.435291Z"
    }
   },
   "outputs": [
    {
     "name": "stdout",
     "output_type": "stream",
     "text": [
      "Please Enter Your Ted Talk URL : https://www.ted.com/talks/sarah_stroud_ethical_dilemma_would_you_lie\n",
      "Download about to start\n",
      "Downloading video from : https://py.tedcdn.com/consus/projects/00/60/38/002/products/2022e-sarah-stroud-lying-ethical-dilemma-002-fallback-af9f4645a97aba531c6cb59db2a80323-1200k.mp4\n",
      "Storing video in : 2022e-sarah-stroud-lying-ethical-dilemma-002-fallback-af9f4645a97aba531c6cb59db2a80323-1200k.mp4\n",
      "Please Enter The File Name : Video_Code\n"
     ]
    }
   ],
   "source": [
    "import requests \n",
    "from bs4 import BeautifulSoup \n",
    "import re \n",
    "import sys \n",
    "\n",
    "if len(sys.argv) > 1:\n",
    "    url = sys.argv[1]\n",
    "else:\n",
    "    sys.exit(\"Error: Please enter the TED Talk URL\")\n",
    "\n",
    "\n",
    "url = input(\"Please Enter Your Ted Talk URL : \")\n",
    "r = requests.get(url)\n",
    "\n",
    "print(\"Download about to start\")\n",
    "\n",
    "soup = BeautifulSoup(r.content, features=\"lxml\")\n",
    "result=''\n",
    "for val in soup.findAll(\"script\"):\n",
    "    if(re.search(\"resources\",str(val))) is not None:\n",
    "        result = str(val)\n",
    "\n",
    "result_mp4 = re.search(\"(?P<url>https?://[^\\s]+)(mp4)\", result).group(\"url\")\n",
    "result_mp4=result_mp4+'mp4'\n",
    "mp4_url = result_mp4.split('\"')[0]\n",
    "\n",
    "print(\"Downloading video from : \" + result_mp4)\n",
    "file_name = mp4_url.split(\"/\")[len(mp4_url.split(\"/\"))-1].split('?')[0]\n",
    "\n",
    "print(\"Storing video in : \" + file_name)\n",
    "\n",
    "\n",
    "r = requests.get(mp4_url)\n",
    "\n",
    "user_name = input(\"Please Enter The File Name : \")\n",
    "file_name = user_name+'.mp4'\n",
    "with open(file_name,'wb') as f:\n",
    "    f.write(r.content)"
   ]
  },
  {
   "cell_type": "code",
   "execution_count": null,
   "id": "49e5a99d",
   "metadata": {},
   "outputs": [],
   "source": []
  }
 ],
 "metadata": {
  "kernelspec": {
   "display_name": "Python 3 (ipykernel)",
   "language": "python",
   "name": "python3"
  },
  "language_info": {
   "codemirror_mode": {
    "name": "ipython",
    "version": 3
   },
   "file_extension": ".py",
   "mimetype": "text/x-python",
   "name": "python",
   "nbconvert_exporter": "python",
   "pygments_lexer": "ipython3",
   "version": "3.8.8"
  }
 },
 "nbformat": 4,
 "nbformat_minor": 5
}
