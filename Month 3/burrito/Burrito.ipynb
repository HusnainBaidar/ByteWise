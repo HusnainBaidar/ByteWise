{
 "cells": [
  {
   "cell_type": "code",
   "execution_count": 1,
   "id": "f443131b-51a9-4d8b-bc83-063a645df312",
   "metadata": {
    "ExecuteTime": {
     "end_time": "2022-12-03T12:40:59.033129Z",
     "start_time": "2022-12-03T12:40:57.264671Z"
    }
   },
   "outputs": [
    {
     "name": "stdout",
     "output_type": "stream",
     "text": [
      "Welcome to atoti 0.7.2!\n",
      "\n",
      "By using this community edition, you agree with the license available at https://docs.atoti.io/latest/eula.html.\n",
      "Browse the official documentation at https://docs.atoti.io.\n",
      "Join the community at https://www.atoti.io/register.\n",
      "\n",
      "atoti collects telemetry data, which is used to help understand how to improve the product.\n",
      "If you don't wish to send usage data, set the ATOTI_DISABLE_TELEMETRY environment variable to True.\n",
      "\n",
      "You can hide this message by setting the ATOTI_HIDE_EULA_MESSAGE environment variable to True.\n"
     ]
    }
   ],
   "source": [
    "import pandas as pd \n",
    "import numpy as np\n",
    "import re\n",
    "import atoti as tt"
   ]
  },
  {
   "cell_type": "code",
   "execution_count": 2,
   "id": "83e8778f-664c-4e2a-87a7-e8637e047407",
   "metadata": {
    "ExecuteTime": {
     "end_time": "2022-12-03T12:40:59.065169Z",
     "start_time": "2022-12-03T12:40:59.036142Z"
    }
   },
   "outputs": [],
   "source": [
    "df = pd.read_csv('burritos.csv')"
   ]
  },
  {
   "cell_type": "code",
   "execution_count": 3,
   "id": "a1c3c63e-c78e-4002-849c-930566a6c94c",
   "metadata": {
    "ExecuteTime": {
     "end_time": "2022-12-03T12:40:59.096365Z",
     "start_time": "2022-12-03T12:40:59.068156Z"
    }
   },
   "outputs": [
    {
     "data": {
      "text/plain": [
       "Index(['Location', 'Burrito', 'Date', 'Neighborhood', 'Address', 'URL', 'Yelp',\n",
       "       'Google', 'Chips', 'Cost', 'Hunger', 'Mass (g)', 'Density (g/mL)',\n",
       "       'Length', 'Circum', 'Volume', 'Tortilla', 'Temp', 'Meat', 'Fillings',\n",
       "       'Meat:filling', 'Uniformity', 'Salsa', 'Synergy', 'Wrap', 'overall',\n",
       "       'Rec', 'Reviewer', 'Notes', 'Unreliable', 'NonSD', 'Beef', 'Pico',\n",
       "       'Guac', 'Cheese', 'Fries', 'Sour cream', 'Pork', 'Chicken', 'Shrimp',\n",
       "       'Fish', 'Rice', 'Beans', 'Lettuce', 'Tomato', 'Bell peper', 'Carrots',\n",
       "       'Cabbage', 'Sauce', 'Salsa.1', 'Cilantro', 'Onion', 'Taquito',\n",
       "       'Pineapple', 'Ham', 'Chile relleno', 'Nopales', 'Lobster', 'Queso',\n",
       "       'Egg', 'Mushroom', 'Bacon', 'Sushi', 'Avocado', 'Corn', 'Zucchini'],\n",
       "      dtype='object')"
      ]
     },
     "execution_count": 3,
     "metadata": {},
     "output_type": "execute_result"
    }
   ],
   "source": [
    "df.columns"
   ]
  },
  {
   "cell_type": "code",
   "execution_count": 4,
   "id": "70cd32d9-9e67-446b-8c99-0581729a413c",
   "metadata": {
    "ExecuteTime": {
     "end_time": "2022-12-03T12:40:59.144391Z",
     "start_time": "2022-12-03T12:40:59.100368Z"
    }
   },
   "outputs": [
    {
     "data": {
      "text/html": [
       "<div>\n",
       "<style scoped>\n",
       "    .dataframe tbody tr th:only-of-type {\n",
       "        vertical-align: middle;\n",
       "    }\n",
       "\n",
       "    .dataframe tbody tr th {\n",
       "        vertical-align: top;\n",
       "    }\n",
       "\n",
       "    .dataframe thead th {\n",
       "        text-align: right;\n",
       "    }\n",
       "</style>\n",
       "<table border=\"1\" class=\"dataframe\">\n",
       "  <thead>\n",
       "    <tr style=\"text-align: right;\">\n",
       "      <th></th>\n",
       "      <th>Location</th>\n",
       "      <th>Burrito</th>\n",
       "      <th>Date</th>\n",
       "      <th>Neighborhood</th>\n",
       "      <th>Address</th>\n",
       "      <th>URL</th>\n",
       "      <th>Yelp</th>\n",
       "      <th>Google</th>\n",
       "      <th>Chips</th>\n",
       "      <th>Cost</th>\n",
       "      <th>...</th>\n",
       "      <th>Nopales</th>\n",
       "      <th>Lobster</th>\n",
       "      <th>Queso</th>\n",
       "      <th>Egg</th>\n",
       "      <th>Mushroom</th>\n",
       "      <th>Bacon</th>\n",
       "      <th>Sushi</th>\n",
       "      <th>Avocado</th>\n",
       "      <th>Corn</th>\n",
       "      <th>Zucchini</th>\n",
       "    </tr>\n",
       "  </thead>\n",
       "  <tbody>\n",
       "    <tr>\n",
       "      <th>0</th>\n",
       "      <td>Donato's taco shop</td>\n",
       "      <td>California</td>\n",
       "      <td>1/18/2016</td>\n",
       "      <td>Miramar</td>\n",
       "      <td>6780 Miramar Rd</td>\n",
       "      <td>http://donatostacoshop.net/</td>\n",
       "      <td>3.5</td>\n",
       "      <td>4.2</td>\n",
       "      <td>NaN</td>\n",
       "      <td>6.49</td>\n",
       "      <td>...</td>\n",
       "      <td>NaN</td>\n",
       "      <td>NaN</td>\n",
       "      <td>NaN</td>\n",
       "      <td>NaN</td>\n",
       "      <td>NaN</td>\n",
       "      <td>NaN</td>\n",
       "      <td>NaN</td>\n",
       "      <td>NaN</td>\n",
       "      <td>NaN</td>\n",
       "      <td>NaN</td>\n",
       "    </tr>\n",
       "    <tr>\n",
       "      <th>1</th>\n",
       "      <td>Oscar's Mexican food</td>\n",
       "      <td>California</td>\n",
       "      <td>1/24/2016</td>\n",
       "      <td>San Marcos</td>\n",
       "      <td>225 S Rancho Santa Fe Rd</td>\n",
       "      <td>http://www.yelp.com/biz/oscars-mexican-food-sa...</td>\n",
       "      <td>3.5</td>\n",
       "      <td>3.3</td>\n",
       "      <td>NaN</td>\n",
       "      <td>5.45</td>\n",
       "      <td>...</td>\n",
       "      <td>NaN</td>\n",
       "      <td>NaN</td>\n",
       "      <td>NaN</td>\n",
       "      <td>NaN</td>\n",
       "      <td>NaN</td>\n",
       "      <td>NaN</td>\n",
       "      <td>NaN</td>\n",
       "      <td>NaN</td>\n",
       "      <td>NaN</td>\n",
       "      <td>NaN</td>\n",
       "    </tr>\n",
       "    <tr>\n",
       "      <th>2</th>\n",
       "      <td>Oscar's Mexican food</td>\n",
       "      <td>Carnitas</td>\n",
       "      <td>1/24/2016</td>\n",
       "      <td>NaN</td>\n",
       "      <td>NaN</td>\n",
       "      <td>NaN</td>\n",
       "      <td>NaN</td>\n",
       "      <td>NaN</td>\n",
       "      <td>NaN</td>\n",
       "      <td>4.85</td>\n",
       "      <td>...</td>\n",
       "      <td>NaN</td>\n",
       "      <td>NaN</td>\n",
       "      <td>NaN</td>\n",
       "      <td>NaN</td>\n",
       "      <td>NaN</td>\n",
       "      <td>NaN</td>\n",
       "      <td>NaN</td>\n",
       "      <td>NaN</td>\n",
       "      <td>NaN</td>\n",
       "      <td>NaN</td>\n",
       "    </tr>\n",
       "    <tr>\n",
       "      <th>3</th>\n",
       "      <td>Oscar's Mexican food</td>\n",
       "      <td>Carne asada</td>\n",
       "      <td>1/24/2016</td>\n",
       "      <td>NaN</td>\n",
       "      <td>NaN</td>\n",
       "      <td>NaN</td>\n",
       "      <td>NaN</td>\n",
       "      <td>NaN</td>\n",
       "      <td>NaN</td>\n",
       "      <td>5.25</td>\n",
       "      <td>...</td>\n",
       "      <td>NaN</td>\n",
       "      <td>NaN</td>\n",
       "      <td>NaN</td>\n",
       "      <td>NaN</td>\n",
       "      <td>NaN</td>\n",
       "      <td>NaN</td>\n",
       "      <td>NaN</td>\n",
       "      <td>NaN</td>\n",
       "      <td>NaN</td>\n",
       "      <td>NaN</td>\n",
       "    </tr>\n",
       "    <tr>\n",
       "      <th>4</th>\n",
       "      <td>Pollos Maria</td>\n",
       "      <td>California</td>\n",
       "      <td>1/27/2016</td>\n",
       "      <td>Carlsbad</td>\n",
       "      <td>3055 Harding St</td>\n",
       "      <td>http://pollosmaria.com/</td>\n",
       "      <td>4.0</td>\n",
       "      <td>3.8</td>\n",
       "      <td>x</td>\n",
       "      <td>6.59</td>\n",
       "      <td>...</td>\n",
       "      <td>NaN</td>\n",
       "      <td>NaN</td>\n",
       "      <td>NaN</td>\n",
       "      <td>NaN</td>\n",
       "      <td>NaN</td>\n",
       "      <td>NaN</td>\n",
       "      <td>NaN</td>\n",
       "      <td>NaN</td>\n",
       "      <td>NaN</td>\n",
       "      <td>NaN</td>\n",
       "    </tr>\n",
       "  </tbody>\n",
       "</table>\n",
       "<p>5 rows × 66 columns</p>\n",
       "</div>"
      ],
      "text/plain": [
       "               Location      Burrito       Date Neighborhood  \\\n",
       "0    Donato's taco shop  California   1/18/2016      Miramar   \n",
       "1  Oscar's Mexican food  California   1/24/2016   San Marcos   \n",
       "2  Oscar's Mexican food     Carnitas  1/24/2016          NaN   \n",
       "3  Oscar's Mexican food  Carne asada  1/24/2016          NaN   \n",
       "4          Pollos Maria   California  1/27/2016     Carlsbad   \n",
       "\n",
       "                    Address  \\\n",
       "0           6780 Miramar Rd   \n",
       "1  225 S Rancho Santa Fe Rd   \n",
       "2                       NaN   \n",
       "3                       NaN   \n",
       "4           3055 Harding St   \n",
       "\n",
       "                                                 URL  Yelp  Google Chips  \\\n",
       "0                        http://donatostacoshop.net/   3.5     4.2   NaN   \n",
       "1  http://www.yelp.com/biz/oscars-mexican-food-sa...   3.5     3.3   NaN   \n",
       "2                                                NaN   NaN     NaN   NaN   \n",
       "3                                                NaN   NaN     NaN   NaN   \n",
       "4                            http://pollosmaria.com/   4.0     3.8     x   \n",
       "\n",
       "   Cost  ...  Nopales  Lobster  Queso  Egg  Mushroom  Bacon  Sushi  Avocado  \\\n",
       "0  6.49  ...      NaN      NaN    NaN  NaN       NaN    NaN    NaN      NaN   \n",
       "1  5.45  ...      NaN      NaN    NaN  NaN       NaN    NaN    NaN      NaN   \n",
       "2  4.85  ...      NaN      NaN    NaN  NaN       NaN    NaN    NaN      NaN   \n",
       "3  5.25  ...      NaN      NaN    NaN  NaN       NaN    NaN    NaN      NaN   \n",
       "4  6.59  ...      NaN      NaN    NaN  NaN       NaN    NaN    NaN      NaN   \n",
       "\n",
       "   Corn  Zucchini  \n",
       "0   NaN       NaN  \n",
       "1   NaN       NaN  \n",
       "2   NaN       NaN  \n",
       "3   NaN       NaN  \n",
       "4   NaN       NaN  \n",
       "\n",
       "[5 rows x 66 columns]"
      ]
     },
     "execution_count": 4,
     "metadata": {},
     "output_type": "execute_result"
    }
   ],
   "source": [
    "df.head()"
   ]
  },
  {
   "cell_type": "code",
   "execution_count": 5,
   "id": "36bc2858-d5aa-4383-9993-5bb2f99c96bd",
   "metadata": {
    "ExecuteTime": {
     "end_time": "2022-12-03T12:40:59.224390Z",
     "start_time": "2022-12-03T12:40:59.147370Z"
    }
   },
   "outputs": [
    {
     "data": {
      "text/html": [
       "<div>\n",
       "<style scoped>\n",
       "    .dataframe tbody tr th:only-of-type {\n",
       "        vertical-align: middle;\n",
       "    }\n",
       "\n",
       "    .dataframe tbody tr th {\n",
       "        vertical-align: top;\n",
       "    }\n",
       "\n",
       "    .dataframe thead th {\n",
       "        text-align: right;\n",
       "    }\n",
       "</style>\n",
       "<table border=\"1\" class=\"dataframe\">\n",
       "  <thead>\n",
       "    <tr style=\"text-align: right;\">\n",
       "      <th></th>\n",
       "      <th>Yelp</th>\n",
       "      <th>Google</th>\n",
       "      <th>Cost</th>\n",
       "      <th>Hunger</th>\n",
       "      <th>Mass (g)</th>\n",
       "      <th>Density (g/mL)</th>\n",
       "      <th>Length</th>\n",
       "      <th>Circum</th>\n",
       "      <th>Volume</th>\n",
       "      <th>Tortilla</th>\n",
       "      <th>Temp</th>\n",
       "      <th>Meat</th>\n",
       "      <th>Fillings</th>\n",
       "      <th>Meat:filling</th>\n",
       "      <th>Uniformity</th>\n",
       "      <th>Salsa</th>\n",
       "      <th>Synergy</th>\n",
       "      <th>Wrap</th>\n",
       "      <th>overall</th>\n",
       "      <th>Queso</th>\n",
       "    </tr>\n",
       "  </thead>\n",
       "  <tbody>\n",
       "    <tr>\n",
       "      <th>count</th>\n",
       "      <td>82.000000</td>\n",
       "      <td>82.000000</td>\n",
       "      <td>378.000000</td>\n",
       "      <td>382.000000</td>\n",
       "      <td>22.000000</td>\n",
       "      <td>22.000000</td>\n",
       "      <td>251.000000</td>\n",
       "      <td>249.000000</td>\n",
       "      <td>249.000000</td>\n",
       "      <td>385.000000</td>\n",
       "      <td>365.000000</td>\n",
       "      <td>373.000000</td>\n",
       "      <td>383.000000</td>\n",
       "      <td>377.000000</td>\n",
       "      <td>383.000000</td>\n",
       "      <td>363.000000</td>\n",
       "      <td>383.000000</td>\n",
       "      <td>383.000000</td>\n",
       "      <td>383.000000</td>\n",
       "      <td>0.0</td>\n",
       "    </tr>\n",
       "    <tr>\n",
       "      <th>mean</th>\n",
       "      <td>3.898780</td>\n",
       "      <td>4.174390</td>\n",
       "      <td>7.048280</td>\n",
       "      <td>3.499895</td>\n",
       "      <td>546.181818</td>\n",
       "      <td>0.675277</td>\n",
       "      <td>20.072988</td>\n",
       "      <td>22.098996</td>\n",
       "      <td>0.785462</td>\n",
       "      <td>3.486104</td>\n",
       "      <td>3.741096</td>\n",
       "      <td>3.596247</td>\n",
       "      <td>3.527546</td>\n",
       "      <td>3.564403</td>\n",
       "      <td>3.422324</td>\n",
       "      <td>3.348485</td>\n",
       "      <td>3.576371</td>\n",
       "      <td>3.995561</td>\n",
       "      <td>3.604813</td>\n",
       "      <td>NaN</td>\n",
       "    </tr>\n",
       "    <tr>\n",
       "      <th>std</th>\n",
       "      <td>0.470748</td>\n",
       "      <td>0.377389</td>\n",
       "      <td>1.517983</td>\n",
       "      <td>0.808791</td>\n",
       "      <td>144.445619</td>\n",
       "      <td>0.080468</td>\n",
       "      <td>2.060584</td>\n",
       "      <td>1.795010</td>\n",
       "      <td>0.153465</td>\n",
       "      <td>0.787282</td>\n",
       "      <td>0.975079</td>\n",
       "      <td>0.835896</td>\n",
       "      <td>0.812342</td>\n",
       "      <td>0.987858</td>\n",
       "      <td>1.061032</td>\n",
       "      <td>0.927714</td>\n",
       "      <td>0.896275</td>\n",
       "      <td>1.107876</td>\n",
       "      <td>0.761901</td>\n",
       "      <td>NaN</td>\n",
       "    </tr>\n",
       "    <tr>\n",
       "      <th>min</th>\n",
       "      <td>2.500000</td>\n",
       "      <td>2.900000</td>\n",
       "      <td>2.990000</td>\n",
       "      <td>0.500000</td>\n",
       "      <td>350.000000</td>\n",
       "      <td>0.560000</td>\n",
       "      <td>15.000000</td>\n",
       "      <td>17.000000</td>\n",
       "      <td>0.400000</td>\n",
       "      <td>1.000000</td>\n",
       "      <td>1.000000</td>\n",
       "      <td>1.000000</td>\n",
       "      <td>1.000000</td>\n",
       "      <td>0.500000</td>\n",
       "      <td>0.000000</td>\n",
       "      <td>0.000000</td>\n",
       "      <td>1.000000</td>\n",
       "      <td>0.000000</td>\n",
       "      <td>1.000000</td>\n",
       "      <td>NaN</td>\n",
       "    </tr>\n",
       "    <tr>\n",
       "      <th>25%</th>\n",
       "      <td>3.500000</td>\n",
       "      <td>4.000000</td>\n",
       "      <td>6.250000</td>\n",
       "      <td>3.000000</td>\n",
       "      <td>450.000000</td>\n",
       "      <td>0.619485</td>\n",
       "      <td>18.500000</td>\n",
       "      <td>21.000000</td>\n",
       "      <td>0.680000</td>\n",
       "      <td>3.000000</td>\n",
       "      <td>3.000000</td>\n",
       "      <td>3.000000</td>\n",
       "      <td>3.000000</td>\n",
       "      <td>3.000000</td>\n",
       "      <td>2.500000</td>\n",
       "      <td>3.000000</td>\n",
       "      <td>3.000000</td>\n",
       "      <td>3.500000</td>\n",
       "      <td>3.000000</td>\n",
       "      <td>NaN</td>\n",
       "    </tr>\n",
       "    <tr>\n",
       "      <th>50%</th>\n",
       "      <td>4.000000</td>\n",
       "      <td>4.200000</td>\n",
       "      <td>6.950000</td>\n",
       "      <td>3.500000</td>\n",
       "      <td>540.000000</td>\n",
       "      <td>0.658099</td>\n",
       "      <td>20.000000</td>\n",
       "      <td>22.000000</td>\n",
       "      <td>0.770000</td>\n",
       "      <td>3.500000</td>\n",
       "      <td>4.000000</td>\n",
       "      <td>3.750000</td>\n",
       "      <td>3.500000</td>\n",
       "      <td>4.000000</td>\n",
       "      <td>3.500000</td>\n",
       "      <td>3.500000</td>\n",
       "      <td>3.800000</td>\n",
       "      <td>4.000000</td>\n",
       "      <td>3.750000</td>\n",
       "      <td>NaN</td>\n",
       "    </tr>\n",
       "    <tr>\n",
       "      <th>75%</th>\n",
       "      <td>4.000000</td>\n",
       "      <td>4.400000</td>\n",
       "      <td>7.750000</td>\n",
       "      <td>4.000000</td>\n",
       "      <td>595.000000</td>\n",
       "      <td>0.721726</td>\n",
       "      <td>21.500000</td>\n",
       "      <td>23.000000</td>\n",
       "      <td>0.880000</td>\n",
       "      <td>4.000000</td>\n",
       "      <td>4.500000</td>\n",
       "      <td>4.000000</td>\n",
       "      <td>4.000000</td>\n",
       "      <td>4.000000</td>\n",
       "      <td>4.000000</td>\n",
       "      <td>4.000000</td>\n",
       "      <td>4.000000</td>\n",
       "      <td>5.000000</td>\n",
       "      <td>4.100000</td>\n",
       "      <td>NaN</td>\n",
       "    </tr>\n",
       "    <tr>\n",
       "      <th>max</th>\n",
       "      <td>4.500000</td>\n",
       "      <td>5.000000</td>\n",
       "      <td>25.000000</td>\n",
       "      <td>5.000000</td>\n",
       "      <td>925.000000</td>\n",
       "      <td>0.865672</td>\n",
       "      <td>26.000000</td>\n",
       "      <td>29.000000</td>\n",
       "      <td>1.540000</td>\n",
       "      <td>5.000000</td>\n",
       "      <td>5.000000</td>\n",
       "      <td>5.000000</td>\n",
       "      <td>5.000000</td>\n",
       "      <td>5.000000</td>\n",
       "      <td>5.000000</td>\n",
       "      <td>5.000000</td>\n",
       "      <td>5.000000</td>\n",
       "      <td>5.000000</td>\n",
       "      <td>5.000000</td>\n",
       "      <td>NaN</td>\n",
       "    </tr>\n",
       "  </tbody>\n",
       "</table>\n",
       "</div>"
      ],
      "text/plain": [
       "            Yelp     Google        Cost      Hunger    Mass (g)  \\\n",
       "count  82.000000  82.000000  378.000000  382.000000   22.000000   \n",
       "mean    3.898780   4.174390    7.048280    3.499895  546.181818   \n",
       "std     0.470748   0.377389    1.517983    0.808791  144.445619   \n",
       "min     2.500000   2.900000    2.990000    0.500000  350.000000   \n",
       "25%     3.500000   4.000000    6.250000    3.000000  450.000000   \n",
       "50%     4.000000   4.200000    6.950000    3.500000  540.000000   \n",
       "75%     4.000000   4.400000    7.750000    4.000000  595.000000   \n",
       "max     4.500000   5.000000   25.000000    5.000000  925.000000   \n",
       "\n",
       "       Density (g/mL)      Length      Circum      Volume    Tortilla  \\\n",
       "count       22.000000  251.000000  249.000000  249.000000  385.000000   \n",
       "mean         0.675277   20.072988   22.098996    0.785462    3.486104   \n",
       "std          0.080468    2.060584    1.795010    0.153465    0.787282   \n",
       "min          0.560000   15.000000   17.000000    0.400000    1.000000   \n",
       "25%          0.619485   18.500000   21.000000    0.680000    3.000000   \n",
       "50%          0.658099   20.000000   22.000000    0.770000    3.500000   \n",
       "75%          0.721726   21.500000   23.000000    0.880000    4.000000   \n",
       "max          0.865672   26.000000   29.000000    1.540000    5.000000   \n",
       "\n",
       "             Temp        Meat    Fillings  Meat:filling  Uniformity  \\\n",
       "count  365.000000  373.000000  383.000000    377.000000  383.000000   \n",
       "mean     3.741096    3.596247    3.527546      3.564403    3.422324   \n",
       "std      0.975079    0.835896    0.812342      0.987858    1.061032   \n",
       "min      1.000000    1.000000    1.000000      0.500000    0.000000   \n",
       "25%      3.000000    3.000000    3.000000      3.000000    2.500000   \n",
       "50%      4.000000    3.750000    3.500000      4.000000    3.500000   \n",
       "75%      4.500000    4.000000    4.000000      4.000000    4.000000   \n",
       "max      5.000000    5.000000    5.000000      5.000000    5.000000   \n",
       "\n",
       "            Salsa     Synergy        Wrap     overall  Queso  \n",
       "count  363.000000  383.000000  383.000000  383.000000    0.0  \n",
       "mean     3.348485    3.576371    3.995561    3.604813    NaN  \n",
       "std      0.927714    0.896275    1.107876    0.761901    NaN  \n",
       "min      0.000000    1.000000    0.000000    1.000000    NaN  \n",
       "25%      3.000000    3.000000    3.500000    3.000000    NaN  \n",
       "50%      3.500000    3.800000    4.000000    3.750000    NaN  \n",
       "75%      4.000000    4.000000    5.000000    4.100000    NaN  \n",
       "max      5.000000    5.000000    5.000000    5.000000    NaN  "
      ]
     },
     "execution_count": 5,
     "metadata": {},
     "output_type": "execute_result"
    }
   ],
   "source": [
    "df.describe()"
   ]
  },
  {
   "cell_type": "code",
   "execution_count": 6,
   "id": "dabcd851-8b66-40e5-aa08-3091eceb0393",
   "metadata": {
    "ExecuteTime": {
     "end_time": "2022-12-03T12:40:59.240395Z",
     "start_time": "2022-12-03T12:40:59.227376Z"
    }
   },
   "outputs": [],
   "source": [
    "df.columns = [re.sub(\"([\\(\\[]).*?([\\)\\]])\", \"\", x).strip() for x in df.columns]\n",
    "df.columns = [x.replace(':','_').strip() for x in df.columns]"
   ]
  },
  {
   "cell_type": "code",
   "execution_count": 7,
   "id": "205b32a4-a702-4eb0-9f37-031020713a8a",
   "metadata": {
    "ExecuteTime": {
     "end_time": "2022-12-03T12:40:59.256379Z",
     "start_time": "2022-12-03T12:40:59.244377Z"
    }
   },
   "outputs": [
    {
     "data": {
      "text/plain": [
       "Index(['Location', 'Burrito', 'Date', 'Neighborhood', 'Address', 'URL', 'Yelp',\n",
       "       'Google', 'Chips', 'Cost', 'Hunger', 'Mass', 'Density', 'Length',\n",
       "       'Circum', 'Volume', 'Tortilla', 'Temp', 'Meat', 'Fillings',\n",
       "       'Meat_filling', 'Uniformity', 'Salsa', 'Synergy', 'Wrap', 'overall',\n",
       "       'Rec', 'Reviewer', 'Notes', 'Unreliable', 'NonSD', 'Beef', 'Pico',\n",
       "       'Guac', 'Cheese', 'Fries', 'Sour cream', 'Pork', 'Chicken', 'Shrimp',\n",
       "       'Fish', 'Rice', 'Beans', 'Lettuce', 'Tomato', 'Bell peper', 'Carrots',\n",
       "       'Cabbage', 'Sauce', 'Salsa.1', 'Cilantro', 'Onion', 'Taquito',\n",
       "       'Pineapple', 'Ham', 'Chile relleno', 'Nopales', 'Lobster', 'Queso',\n",
       "       'Egg', 'Mushroom', 'Bacon', 'Sushi', 'Avocado', 'Corn', 'Zucchini'],\n",
       "      dtype='object')"
      ]
     },
     "execution_count": 7,
     "metadata": {},
     "output_type": "execute_result"
    }
   ],
   "source": [
    "df.columns"
   ]
  },
  {
   "cell_type": "code",
   "execution_count": 8,
   "id": "8b12b322-ba65-4c45-b1c5-788c285cff37",
   "metadata": {
    "ExecuteTime": {
     "end_time": "2022-12-03T12:40:59.288378Z",
     "start_time": "2022-12-03T12:40:59.260378Z"
    },
    "run_control": {
     "marked": false
    }
   },
   "outputs": [
    {
     "data": {
      "text/plain": [
       "Location        0.000000\n",
       "Burrito         0.000000\n",
       "Date            0.000000\n",
       "Neighborhood    0.774026\n",
       "Address         0.784416\n",
       "                  ...   \n",
       "Bacon           0.992208\n",
       "Sushi           0.994805\n",
       "Avocado         0.966234\n",
       "Corn            0.992208\n",
       "Zucchini        0.997403\n",
       "Length: 66, dtype: float64"
      ]
     },
     "execution_count": 8,
     "metadata": {},
     "output_type": "execute_result"
    }
   ],
   "source": [
    "df.isnull().any()\n",
    "df.isnull().sum() / df.shape[0]"
   ]
  },
  {
   "cell_type": "code",
   "execution_count": 9,
   "id": "4e848027-2d04-4939-a0cf-27f9b6545b79",
   "metadata": {
    "ExecuteTime": {
     "end_time": "2022-12-03T12:41:21.954407Z",
     "start_time": "2022-12-03T12:40:59.292381Z"
    },
    "scrolled": false
   },
   "outputs": [],
   "source": [
    "session = tt.Session(port=9000,user_content_storage=\"./content\") "
   ]
  },
  {
   "cell_type": "code",
   "execution_count": 10,
   "id": "81b60120-7baf-4795-b60c-508219cb888d",
   "metadata": {
    "ExecuteTime": {
     "end_time": "2022-12-03T12:41:22.949610Z",
     "start_time": "2022-12-03T12:41:21.957504Z"
    }
   },
   "outputs": [
    {
     "name": "stderr",
     "output_type": "stream",
     "text": [
      "D:\\Anaconda\\lib\\site-packages\\scipy\\__init__.py:138: UserWarning: A NumPy version >=1.16.5 and <1.23.0 is required for this version of SciPy (detected version 1.23.5)\n",
      "  warnings.warn(f\"A NumPy version >={np_minversion} and <{np_maxversion} is required for this version of \"\n"
     ]
    }
   ],
   "source": [
    "from sklearn.preprocessing import MinMaxScaler\n",
    "scaler = MinMaxScaler()\n",
    "burrito_vars_norm = df.loc[:,['Circum','Volume','Length','Mass','Cost']]\n",
    "\n",
    "bnorms = scaler.fit_transform(burrito_vars_norm)*10\n",
    "\n",
    "df[['Circum_norm','Volume_norm','Length_norm','Mass_norm','Cost_norm']] = bnorms "
   ]
  },
  {
   "cell_type": "code",
   "execution_count": 11,
   "id": "2effd92a-09b9-420c-8675-6c8afbb2775f",
   "metadata": {
    "ExecuteTime": {
     "end_time": "2022-12-03T12:41:22.981604Z",
     "start_time": "2022-12-03T12:41:22.952599Z"
    }
   },
   "outputs": [
    {
     "data": {
      "text/html": [
       "<div>\n",
       "<style scoped>\n",
       "    .dataframe tbody tr th:only-of-type {\n",
       "        vertical-align: middle;\n",
       "    }\n",
       "\n",
       "    .dataframe tbody tr th {\n",
       "        vertical-align: top;\n",
       "    }\n",
       "\n",
       "    .dataframe thead th {\n",
       "        text-align: right;\n",
       "    }\n",
       "</style>\n",
       "<table border=\"1\" class=\"dataframe\">\n",
       "  <thead>\n",
       "    <tr style=\"text-align: right;\">\n",
       "      <th></th>\n",
       "      <th>Location</th>\n",
       "      <th>Burrito</th>\n",
       "      <th>variable</th>\n",
       "      <th>value</th>\n",
       "    </tr>\n",
       "  </thead>\n",
       "  <tbody>\n",
       "    <tr>\n",
       "      <th>0</th>\n",
       "      <td>Donato's taco shop</td>\n",
       "      <td>California</td>\n",
       "      <td>Circum_norm</td>\n",
       "      <td>NaN</td>\n",
       "    </tr>\n",
       "    <tr>\n",
       "      <th>1</th>\n",
       "      <td>Oscar's Mexican food</td>\n",
       "      <td>California</td>\n",
       "      <td>Circum_norm</td>\n",
       "      <td>NaN</td>\n",
       "    </tr>\n",
       "    <tr>\n",
       "      <th>2</th>\n",
       "      <td>Oscar's Mexican food</td>\n",
       "      <td>Carnitas</td>\n",
       "      <td>Circum_norm</td>\n",
       "      <td>NaN</td>\n",
       "    </tr>\n",
       "    <tr>\n",
       "      <th>3</th>\n",
       "      <td>Oscar's Mexican food</td>\n",
       "      <td>Carne asada</td>\n",
       "      <td>Circum_norm</td>\n",
       "      <td>NaN</td>\n",
       "    </tr>\n",
       "    <tr>\n",
       "      <th>4</th>\n",
       "      <td>Pollos Maria</td>\n",
       "      <td>California</td>\n",
       "      <td>Circum_norm</td>\n",
       "      <td>NaN</td>\n",
       "    </tr>\n",
       "    <tr>\n",
       "      <th>...</th>\n",
       "      <td>...</td>\n",
       "      <td>...</td>\n",
       "      <td>...</td>\n",
       "      <td>...</td>\n",
       "    </tr>\n",
       "    <tr>\n",
       "      <th>1920</th>\n",
       "      <td>Rigoberto's Taco Shop</td>\n",
       "      <td>California</td>\n",
       "      <td>Cost_norm</td>\n",
       "      <td>1.753748</td>\n",
       "    </tr>\n",
       "    <tr>\n",
       "      <th>1921</th>\n",
       "      <td>Rigoberto's Taco Shop</td>\n",
       "      <td>California</td>\n",
       "      <td>Cost_norm</td>\n",
       "      <td>1.753748</td>\n",
       "    </tr>\n",
       "    <tr>\n",
       "      <th>1922</th>\n",
       "      <td>Burrito Box</td>\n",
       "      <td>Steak with guacamole</td>\n",
       "      <td>Cost_norm</td>\n",
       "      <td>3.866424</td>\n",
       "    </tr>\n",
       "    <tr>\n",
       "      <th>1923</th>\n",
       "      <td>Taco Stand</td>\n",
       "      <td>California</td>\n",
       "      <td>Cost_norm</td>\n",
       "      <td>2.226261</td>\n",
       "    </tr>\n",
       "    <tr>\n",
       "      <th>1924</th>\n",
       "      <td>Taco Stand</td>\n",
       "      <td>California</td>\n",
       "      <td>Cost_norm</td>\n",
       "      <td>2.226261</td>\n",
       "    </tr>\n",
       "  </tbody>\n",
       "</table>\n",
       "<p>1925 rows × 4 columns</p>\n",
       "</div>"
      ],
      "text/plain": [
       "                   Location               Burrito     variable     value\n",
       "0        Donato's taco shop           California   Circum_norm       NaN\n",
       "1      Oscar's Mexican food           California   Circum_norm       NaN\n",
       "2      Oscar's Mexican food              Carnitas  Circum_norm       NaN\n",
       "3      Oscar's Mexican food           Carne asada  Circum_norm       NaN\n",
       "4              Pollos Maria            California  Circum_norm       NaN\n",
       "...                     ...                   ...          ...       ...\n",
       "1920  Rigoberto's Taco Shop           California     Cost_norm  1.753748\n",
       "1921  Rigoberto's Taco Shop           California     Cost_norm  1.753748\n",
       "1922            Burrito Box  Steak with guacamole    Cost_norm  3.866424\n",
       "1923             Taco Stand           California     Cost_norm  2.226261\n",
       "1924             Taco Stand           California     Cost_norm  2.226261\n",
       "\n",
       "[1925 rows x 4 columns]"
      ]
     },
     "execution_count": 11,
     "metadata": {},
     "output_type": "execute_result"
    }
   ],
   "source": [
    "burrito_variables = pd.melt(df.reset_index(), id_vars = ['Location','Burrito'], value_vars = ['Circum_norm','Volume_norm','Length_norm','Mass_norm','Cost_norm'],)\n",
    "burrito_variables"
   ]
  },
  {
   "cell_type": "code",
   "execution_count": 12,
   "id": "e465049e-f10a-4525-8e57-740a6d79b8c1",
   "metadata": {
    "ExecuteTime": {
     "end_time": "2022-12-03T12:41:24.116095Z",
     "start_time": "2022-12-03T12:41:22.984601Z"
    }
   },
   "outputs": [],
   "source": [
    "burrito_table = session.read_pandas(df,table_name = 'burritos')"
   ]
  },
  {
   "cell_type": "code",
   "execution_count": 13,
   "id": "353825fc-cec7-4754-a71d-c3701f339cf6",
   "metadata": {
    "ExecuteTime": {
     "end_time": "2022-12-03T12:41:24.434210Z",
     "start_time": "2022-12-03T12:41:24.119191Z"
    }
   },
   "outputs": [
    {
     "data": {
      "text/html": [
       "<div>\n",
       "<style scoped>\n",
       "    .dataframe tbody tr th:only-of-type {\n",
       "        vertical-align: middle;\n",
       "    }\n",
       "\n",
       "    .dataframe tbody tr th {\n",
       "        vertical-align: top;\n",
       "    }\n",
       "\n",
       "    .dataframe thead th {\n",
       "        text-align: right;\n",
       "    }\n",
       "</style>\n",
       "<table border=\"1\" class=\"dataframe\">\n",
       "  <thead>\n",
       "    <tr style=\"text-align: right;\">\n",
       "      <th></th>\n",
       "      <th>Location</th>\n",
       "      <th>Burrito</th>\n",
       "      <th>Date</th>\n",
       "      <th>Neighborhood</th>\n",
       "      <th>Address</th>\n",
       "      <th>URL</th>\n",
       "      <th>Yelp</th>\n",
       "      <th>Google</th>\n",
       "      <th>Chips</th>\n",
       "      <th>Cost</th>\n",
       "      <th>...</th>\n",
       "      <th>Bacon</th>\n",
       "      <th>Sushi</th>\n",
       "      <th>Avocado</th>\n",
       "      <th>Corn</th>\n",
       "      <th>Zucchini</th>\n",
       "      <th>Circum_norm</th>\n",
       "      <th>Volume_norm</th>\n",
       "      <th>Length_norm</th>\n",
       "      <th>Mass_norm</th>\n",
       "      <th>Cost_norm</th>\n",
       "    </tr>\n",
       "  </thead>\n",
       "  <tbody>\n",
       "    <tr>\n",
       "      <th>0</th>\n",
       "      <td>Donato's taco shop</td>\n",
       "      <td>California</td>\n",
       "      <td>1/18/2016</td>\n",
       "      <td>Miramar</td>\n",
       "      <td>6780 Miramar Rd</td>\n",
       "      <td>http://donatostacoshop.net/</td>\n",
       "      <td>3.5</td>\n",
       "      <td>4.2</td>\n",
       "      <td>N/A</td>\n",
       "      <td>6.49</td>\n",
       "      <td>...</td>\n",
       "      <td>N/A</td>\n",
       "      <td>N/A</td>\n",
       "      <td>N/A</td>\n",
       "      <td>N/A</td>\n",
       "      <td>N/A</td>\n",
       "      <td>NaN</td>\n",
       "      <td>NaN</td>\n",
       "      <td>NaN</td>\n",
       "      <td>NaN</td>\n",
       "      <td>1.590186</td>\n",
       "    </tr>\n",
       "    <tr>\n",
       "      <th>1</th>\n",
       "      <td>Lola's 7 Up Market &amp; Deli</td>\n",
       "      <td>Carne asada</td>\n",
       "      <td>2/29/2016</td>\n",
       "      <td>N/A</td>\n",
       "      <td>N/A</td>\n",
       "      <td>N/A</td>\n",
       "      <td>NaN</td>\n",
       "      <td>NaN</td>\n",
       "      <td>N/A</td>\n",
       "      <td>7.00</td>\n",
       "      <td>...</td>\n",
       "      <td>N/A</td>\n",
       "      <td>N/A</td>\n",
       "      <td>N/A</td>\n",
       "      <td>N/A</td>\n",
       "      <td>N/A</td>\n",
       "      <td>NaN</td>\n",
       "      <td>NaN</td>\n",
       "      <td>NaN</td>\n",
       "      <td>NaN</td>\n",
       "      <td>1.821899</td>\n",
       "    </tr>\n",
       "    <tr>\n",
       "      <th>2</th>\n",
       "      <td>Rigoberto's Taco Shop</td>\n",
       "      <td>Carne asada</td>\n",
       "      <td>3/8/2016</td>\n",
       "      <td>Miramar</td>\n",
       "      <td>7094 Miramar Rd</td>\n",
       "      <td>https://www.yelp.com/biz/rigobertos-taco-shop-...</td>\n",
       "      <td>4.0</td>\n",
       "      <td>4.4</td>\n",
       "      <td>N/A</td>\n",
       "      <td>6.60</td>\n",
       "      <td>...</td>\n",
       "      <td>N/A</td>\n",
       "      <td>N/A</td>\n",
       "      <td>N/A</td>\n",
       "      <td>N/A</td>\n",
       "      <td>N/A</td>\n",
       "      <td>NaN</td>\n",
       "      <td>NaN</td>\n",
       "      <td>NaN</td>\n",
       "      <td>NaN</td>\n",
       "      <td>1.640164</td>\n",
       "    </tr>\n",
       "    <tr>\n",
       "      <th>3</th>\n",
       "      <td>California Burritos</td>\n",
       "      <td>Chile relleno and carnitas</td>\n",
       "      <td>4/15/2016</td>\n",
       "      <td>N/A</td>\n",
       "      <td>N/A</td>\n",
       "      <td>N/A</td>\n",
       "      <td>NaN</td>\n",
       "      <td>NaN</td>\n",
       "      <td>N/A</td>\n",
       "      <td>6.50</td>\n",
       "      <td>...</td>\n",
       "      <td>N/A</td>\n",
       "      <td>N/A</td>\n",
       "      <td>N/A</td>\n",
       "      <td>N/A</td>\n",
       "      <td>N/A</td>\n",
       "      <td>NaN</td>\n",
       "      <td>NaN</td>\n",
       "      <td>NaN</td>\n",
       "      <td>NaN</td>\n",
       "      <td>1.594730</td>\n",
       "    </tr>\n",
       "    <tr>\n",
       "      <th>4</th>\n",
       "      <td>Senor Grubby's</td>\n",
       "      <td>California</td>\n",
       "      <td>4/24/2016</td>\n",
       "      <td>Carlsbad</td>\n",
       "      <td>377 Carlsbad Village Dr</td>\n",
       "      <td>eatgrubbys.com</td>\n",
       "      <td>4.0</td>\n",
       "      <td>4.1</td>\n",
       "      <td>N/A</td>\n",
       "      <td>9.00</td>\n",
       "      <td>...</td>\n",
       "      <td>N/A</td>\n",
       "      <td>N/A</td>\n",
       "      <td>N/A</td>\n",
       "      <td>N/A</td>\n",
       "      <td>N/A</td>\n",
       "      <td>3.75</td>\n",
       "      <td>2.631579</td>\n",
       "      <td>3.636364</td>\n",
       "      <td>NaN</td>\n",
       "      <td>2.730577</td>\n",
       "    </tr>\n",
       "  </tbody>\n",
       "</table>\n",
       "<p>5 rows × 71 columns</p>\n",
       "</div>"
      ],
      "text/plain": [
       "                    Location                     Burrito       Date  \\\n",
       "0         Donato's taco shop                 California   1/18/2016   \n",
       "1  Lola's 7 Up Market & Deli                 Carne asada  2/29/2016   \n",
       "2      Rigoberto's Taco Shop                 Carne asada   3/8/2016   \n",
       "3        California Burritos  Chile relleno and carnitas  4/15/2016   \n",
       "4             Senor Grubby's                  California  4/24/2016   \n",
       "\n",
       "  Neighborhood                  Address  \\\n",
       "0      Miramar          6780 Miramar Rd   \n",
       "1          N/A                      N/A   \n",
       "2      Miramar          7094 Miramar Rd   \n",
       "3          N/A                      N/A   \n",
       "4     Carlsbad  377 Carlsbad Village Dr   \n",
       "\n",
       "                                                 URL  Yelp  Google Chips  \\\n",
       "0                        http://donatostacoshop.net/   3.5     4.2   N/A   \n",
       "1                                                N/A   NaN     NaN   N/A   \n",
       "2  https://www.yelp.com/biz/rigobertos-taco-shop-...   4.0     4.4   N/A   \n",
       "3                                                N/A   NaN     NaN   N/A   \n",
       "4                                     eatgrubbys.com   4.0     4.1   N/A   \n",
       "\n",
       "   Cost  ...  Bacon  Sushi  Avocado  Corn  Zucchini  Circum_norm  Volume_norm  \\\n",
       "0  6.49  ...    N/A    N/A      N/A   N/A       N/A          NaN          NaN   \n",
       "1  7.00  ...    N/A    N/A      N/A   N/A       N/A          NaN          NaN   \n",
       "2  6.60  ...    N/A    N/A      N/A   N/A       N/A          NaN          NaN   \n",
       "3  6.50  ...    N/A    N/A      N/A   N/A       N/A          NaN          NaN   \n",
       "4  9.00  ...    N/A    N/A      N/A   N/A       N/A         3.75     2.631579   \n",
       "\n",
       "   Length_norm  Mass_norm  Cost_norm  \n",
       "0          NaN        NaN   1.590186  \n",
       "1          NaN        NaN   1.821899  \n",
       "2          NaN        NaN   1.640164  \n",
       "3          NaN        NaN   1.594730  \n",
       "4     3.636364        NaN   2.730577  \n",
       "\n",
       "[5 rows x 71 columns]"
      ]
     },
     "execution_count": 13,
     "metadata": {},
     "output_type": "execute_result"
    }
   ],
   "source": [
    "burrito_table.head()"
   ]
  },
  {
   "cell_type": "code",
   "execution_count": 14,
   "id": "e2bb40f4-f5c9-42c7-84a8-dbe441972a38",
   "metadata": {
    "ExecuteTime": {
     "end_time": "2022-12-03T12:41:25.464206Z",
     "start_time": "2022-12-03T12:41:24.437212Z"
    }
   },
   "outputs": [],
   "source": [
    "cube = session.create_cube(burrito_table)"
   ]
  },
  {
   "cell_type": "code",
   "execution_count": 15,
   "id": "9203b3f4-353a-48b4-8677-d6f8493198e1",
   "metadata": {
    "ExecuteTime": {
     "end_time": "2022-12-03T12:41:25.480313Z",
     "start_time": "2022-12-03T12:41:25.467207Z"
    }
   },
   "outputs": [],
   "source": [
    "h = cube.hierarchies\n",
    "l = cube.levels\n",
    "m = cube.measures"
   ]
  },
  {
   "cell_type": "code",
   "execution_count": 16,
   "id": "8ef8448e-4979-4c55-adbf-80921a75aef6",
   "metadata": {
    "ExecuteTime": {
     "end_time": "2022-12-03T12:41:25.879342Z",
     "start_time": "2022-12-03T12:41:25.483313Z"
    }
   },
   "outputs": [],
   "source": [
    "m['five'] = 5\n",
    "m['lenXwrap'] = m['Length.MEAN'] * m['Wrap.MEAN']"
   ]
  },
  {
   "cell_type": "code",
   "execution_count": 17,
   "id": "7dd10de6-e2d2-4b3e-a878-a4ca374c12f5",
   "metadata": {
    "ExecuteTime": {
     "end_time": "2022-12-03T12:41:25.894344Z",
     "start_time": "2022-12-03T12:41:25.882345Z"
    },
    "atoti": {
     "widget": {
      "columnWidths": {
       "[burritos].[Location].[Location]": 181.22915649414062
      },
      "mapping": {
       "columns": [
        "ALL_MEASURES"
       ],
       "measures": [
        "[Measures].[five]",
        "[Measures].[Length.MEAN]",
        "[Measures].[lenXwrap]"
       ],
       "rows": [
        "[burritos].[Location].[Location]"
       ]
      },
      "query": {
       "mdx": "SELECT NON EMPTY Order(Hierarchize(Descendants({[burritos].[Location].[AllMember]}, 1, SELF_AND_BEFORE)), [Measures].[lenXwrap], DESC) ON ROWS, NON EMPTY {[Measures].[five], [Measures].[Length.MEAN], [Measures].[lenXwrap]} ON COLUMNS FROM [burritos] CELL PROPERTIES VALUE, FORMATTED_VALUE, BACK_COLOR, FORE_COLOR, FONT_FLAGS",
       "updateMode": "once"
      },
      "serverKey": "default",
      "widgetKey": "pivot-table"
     }
    },
    "tags": []
   },
   "outputs": [
    {
     "data": {
      "application/vnd.atoti.widget.v0+json": {
       "name": "exploration 1",
       "sessionId": "1670071259_H4LMX0",
       "sessionLocation": {
        "https": false,
        "port": 9000
       },
       "widgetCreationCode": "session.visualize()"
      },
      "text/plain": [
       "Open the notebook in JupyterLab with the atoti extension enabled to build this widget."
      ]
     },
     "metadata": {},
     "output_type": "display_data"
    }
   ],
   "source": [
    "session.visualize('exploration 1')"
   ]
  },
  {
   "cell_type": "code",
   "execution_count": 18,
   "id": "d7dcbdbf-f984-4f92-b035-0610462148bc",
   "metadata": {
    "ExecuteTime": {
     "end_time": "2022-12-03T12:41:25.926348Z",
     "start_time": "2022-12-03T12:41:25.898346Z"
    },
    "atoti": {
     "widget": {
      "mapping": {
       "color": [
        "[burritos].[Neighborhood].[Neighborhood]"
       ],
       "horizontalSubplots": [],
       "size": [],
       "splitBy": [
        "[burritos].[Location].[Location]"
       ],
       "verticalSubplots": [],
       "xValues": [
        "[Measures].[Yelp.MEAN]"
       ],
       "yValues": [
        "[Measures].[Google.MEAN]"
       ]
      },
      "name": "scatter plot",
      "query": {
       "mdx": "SELECT NON EMPTY {[Measures].[Yelp.MEAN], [Measures].[Google.MEAN]} ON COLUMNS, NON EMPTY Crossjoin(Hierarchize(Descendants({[burritos].[Neighborhood].[AllMember]}, 1, SELF_AND_BEFORE)), Hierarchize(Descendants({[burritos].[Location].[AllMember]}, 1, SELF_AND_BEFORE))) ON ROWS FROM [burritos] CELL PROPERTIES VALUE, FORMATTED_VALUE, BACK_COLOR, FORE_COLOR, FONT_FLAGS",
       "updateMode": "once"
      },
      "serverKey": "default",
      "widgetKey": "plotly-scatter-plot"
     }
    },
    "tags": []
   },
   "outputs": [
    {
     "data": {
      "application/vnd.atoti.widget.v0+json": {
       "name": "scatter plot neighborhood yelp google",
       "sessionId": "1670071259_H4LMX0",
       "sessionLocation": {
        "https": false,
        "port": 9000
       },
       "widgetCreationCode": "session.visualize()"
      },
      "text/plain": [
       "Open the notebook in JupyterLab with the atoti extension enabled to build this widget."
      ]
     },
     "metadata": {},
     "output_type": "display_data"
    }
   ],
   "source": [
    "session.visualize('scatter plot neighborhood yelp google')"
   ]
  },
  {
   "cell_type": "code",
   "execution_count": 19,
   "id": "214dd5de-234f-4a64-907b-24f973c2166b",
   "metadata": {
    "ExecuteTime": {
     "end_time": "2022-12-03T12:41:26.323397Z",
     "start_time": "2022-12-03T12:41:25.931350Z"
    }
   },
   "outputs": [],
   "source": [
    "burrito_var_table = session.read_pandas(burrito_variables, table_name = 'burrito_variables', keys=['Location','Burrito','variable'])"
   ]
  },
  {
   "cell_type": "code",
   "execution_count": 20,
   "id": "11650af9-58a2-4126-a746-cd6a475766e0",
   "metadata": {
    "ExecuteTime": {
     "end_time": "2022-12-03T12:41:26.640422Z",
     "start_time": "2022-12-03T12:41:26.326398Z"
    }
   },
   "outputs": [],
   "source": [
    "burrito_table.join(burrito_var_table)"
   ]
  },
  {
   "cell_type": "code",
   "execution_count": 21,
   "id": "bd1dd3ce-174f-4237-a1ea-5d93c50f7bf9",
   "metadata": {
    "ExecuteTime": {
     "end_time": "2022-12-03T12:41:26.815434Z",
     "start_time": "2022-12-03T12:41:26.643422Z"
    }
   },
   "outputs": [
    {
     "name": "stderr",
     "output_type": "stream",
     "text": [
      "D:\\Anaconda\\lib\\site-packages\\atoti\\scope\\_origin.py:8: FutureWarning: Creating a scope with this function is deprecated. Initialize an OriginScope directly instead.\n",
      "  deprecated(\n"
     ]
    }
   ],
   "source": [
    "m['value'] = tt.agg.mean(burrito_var_table[\"value\"])\n",
    "m['aggvalue'] = tt.agg.mean(m['value'], scope = tt.scope.origin(l['Location'],l['Burrito'],l['variable']))"
   ]
  },
  {
   "cell_type": "code",
   "execution_count": 22,
   "id": "9ed85dd1-d103-4d7c-8db7-871d218589cf",
   "metadata": {
    "ExecuteTime": {
     "end_time": "2022-12-03T12:41:26.831437Z",
     "start_time": "2022-12-03T12:41:26.819436Z"
    },
    "atoti": {
     "widget": {
      "mapping": {
       "axis": [
        "[burrito_variables].[variable].[variable]"
       ],
       "horizontalSubplots": [
        "[burritos].[Location].[Location]"
       ],
       "splitBy": [
        "ALL_MEASURES"
       ],
       "values": [
        "[Measures].[value]"
       ],
       "verticalSubplots": []
      },
      "name": "radar chart final",
      "query": {
       "mdx": "SELECT NON EMPTY Crossjoin(Hierarchize(Descendants({[burritos].[Location].[AllMember]}, 1, SELF_AND_BEFORE)), {[Measures].[value]}) ON COLUMNS, NON EMPTY Hierarchize(Descendants({[burrito_variables].[variable].[AllMember]}, 1, SELF_AND_BEFORE)) ON ROWS FROM [burritos] CELL PROPERTIES VALUE, FORMATTED_VALUE, BACK_COLOR, FORE_COLOR, FONT_FLAGS",
       "updateMode": "once"
      },
      "serverKey": "default",
      "widgetKey": "plotly-radar-chart"
     }
    },
    "tags": []
   },
   "outputs": [
    {
     "data": {
      "application/vnd.atoti.widget.v0+json": {
       "name": "radar chart final",
       "sessionId": "1670071259_H4LMX0",
       "sessionLocation": {
        "https": false,
        "port": 9000
       },
       "widgetCreationCode": "session.visualize()"
      },
      "text/plain": [
       "Open the notebook in JupyterLab with the atoti extension enabled to build this widget."
      ]
     },
     "metadata": {},
     "output_type": "display_data"
    }
   ],
   "source": [
    "session.visualize('radar chart final')"
   ]
  },
  {
   "cell_type": "code",
   "execution_count": 23,
   "id": "e53245d3-1848-45ed-a76f-044325cd900d",
   "metadata": {
    "ExecuteTime": {
     "end_time": "2022-12-03T12:41:26.894442Z",
     "start_time": "2022-12-03T12:41:26.838439Z"
    }
   },
   "outputs": [],
   "source": [
    "m['four'] = 4"
   ]
  },
  {
   "cell_type": "code",
   "execution_count": 24,
   "id": "4205eada-1e22-4b0a-8666-f6e463d08bb3",
   "metadata": {
    "ExecuteTime": {
     "end_time": "2022-12-03T12:41:26.958444Z",
     "start_time": "2022-12-03T12:41:26.897442Z"
    }
   },
   "outputs": [],
   "source": [
    "m['four_google'] = 4.25"
   ]
  },
  {
   "cell_type": "code",
   "execution_count": null,
   "id": "7863b9ea-0b25-4940-9cd5-1b123c84fa7b",
   "metadata": {},
   "outputs": [],
   "source": []
  }
 ],
 "metadata": {
  "kernelspec": {
   "display_name": "Python 3 (ipykernel)",
   "language": "python",
   "name": "python3"
  },
  "language_info": {
   "codemirror_mode": {
    "name": "ipython",
    "version": 3
   },
   "file_extension": ".py",
   "mimetype": "text/x-python",
   "name": "python",
   "nbconvert_exporter": "python",
   "pygments_lexer": "ipython3",
   "version": "3.8.8"
  }
 },
 "nbformat": 4,
 "nbformat_minor": 5
}
